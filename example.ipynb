{
 "cells": [
  {
   "cell_type": "code",
   "execution_count": 2,
   "metadata": {
    "scrolled": true
   },
   "outputs": [
    {
     "data": {
      "application/vnd.jupyter.widget-view+json": {
       "model_id": "a633de88ca5a4569a2a2f0e7639153f8",
       "version_major": 2,
       "version_minor": 0
      },
      "text/plain": []
     },
     "metadata": {},
     "output_type": "display_data"
    },
    {
     "data": {
      "application/vnd.jupyter.widget-view+json": {
       "model_id": "7a90374cee074ef8b4a3adb460d1133e",
       "version_major": 2,
       "version_minor": 0
      },
      "text/plain": [
       "StructureManagerWidget(children=(Tab(children=(StructureUploadWidget(children=(FileUpload(value={}, descriptio…"
      ]
     },
     "metadata": {},
     "output_type": "display_data"
    }
   ],
   "source": [
    "#from aiidalab_widgets_base import OptimadeQueryWidget\n",
    "from aiidalab_widgets_base import StructureBrowserWidget\n",
    "from aiidalab_widgets_base import StructureManagerWidget\n",
    "from aiidalab_widgets_base import StructureUploadWidget\n",
    "from aiidalab_widgets_base import SmilesWidget\n",
    "\n",
    "# Create the application steps\n",
    "structure_manager_widget = StructureManagerWidget(\n",
    "    importers=[\n",
    "        StructureUploadWidget(title=\"From computer\"),\n",
    "        SmilesWidget(title='SMILES'),\n",
    "        StructureBrowserWidget(title=\"AiiDA database\"),\n",
    "    ],\n",
    "    node_class='StructureData',\n",
    ")\n",
    "\n",
    "\n",
    "display(structure_manager_widget)"
   ]
  },
  {
   "cell_type": "code",
   "execution_count": 3,
   "metadata": {},
   "outputs": [],
   "source": [
    "from rdkit import Chem\n",
    "from rdkit.Chem import AllChem\n",
    "from rdkit.Chem.Draw import IPythonConsole #Needed to show molecules\n",
    "from rdkit.Chem.Draw.MolDrawing import MolDrawing, DrawingOptions\n",
    "DrawingOptions.bondLineWidth=1.8"
   ]
  },
  {
   "cell_type": "code",
   "execution_count": 4,
   "metadata": {},
   "outputs": [
    {
     "data": {
      "image/png": "[encoded data removed]",
      "text/plain": [
       "<rdkit.Chem.rdchem.Mol at 0x7f25fe479d00>"
      ]
     },
     "execution_count": 4,
     "metadata": {},
     "output_type": "execute_result"
    }
   ],
   "source": [
    "template = Chem.MolFromSmiles('c1nccc2n1ccc2')\n",
    "#AllChem.Compute2DCoords(template)\n",
    "template"
   ]
  },
  {
   "cell_type": "code",
   "execution_count": 5,
   "metadata": {},
   "outputs": [],
   "source": [
    "Chem.Draw.IPythonConsole.InstallIPythonRenderer()"
   ]
  },
  {
   "cell_type": "code",
   "execution_count": 6,
   "metadata": {},
   "outputs": [
    {
     "data": {
      "image/png": "[encoded data removed]",
      "text/plain": [
       "<rdkit.Chem.rdchem.Mol at 0x7f25fe37bc40>"
      ]
     },
     "execution_count": 6,
     "metadata": {},
     "output_type": "execute_result"
    }
   ],
   "source": [
    "mol = Chem.MolFromSmiles('C=C=C')\n",
    "mol = AllChem.AddHs(mol)\n",
    "DrawingOptions.includeAtomNumbers=True\n",
    "mol"
   ]
  },
  {
   "cell_type": "code",
   "execution_count": 7,
   "metadata": {},
   "outputs": [],
   "source": [
    "import ipywidgets as widgets"
   ]
  },
  {
   "cell_type": "code",
   "execution_count": 8,
   "metadata": {},
   "outputs": [
    {
     "data": {
      "application/vnd.jupyter.widget-view+json": {
       "model_id": "",
       "version_major": 2,
       "version_minor": 0
      },
      "text/plain": [
       "IntSlider(value=0)"
      ]
     },
     "metadata": {},
     "output_type": "display_data"
    }
   ],
   "source": [
    "w = widgets.IntSlider()\n",
    "display(w)"
   ]
  },
  {
   "cell_type": "code",
   "execution_count": 9,
   "metadata": {},
   "outputs": [
    {
     "data": {
      "application/vnd.jupyter.widget-view+json": {
       "model_id": "",
       "version_major": 2,
       "version_minor": 0
      },
      "text/plain": [
       "IntSlider(value=0)"
      ]
     },
     "metadata": {},
     "output_type": "display_data"
    }
   ],
   "source": [
    "display(w)"
   ]
  },
  {
   "cell_type": "code",
   "execution_count": 10,
   "metadata": {},
   "outputs": [],
   "source": [
    "w.close()"
   ]
  },
  {
   "cell_type": "code",
   "execution_count": 40,
   "metadata": {},
   "outputs": [
    {
     "data": {
      "application/vnd.jupyter.widget-view+json": {
       "model_id": "7c722f5353934284baea1cbb0d16e515",
       "version_major": 2,
       "version_minor": 0
      },
      "text/plain": [
       "FloatText(value=0.0)"
      ]
     },
     "metadata": {},
     "output_type": "display_data"
    },
    {
     "data": {
      "application/vnd.jupyter.widget-view+json": {
       "model_id": "a2b6fdb271c54c639e11b66c2e9d9c72",
       "version_major": 2,
       "version_minor": 0
      },
      "text/plain": [
       "FloatSlider(value=0.0)"
      ]
     },
     "metadata": {},
     "output_type": "display_data"
    }
   ],
   "source": [
    "a = widgets.FloatText()\n",
    "b = widgets.FloatSlider()\n",
    "display(a,b)\n",
    "\n",
    "mylink = widgets.jslink((a, 'value'), (b, 'value'))\n"
   ]
  },
  {
   "cell_type": "code",
   "execution_count": 11,
   "metadata": {},
   "outputs": [
    {
     "data": {
      "application/vnd.jupyter.widget-view+json": {
       "model_id": "77953d636cbb4b158615bb8d87e0ef8d",
       "version_major": 2,
       "version_minor": 0
      },
      "text/plain": [
       "Text(value='', description='String:', placeholder='SMILES input')"
      ]
     },
     "metadata": {},
     "output_type": "display_data"
    },
    {
     "data": {
      "application/vnd.jupyter.widget-view+json": {
       "model_id": "0ceda2ce9d934c60831f5e183939542c",
       "version_major": 2,
       "version_minor": 0
      },
      "text/plain": [
       "Output()"
      ]
     },
     "metadata": {},
     "output_type": "display_data"
    }
   ],
   "source": [
    "text = widgets.Text(\n",
    "    value='',\n",
    "    placeholder='SMILES input',\n",
    "    description='String:',\n",
    "    disabled=False\n",
    ")\n",
    "output = widgets.Output()\n",
    "\n",
    "display(text, output)\n",
    "\n",
    "def rdkit_2d_struct(smiles):\n",
    "    m = Chem.MolFromSmiles(smiles)\n",
    "    return m\n",
    "\n",
    "def on_text_change(change):\n",
    "    smiles = change['new']\n",
    "    try:\n",
    "        m = rdkit_2d_struct(smiles)\n",
    "        with output:\n",
    "            print(m)\n",
    "    except:\n",
    "        pass\n",
    "\n",
    "text.observe(on_text_change, names='value')"
   ]
  },
  {
   "cell_type": "markdown",
   "metadata": {},
   "source": [
    "## ORCA SUBMISSION TEST\n",
    "\n"
   ]
  },
  {
   "cell_type": "code",
   "execution_count": 1,
   "metadata": {},
   "outputs": [
    {
     "data": {
      "application/json": {
       "current_state": "Loaded AiiDA DB environment - profile name: default."
      },
      "text/html": [
       "<p>Loaded AiiDA DB environment - profile name: default.</p>"
      ],
      "text/latex": [
       "Loaded AiiDA DB environment - profile name: default.\n"
      ],
      "text/plain": [
       "Loaded AiiDA DB environment - profile name: default.\n"
      ]
     },
     "execution_count": 1,
     "metadata": {},
     "output_type": "execute_result"
    }
   ],
   "source": [
    "%aiida"
   ]
  },
  {
   "cell_type": "code",
   "execution_count": 5,
   "metadata": {},
   "outputs": [],
   "source": [
    "code = load_code('orca@localhost')\n",
    "builder = code.get_builder()"
   ]
  },
  {
   "cell_type": "code",
   "execution_count": 10,
   "metadata": {},
   "outputs": [],
   "source": [
    "params = {\n",
    "    'charge': 0,\n",
    "    'multiplicity': 1,\n",
    "    'input_blocks': {\n",
    "        'scf': {'convergence': 'tight'},\n",
    "        'pal': {'nproc': 1},\n",
    "    },\n",
    "    'input_keywords': ['PBE', 'def2-svp','Opt'],\n",
    "    'extra_input_keywords': []\n",
    "}\n",
    "builder.parameters = Dict(dict=params)"
   ]
  },
  {
   "cell_type": "code",
   "execution_count": 11,
   "metadata": {},
   "outputs": [],
   "source": [
    "struct = load_node(pk=2)\n",
    "builder.structure = struct"
   ]
  },
  {
   "cell_type": "code",
   "execution_count": 12,
   "metadata": {},
   "outputs": [],
   "source": [
    "builder.metadata.options.withmpi = False\n",
    "builder.metadata.options.resources = {\n",
    "    'tot_num_mpiprocs': 1,\n",
    "}\n",
    "builder.metadata.description = \"ORCA optimization\""
   ]
  },
  {
   "cell_type": "code",
   "execution_count": 14,
   "metadata": {},
   "outputs": [
    {
     "data": {
      "text/plain": [
       "<CalcJobNode: uuid: 1232d0ed-5f93-4efe-959f-2eadab6a349e (pk: 5) (aiida_orca.calculations.orca_main.OrcaCalculation)>"
      ]
     },
     "execution_count": 14,
     "metadata": {},
     "output_type": "execute_result"
    }
   ],
   "source": [
    "from aiida.engine import submit\n",
    "submit(builder)"
   ]
  },
  {
   "cell_type": "code",
   "execution_count": 17,
   "metadata": {},
   "outputs": [],
   "source": [
    "from aiidalab_widgets_base.viewers import StructureDataViewer"
   ]
  },
  {
   "cell_type": "markdown",
   "metadata": {},
   "source": [
    "# Spectrum testing"
   ]
  },
  {
   "cell_type": "code",
   "execution_count": 12,
   "metadata": {},
   "outputs": [],
   "source": [
    "from aiidalab_ispg.spectrum import Spectrum"
   ]
  },
  {
   "cell_type": "code",
   "execution_count": 13,
   "metadata": {},
   "outputs": [],
   "source": [
    "transition1 = {\n",
    "    'energy': 1, # Excited energy in eV\n",
    "    'osc_strength': '0.016510951'\n",
    "}\n",
    "transition2 = {\n",
    "    'energy': 2.0, # Excited energy in eV\n",
    "    'osc_strength': '0.0'\n",
    "}\n",
    "transitions = [transition1, transition2]\n",
    "nsample = 1\n",
    "spec = Spectrum(transitions, nsample)\n",
    "x, y = spec.get_lorentzian_spectrum(0.3, 'ev', 'cross_section')"
   ]
  },
  {
   "cell_type": "code",
   "execution_count": 24,
   "metadata": {},
   "outputs": [
    {
     "data": {
      "text/html": [
       "\n",
       "    <div class=\"bk-root\">\n",
       "        <a href=\"https://bokeh.org\" target=\"_blank\" class=\"bk-logo bk-logo-small bk-logo-notebook\"></a>\n",
       "        <span id=\"53416\">Loading BokehJS ...</span>\n",
       "    </div>"
      ]
     },
     "metadata": {},
     "output_type": "display_data"
    },
    {
     "data": {
      "application/javascript": [
       "\n",
       "(function(root) {\n",
       "  function now() {\n",
       "    return new Date();\n",
       "  }\n",
       "\n",
       "  const force = true;\n",
       "\n",
       "  if (typeof root._bokeh_onload_callbacks === \"undefined\" || force === true) {\n",
       "    root._bokeh_onload_callbacks = [];\n",
       "    root._bokeh_is_loading = undefined;\n",
       "  }\n",
       "\n",
       "  const JS_MIME_TYPE = 'application/javascript';\n",
       "  const HTML_MIME_TYPE = 'text/html';\n",
       "  const EXEC_MIME_TYPE = 'application/vnd.bokehjs_exec.v0+json';\n",
       "  const CLASS_NAME = 'output_bokeh rendered_html';\n",
       "\n",
       "  /**\n",
       "   * Render data to the DOM node\n",
       "   */\n",
       "  function render(props, node) {\n",
       "    const script = document.createElement(\"script\");\n",
       "    node.appendChild(script);\n",
       "  }\n",
       "\n",
       "  /**\n",
       "   * Handle when an output is cleared or removed\n",
       "   */\n",
       "  function handleClearOutput(event, handle) {\n",
       "    const cell = handle.cell;\n",
       "\n",
       "    const id = cell.output_area._bokeh_element_id;\n",
       "    const server_id = cell.output_area._bokeh_server_id;\n",
       "    // Clean up Bokeh references\n",
       "    if (id != null && id in Bokeh.index) {\n",
       "      Bokeh.index[id].model.document.clear();\n",
       "      delete Bokeh.index[id];\n",
       "    }\n",
       "\n",
       "    if (server_id !== undefined) {\n",
       "      // Clean up Bokeh references\n",
       "      const cmd_clean = \"from bokeh.io.state import curstate; print(curstate().uuid_to_server['\" + server_id + \"'].get_sessions()[0].document.roots[0]._id)\";\n",
       "      cell.notebook.kernel.execute(cmd_clean, {\n",
       "        iopub: {\n",
       "          output: function(msg) {\n",
       "            const id = msg.content.text.trim();\n",
       "            if (id in Bokeh.index) {\n",
       "              Bokeh.index[id].model.document.clear();\n",
       "              delete Bokeh.index[id];\n",
       "            }\n",
       "          }\n",
       "        }\n",
       "      });\n",
       "      // Destroy server and session\n",
       "      const cmd_destroy = \"import bokeh.io.notebook as ion; ion.destroy_server('\" + server_id + \"')\";\n",
       "      cell.notebook.kernel.execute(cmd_destroy);\n",
       "    }\n",
       "  }\n",
       "\n",
       "  /**\n",
       "   * Handle when a new output is added\n",
       "   */\n",
       "  function handleAddOutput(event, handle) {\n",
       "    const output_area = handle.output_area;\n",
       "    const output = handle.output;\n",
       "\n",
       "    // limit handleAddOutput to display_data with EXEC_MIME_TYPE content only\n",
       "    if ((output.output_type != \"display_data\") || (!Object.prototype.hasOwnProperty.call(output.data, EXEC_MIME_TYPE))) {\n",
       "      return\n",
       "    }\n",
       "\n",
       "    const toinsert = output_area.element.find(\".\" + CLASS_NAME.split(' ')[0]);\n",
       "\n",
       "    if (output.metadata[EXEC_MIME_TYPE][\"id\"] !== undefined) {\n",
       "      toinsert[toinsert.length - 1].firstChild.textContent = output.data[JS_MIME_TYPE];\n",
       "      // store reference to embed id on output_area\n",
       "      output_area._bokeh_element_id = output.metadata[EXEC_MIME_TYPE][\"id\"];\n",
       "    }\n",
       "    if (output.metadata[EXEC_MIME_TYPE][\"server_id\"] !== undefined) {\n",
       "      const bk_div = document.createElement(\"div\");\n",
       "      bk_div.innerHTML = output.data[HTML_MIME_TYPE];\n",
       "      const script_attrs = bk_div.children[0].attributes;\n",
       "      for (let i = 0; i < script_attrs.length; i++) {\n",
       "        toinsert[toinsert.length - 1].firstChild.setAttribute(script_attrs[i].name, script_attrs[i].value);\n",
       "        toinsert[toinsert.length - 1].firstChild.textContent = bk_div.children[0].textContent\n",
       "      }\n",
       "      // store reference to server id on output_area\n",
       "      output_area._bokeh_server_id = output.metadata[EXEC_MIME_TYPE][\"server_id\"];\n",
       "    }\n",
       "  }\n",
       "\n",
       "  function register_renderer(events, OutputArea) {\n",
       "\n",
       "    function append_mime(data, metadata, element) {\n",
       "      // create a DOM node to render to\n",
       "      const toinsert = this.create_output_subarea(\n",
       "        metadata,\n",
       "        CLASS_NAME,\n",
       "        EXEC_MIME_TYPE\n",
       "      );\n",
       "      this.keyboard_manager.register_events(toinsert);\n",
       "      // Render to node\n",
       "      const props = {data: data, metadata: metadata[EXEC_MIME_TYPE]};\n",
       "      render(props, toinsert[toinsert.length - 1]);\n",
       "      element.append(toinsert);\n",
       "      return toinsert\n",
       "    }\n",
       "\n",
       "    /* Handle when an output is cleared or removed */\n",
       "    events.on('clear_output.CodeCell', handleClearOutput);\n",
       "    events.on('delete.Cell', handleClearOutput);\n",
       "\n",
       "    /* Handle when a new output is added */\n",
       "    events.on('output_added.OutputArea', handleAddOutput);\n",
       "\n",
       "    /**\n",
       "     * Register the mime type and append_mime function with output_area\n",
       "     */\n",
       "    OutputArea.prototype.register_mime_type(EXEC_MIME_TYPE, append_mime, {\n",
       "      /* Is output safe? */\n",
       "      safe: true,\n",
       "      /* Index of renderer in `output_area.display_order` */\n",
       "      index: 0\n",
       "    });\n",
       "  }\n",
       "\n",
       "  // register the mime type if in Jupyter Notebook environment and previously unregistered\n",
       "  if (root.Jupyter !== undefined) {\n",
       "    const events = require('base/js/events');\n",
       "    const OutputArea = require('notebook/js/outputarea').OutputArea;\n",
       "\n",
       "    if (OutputArea.prototype.mime_types().indexOf(EXEC_MIME_TYPE) == -1) {\n",
       "      register_renderer(events, OutputArea);\n",
       "    }\n",
       "  }\n",
       "\n",
       "  \n",
       "  if (typeof (root._bokeh_timeout) === \"undefined\" || force === true) {\n",
       "    root._bokeh_timeout = Date.now() + 5000;\n",
       "    root._bokeh_failed_load = false;\n",
       "  }\n",
       "\n",
       "  const NB_LOAD_WARNING = {'data': {'text/html':\n",
       "     \"<div style='background-color: #fdd'>\\n\"+\n",
       "     \"<p>\\n\"+\n",
       "     \"BokehJS does not appear to have successfully loaded. If loading BokehJS from CDN, this \\n\"+\n",
       "     \"may be due to a slow or bad network connection. Possible fixes:\\n\"+\n",
       "     \"</p>\\n\"+\n",
       "     \"<ul>\\n\"+\n",
       "     \"<li>re-rerun `output_notebook()` to attempt to load from CDN again, or</li>\\n\"+\n",
       "     \"<li>use INLINE resources instead, as so:</li>\\n\"+\n",
       "     \"</ul>\\n\"+\n",
       "     \"<code>\\n\"+\n",
       "     \"from bokeh.resources import INLINE\\n\"+\n",
       "     \"output_notebook(resources=INLINE)\\n\"+\n",
       "     \"</code>\\n\"+\n",
       "     \"</div>\"}};\n",
       "\n",
       "  function display_loaded() {\n",
       "    const el = document.getElementById(\"53416\");\n",
       "    if (el != null) {\n",
       "      el.textContent = \"BokehJS is loading...\";\n",
       "    }\n",
       "    if (root.Bokeh !== undefined) {\n",
       "      if (el != null) {\n",
       "        el.textContent = \"BokehJS \" + root.Bokeh.version + \" successfully loaded.\";\n",
       "      }\n",
       "    } else if (Date.now() < root._bokeh_timeout) {\n",
       "      setTimeout(display_loaded, 100)\n",
       "    }\n",
       "  }\n",
       "\n",
       "\n",
       "  function run_callbacks() {\n",
       "    try {\n",
       "      root._bokeh_onload_callbacks.forEach(function(callback) {\n",
       "        if (callback != null)\n",
       "          callback();\n",
       "      });\n",
       "    } finally {\n",
       "      delete root._bokeh_onload_callbacks\n",
       "    }\n",
       "    console.debug(\"Bokeh: all callbacks have finished\");\n",
       "  }\n",
       "\n",
       "  function load_libs(css_urls, js_urls, callback) {\n",
       "    if (css_urls == null) css_urls = [];\n",
       "    if (js_urls == null) js_urls = [];\n",
       "\n",
       "    root._bokeh_onload_callbacks.push(callback);\n",
       "    if (root._bokeh_is_loading > 0) {\n",
       "      console.debug(\"Bokeh: BokehJS is being loaded, scheduling callback at\", now());\n",
       "      return null;\n",
       "    }\n",
       "    if (js_urls == null || js_urls.length === 0) {\n",
       "      run_callbacks();\n",
       "      return null;\n",
       "    }\n",
       "    console.debug(\"Bokeh: BokehJS not loaded, scheduling load and callback at\", now());\n",
       "    root._bokeh_is_loading = css_urls.length + js_urls.length;\n",
       "\n",
       "    function on_load() {\n",
       "      root._bokeh_is_loading--;\n",
       "      if (root._bokeh_is_loading === 0) {\n",
       "        console.debug(\"Bokeh: all BokehJS libraries/stylesheets loaded\");\n",
       "        run_callbacks()\n",
       "      }\n",
       "    }\n",
       "\n",
       "    function on_error(url) {\n",
       "      console.error(\"failed to load \" + url);\n",
       "    }\n",
       "\n",
       "    for (let i = 0; i < css_urls.length; i++) {\n",
       "      const url = css_urls[i];\n",
       "      const element = document.createElement(\"link\");\n",
       "      element.onload = on_load;\n",
       "      element.onerror = on_error.bind(null, url);\n",
       "      element.rel = \"stylesheet\";\n",
       "      element.type = \"text/css\";\n",
       "      element.href = url;\n",
       "      console.debug(\"Bokeh: injecting link tag for BokehJS stylesheet: \", url);\n",
       "      document.body.appendChild(element);\n",
       "    }\n",
       "\n",
       "    for (let i = 0; i < js_urls.length; i++) {\n",
       "      const url = js_urls[i];\n",
       "      const element = document.createElement('script');\n",
       "      element.onload = on_load;\n",
       "      element.onerror = on_error.bind(null, url);\n",
       "      element.async = false;\n",
       "      element.src = url;\n",
       "      console.debug(\"Bokeh: injecting script tag for BokehJS library: \", url);\n",
       "      document.head.appendChild(element);\n",
       "    }\n",
       "  };\n",
       "\n",
       "  function inject_raw_css(css) {\n",
       "    const element = document.createElement(\"style\");\n",
       "    element.appendChild(document.createTextNode(css));\n",
       "    document.body.appendChild(element);\n",
       "  }\n",
       "\n",
       "  \n",
       "  const js_urls = [\"https://cdn.bokeh.org/bokeh/release/bokeh-2.4.0.min.js\", \"https://cdn.bokeh.org/bokeh/release/bokeh-gl-2.4.0.min.js\", \"https://cdn.bokeh.org/bokeh/release/bokeh-widgets-2.4.0.min.js\", \"https://cdn.bokeh.org/bokeh/release/bokeh-tables-2.4.0.min.js\", \"https://cdn.bokeh.org/bokeh/release/bokeh-mathjax-2.4.0.min.js\"];\n",
       "  const css_urls = [];\n",
       "  \n",
       "\n",
       "  const inline_js = [\n",
       "    function(Bokeh) {\n",
       "      Bokeh.set_log_level(\"info\");\n",
       "    },\n",
       "    function(Bokeh) {\n",
       "    \n",
       "    \n",
       "    }\n",
       "  ];\n",
       "\n",
       "  function run_inline_js() {\n",
       "    \n",
       "    if (root.Bokeh !== undefined || force === true) {\n",
       "      \n",
       "    for (let i = 0; i < inline_js.length; i++) {\n",
       "      inline_js[i].call(root, root.Bokeh);\n",
       "    }\n",
       "    if (force === true) {\n",
       "        display_loaded();\n",
       "      }} else if (Date.now() < root._bokeh_timeout) {\n",
       "      setTimeout(run_inline_js, 100);\n",
       "    } else if (!root._bokeh_failed_load) {\n",
       "      console.log(\"Bokeh: BokehJS failed to load within specified timeout.\");\n",
       "      root._bokeh_failed_load = true;\n",
       "    } else if (force !== true) {\n",
       "      const cell = $(document.getElementById(\"53416\")).parents('.cell').data().cell;\n",
       "      cell.output_area.append_execute_result(NB_LOAD_WARNING)\n",
       "    }\n",
       "\n",
       "  }\n",
       "\n",
       "  if (root._bokeh_is_loading === 0) {\n",
       "    console.debug(\"Bokeh: BokehJS loaded, going straight to plotting\");\n",
       "    run_inline_js();\n",
       "  } else {\n",
       "    load_libs(css_urls, js_urls, function() {\n",
       "      console.debug(\"Bokeh: BokehJS plotting callback run at\", now());\n",
       "      run_inline_js();\n",
       "    });\n",
       "  }\n",
       "}(window));"
      ],
      "application/vnd.bokehjs_load.v0+json": "\n(function(root) {\n  function now() {\n    return new Date();\n  }\n\n  const force = true;\n\n  if (typeof root._bokeh_onload_callbacks === \"undefined\" || force === true) {\n    root._bokeh_onload_callbacks = [];\n    root._bokeh_is_loading = undefined;\n  }\n\n  \n\n  \n  if (typeof (root._bokeh_timeout) === \"undefined\" || force === true) {\n    root._bokeh_timeout = Date.now() + 5000;\n    root._bokeh_failed_load = false;\n  }\n\n  const NB_LOAD_WARNING = {'data': {'text/html':\n     \"<div style='background-color: #fdd'>\\n\"+\n     \"<p>\\n\"+\n     \"BokehJS does not appear to have successfully loaded. If loading BokehJS from CDN, this \\n\"+\n     \"may be due to a slow or bad network connection. Possible fixes:\\n\"+\n     \"</p>\\n\"+\n     \"<ul>\\n\"+\n     \"<li>re-rerun `output_notebook()` to attempt to load from CDN again, or</li>\\n\"+\n     \"<li>use INLINE resources instead, as so:</li>\\n\"+\n     \"</ul>\\n\"+\n     \"<code>\\n\"+\n     \"from bokeh.resources import INLINE\\n\"+\n     \"output_notebook(resources=INLINE)\\n\"+\n     \"</code>\\n\"+\n     \"</div>\"}};\n\n  function display_loaded() {\n    const el = document.getElementById(\"53416\");\n    if (el != null) {\n      el.textContent = \"BokehJS is loading...\";\n    }\n    if (root.Bokeh !== undefined) {\n      if (el != null) {\n        el.textContent = \"BokehJS \" + root.Bokeh.version + \" successfully loaded.\";\n      }\n    } else if (Date.now() < root._bokeh_timeout) {\n      setTimeout(display_loaded, 100)\n    }\n  }\n\n\n  function run_callbacks() {\n    try {\n      root._bokeh_onload_callbacks.forEach(function(callback) {\n        if (callback != null)\n          callback();\n      });\n    } finally {\n      delete root._bokeh_onload_callbacks\n    }\n    console.debug(\"Bokeh: all callbacks have finished\");\n  }\n\n  function load_libs(css_urls, js_urls, callback) {\n    if (css_urls == null) css_urls = [];\n    if (js_urls == null) js_urls = [];\n\n    root._bokeh_onload_callbacks.push(callback);\n    if (root._bokeh_is_loading > 0) {\n      console.debug(\"Bokeh: BokehJS is being loaded, scheduling callback at\", now());\n      return null;\n    }\n    if (js_urls == null || js_urls.length === 0) {\n      run_callbacks();\n      return null;\n    }\n    console.debug(\"Bokeh: BokehJS not loaded, scheduling load and callback at\", now());\n    root._bokeh_is_loading = css_urls.length + js_urls.length;\n\n    function on_load() {\n      root._bokeh_is_loading--;\n      if (root._bokeh_is_loading === 0) {\n        console.debug(\"Bokeh: all BokehJS libraries/stylesheets loaded\");\n        run_callbacks()\n      }\n    }\n\n    function on_error(url) {\n      console.error(\"failed to load \" + url);\n    }\n\n    for (let i = 0; i < css_urls.length; i++) {\n      const url = css_urls[i];\n      const element = document.createElement(\"link\");\n      element.onload = on_load;\n      element.onerror = on_error.bind(null, url);\n      element.rel = \"stylesheet\";\n      element.type = \"text/css\";\n      element.href = url;\n      console.debug(\"Bokeh: injecting link tag for BokehJS stylesheet: \", url);\n      document.body.appendChild(element);\n    }\n\n    for (let i = 0; i < js_urls.length; i++) {\n      const url = js_urls[i];\n      const element = document.createElement('script');\n      element.onload = on_load;\n      element.onerror = on_error.bind(null, url);\n      element.async = false;\n      element.src = url;\n      console.debug(\"Bokeh: injecting script tag for BokehJS library: \", url);\n      document.head.appendChild(element);\n    }\n  };\n\n  function inject_raw_css(css) {\n    const element = document.createElement(\"style\");\n    element.appendChild(document.createTextNode(css));\n    document.body.appendChild(element);\n  }\n\n  \n  const js_urls = [\"https://cdn.bokeh.org/bokeh/release/bokeh-2.4.0.min.js\", \"https://cdn.bokeh.org/bokeh/release/bokeh-gl-2.4.0.min.js\", \"https://cdn.bokeh.org/bokeh/release/bokeh-widgets-2.4.0.min.js\", \"https://cdn.bokeh.org/bokeh/release/bokeh-tables-2.4.0.min.js\", \"https://cdn.bokeh.org/bokeh/release/bokeh-mathjax-2.4.0.min.js\"];\n  const css_urls = [];\n  \n\n  const inline_js = [\n    function(Bokeh) {\n      Bokeh.set_log_level(\"info\");\n    },\n    function(Bokeh) {\n    \n    \n    }\n  ];\n\n  function run_inline_js() {\n    \n    if (root.Bokeh !== undefined || force === true) {\n      \n    for (let i = 0; i < inline_js.length; i++) {\n      inline_js[i].call(root, root.Bokeh);\n    }\n    if (force === true) {\n        display_loaded();\n      }} else if (Date.now() < root._bokeh_timeout) {\n      setTimeout(run_inline_js, 100);\n    } else if (!root._bokeh_failed_load) {\n      console.log(\"Bokeh: BokehJS failed to load within specified timeout.\");\n      root._bokeh_failed_load = true;\n    } else if (force !== true) {\n      const cell = $(document.getElementById(\"53416\")).parents('.cell').data().cell;\n      cell.output_area.append_execute_result(NB_LOAD_WARNING)\n    }\n\n  }\n\n  if (root._bokeh_is_loading === 0) {\n    console.debug(\"Bokeh: BokehJS loaded, going straight to plotting\");\n    run_inline_js();\n  } else {\n    load_libs(css_urls, js_urls, function() {\n      console.debug(\"Bokeh: BokehJS plotting callback run at\", now());\n      run_inline_js();\n    });\n  }\n}(window));"
     },
     "metadata": {},
     "output_type": "display_data"
    }
   ],
   "source": [
    "from bokeh.plotting import figure\n",
    "from bokeh.io import show, output_notebook, push_notebook\n",
    "import ipywidgets as ipw\n",
    "output_notebook()"
   ]
  },
  {
   "cell_type": "code",
   "execution_count": 33,
   "metadata": {},
   "outputs": [
    {
     "data": {
      "text/html": [
       "\n",
       "\n",
       "\n",
       "\n",
       "\n",
       "\n",
       "  <div class=\"bk-root\" id=\"b4ac2783-03a1-4d02-912d-327719f675d8\" data-root-id=\"58279\"></div>\n"
      ]
     },
     "metadata": {},
     "output_type": "display_data"
    },
    {
     "data": {
      "application/javascript": [
       "(function(root) {\n",
       "  function embed_document(root) {\n",
       "    \n",
       "  const docs_json = {\"de61a692-cca6-4798-9e99-a06a0721bbec\":{\"defs\":[],\"roots\":{\"references\":[{\"attributes\":{\"below\":[{\"id\":\"58290\"}],\"center\":[{\"id\":\"58293\"},{\"id\":\"58297\"}],\"left\":[{\"id\":\"58294\"}],\"renderers\":[{\"id\":\"58316\"}],\"title\":{\"id\":\"58280\"},\"toolbar\":{\"id\":\"58305\"},\"x_range\":{\"id\":\"58282\"},\"x_scale\":{\"id\":\"58286\"},\"y_range\":{\"id\":\"58284\"},\"y_scale\":{\"id\":\"58288\"}},\"id\":\"58279\",\"subtype\":\"Figure\",\"type\":\"Plot\"},{\"attributes\":{\"data\":{\"x\":{\"__ndarray__\":\"AAAAAAAAAAB7FK5H4XqUP3sUrkfheqQ/uB6F61G4rj97FK5H4Xq0P5qZmZmZmbk/uB6F61G4vj/sUbgehevBP3sUrkfhesQ/CtejcD0Kxz+amZmZmZnJPylcj8L1KMw/uB6F61G4zj+kcD0K16PQP+xRuB6F69E/MzMzMzMz0z97FK5H4XrUP8P1KFyPwtU/CtejcD0K1z9SuB6F61HYP5qZmZmZmdk/4XoUrkfh2j8pXI/C9SjcP3E9CtejcN0/uB6F61G43j8AAAAAAADgP6RwPQrXo+A/SOF6FK5H4T/sUbgehevhP4/C9Shcj+I/MzMzMzMz4z/Xo3A9CtfjP3sUrkfheuQ/H4XrUbge5T/D9Shcj8LlP2dmZmZmZuY/CtejcD0K5z+uR+F6FK7nP1K4HoXrUeg/9ihcj8L16D+amZmZmZnpPz4K16NwPeo/4XoUrkfh6j+F61G4HoXrPylcj8L1KOw/zczMzMzM7D9xPQrXo3DtPxWuR+F6FO4/uB6F61G47j9cj8L1KFzvPwAAAAAAAPA/UrgehetR8D+kcD0K16PwP/YoXI/C9fA/SOF6FK5H8T+amZmZmZnxP+xRuB6F6/E/PgrXo3A98j+PwvUoXI/yP+F6FK5H4fI/MzMzMzMz8z+F61G4HoXzP9ejcD0K1/M/KVyPwvUo9D97FK5H4Xr0P83MzMzMzPQ/H4XrUbge9T9xPQrXo3D1P8P1KFyPwvU/Fa5H4XoU9j9nZmZmZmb2P7gehetRuPY/CtejcD0K9z9cj8L1KFz3P65H4XoUrvc/AAAAAAAA+D9SuB6F61H4P6RwPQrXo/g/9ihcj8L1+D9I4XoUrkf5P5qZmZmZmfk/7FG4HoXr+T8+CtejcD36P5DC9Shcj/o/4XoUrkfh+j8zMzMzMzP7P4XrUbgehfs/16NwPQrX+z8pXI/C9Sj8P3sUrkfhevw/zczMzMzM/D8fhetRuB79P3E9CtejcP0/w/UoXI/C/T8VrkfhehT+P2dmZmZmZv4/uB6F61G4/j8K16NwPQr/P1yPwvUoXP8/rkfhehSu/z8AAAAAAAAAQClcj8L1KABAUrgehetRAEB7FK5H4XoAQKRwPQrXowBAzczMzMzMAED2KFyPwvUAQB+F61G4HgFASOF6FK5HAUBxPQrXo3ABQJqZmZmZmQFAw/UoXI/CAUDsUbgehesBQBWuR+F6FAJAPgrXo3A9AkBnZmZmZmYCQI/C9ShcjwJAuB6F61G4AkDhehSuR+ECQArXo3A9CgNAMzMzMzMzA0Bcj8L1KFwDQIXrUbgehQNArkfhehSuA0DXo3A9CtcDQAAAAAAAAARAKVyPwvUoBEBSuB6F61EEQHsUrkfhegRApHA9CtejBEDNzMzMzMwEQPYoXI/C9QRAH4XrUbgeBUBI4XoUrkcFQHE9CtejcAVAmpmZmZmZBUDD9Shcj8IFQOxRuB6F6wVAFa5H4XoUBkA+CtejcD0GQGdmZmZmZgZAj8L1KFyPBkC4HoXrUbgGQOF6FK5H4QZACtejcD0KB0AzMzMzMzMHQFyPwvUoXAdAhetRuB6FB0CuR+F6FK4HQNejcD0K1wdAAAAAAAAACEApXI/C9SgIQFK4HoXrUQhAexSuR+F6CECkcD0K16MIQM3MzMzMzAhA9ihcj8L1CEAfhetRuB4JQEjhehSuRwlAcT0K16NwCUCamZmZmZkJQMP1KFyPwglA7FG4HoXrCUAVrkfhehQKQD4K16NwPQpAZ2ZmZmZmCkCQwvUoXI8KQLgehetRuApA4XoUrkfhCkAK16NwPQoLQDMzMzMzMwtAXI/C9ShcC0CF61G4HoULQK5H4XoUrgtA16NwPQrXC0AAAAAAAAAMQClcj8L1KAxAUrgehetRDEB7FK5H4XoMQKRwPQrXowxAzczMzMzMDED2KFyPwvUMQB+F61G4Hg1ASOF6FK5HDUBxPQrXo3ANQJqZmZmZmQ1Aw/UoXI/CDUDsUbgehesNQBWuR+F6FA5APgrXo3A9DkBnZmZmZmYOQJDC9Shcjw5AuB6F61G4DkDhehSuR+EOQArXo3A9Cg9AMzMzMzMzD0Bcj8L1KFwPQIXrUbgehQ9ArkfhehSuD0DXo3A9CtcPQA==\",\"dtype\":\"float64\",\"order\":\"little\",\"shape\":[200]},\"y\":{\"__ndarray__\":\"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\",\"dtype\":\"float64\",\"order\":\"little\",\"shape\":[200]}},\"selected\":{\"id\":\"59286\"},\"selection_policy\":{\"id\":\"59285\"}},\"id\":\"58312\",\"type\":\"ColumnDataSource\"},{\"attributes\":{},\"id\":\"59280\",\"type\":\"BasicTickFormatter\"},{\"attributes\":{\"coordinates\":null,\"data_source\":{\"id\":\"58312\"},\"glyph\":{\"id\":\"58313\"},\"group\":null,\"hover_glyph\":null,\"muted_glyph\":{\"id\":\"58315\"},\"nonselection_glyph\":{\"id\":\"58314\"},\"view\":{\"id\":\"58317\"}},\"id\":\"58316\",\"type\":\"GlyphRenderer\"},{\"attributes\":{\"line_color\":\"#1f77b4\",\"line_width\":2,\"x\":{\"field\":\"x\"},\"y\":{\"field\":\"y\"}},\"id\":\"58313\",\"type\":\"Line\"},{\"attributes\":{},\"id\":\"59281\",\"type\":\"AllLabels\"},{\"attributes\":{\"axis_label\":\"I / cm^-2 * molecule ^ -1\",\"coordinates\":null,\"formatter\":{\"id\":\"59280\"},\"group\":null,\"major_label_policy\":{\"id\":\"59281\"},\"ticker\":{\"id\":\"58295\"}},\"id\":\"58294\",\"type\":\"LinearAxis\"},{\"attributes\":{},\"id\":\"59283\",\"type\":\"BasicTickFormatter\"},{\"attributes\":{\"line_alpha\":0.1,\"line_color\":\"#1f77b4\",\"line_width\":2,\"x\":{\"field\":\"x\"},\"y\":{\"field\":\"y\"}},\"id\":\"58314\",\"type\":\"Line\"},{\"attributes\":{},\"id\":\"59284\",\"type\":\"AllLabels\"},{\"attributes\":{\"axis_label\":\"E / eV\",\"coordinates\":null,\"formatter\":{\"id\":\"59283\"},\"group\":null,\"major_label_policy\":{\"id\":\"59284\"},\"ticker\":{\"id\":\"58291\"}},\"id\":\"58290\",\"type\":\"LinearAxis\"},{\"attributes\":{},\"id\":\"58302\",\"type\":\"ResetTool\"},{\"attributes\":{},\"id\":\"58291\",\"type\":\"BasicTicker\"},{\"attributes\":{\"tools\":[{\"id\":\"58298\"},{\"id\":\"58299\"},{\"id\":\"58300\"},{\"id\":\"58301\"},{\"id\":\"58302\"},{\"id\":\"58303\"}]},\"id\":\"58305\",\"type\":\"Toolbar\"},{\"attributes\":{\"axis\":{\"id\":\"58294\"},\"coordinates\":null,\"dimension\":1,\"group\":null,\"ticker\":null},\"id\":\"58297\",\"type\":\"Grid\"},{\"attributes\":{},\"id\":\"58299\",\"type\":\"WheelZoomTool\"},{\"attributes\":{},\"id\":\"58286\",\"type\":\"LinearScale\"},{\"attributes\":{},\"id\":\"58303\",\"type\":\"HelpTool\"},{\"attributes\":{\"axis\":{\"id\":\"58290\"},\"coordinates\":null,\"group\":null,\"ticker\":null},\"id\":\"58293\",\"type\":\"Grid\"},{\"attributes\":{},\"id\":\"59285\",\"type\":\"UnionRenderers\"},{\"attributes\":{\"line_alpha\":0.2,\"line_color\":\"#1f77b4\",\"line_width\":2,\"x\":{\"field\":\"x\"},\"y\":{\"field\":\"y\"}},\"id\":\"58315\",\"type\":\"Line\"},{\"attributes\":{\"bottom_units\":\"screen\",\"coordinates\":null,\"fill_alpha\":0.5,\"fill_color\":\"lightgrey\",\"group\":null,\"left_units\":\"screen\",\"level\":\"overlay\",\"line_alpha\":1.0,\"line_color\":\"black\",\"line_dash\":[4,4],\"line_width\":2,\"right_units\":\"screen\",\"syncable\":false,\"top_units\":\"screen\"},\"id\":\"58304\",\"type\":\"BoxAnnotation\"},{\"attributes\":{},\"id\":\"58298\",\"type\":\"PanTool\"},{\"attributes\":{},\"id\":\"59286\",\"type\":\"Selection\"},{\"attributes\":{\"source\":{\"id\":\"58312\"}},\"id\":\"58317\",\"type\":\"CDSView\"},{\"attributes\":{},\"id\":\"58282\",\"type\":\"DataRange1d\"},{\"attributes\":{\"overlay\":{\"id\":\"58304\"}},\"id\":\"58300\",\"type\":\"BoxZoomTool\"},{\"attributes\":{},\"id\":\"58295\",\"type\":\"BasicTicker\"},{\"attributes\":{},\"id\":\"58301\",\"type\":\"SaveTool\"},{\"attributes\":{\"coordinates\":null,\"group\":null,\"text\":\"Spectrum test\"},\"id\":\"58280\",\"type\":\"Title\"},{\"attributes\":{},\"id\":\"58284\",\"type\":\"DataRange1d\"},{\"attributes\":{},\"id\":\"58288\",\"type\":\"LinearScale\"}],\"root_ids\":[\"58279\"]},\"title\":\"Bokeh Application\",\"version\":\"2.4.0\"}};\n",
       "  const render_items = [{\"docid\":\"de61a692-cca6-4798-9e99-a06a0721bbec\",\"notebook_comms_target\":\"59288\",\"root_ids\":[\"58279\"],\"roots\":{\"58279\":\"b4ac2783-03a1-4d02-912d-327719f675d8\"}}];\n",
       "  root.Bokeh.embed.embed_items_notebook(docs_json, render_items);\n",
       "\n",
       "  }\n",
       "  if (root.Bokeh !== undefined) {\n",
       "    embed_document(root);\n",
       "  } else {\n",
       "    let attempts = 0;\n",
       "    const timer = setInterval(function(root) {\n",
       "      if (root.Bokeh !== undefined) {\n",
       "        clearInterval(timer);\n",
       "        embed_document(root);\n",
       "      } else {\n",
       "        attempts++;\n",
       "        if (attempts > 100) {\n",
       "          clearInterval(timer);\n",
       "          console.log(\"Bokeh: ERROR: Unable to run BokehJS code because BokehJS library is missing\");\n",
       "        }\n",
       "      }\n",
       "    }, 10, root)\n",
       "  }\n",
       "})(window);"
      ],
      "application/vnd.bokehjs_exec.v0+json": ""
     },
     "metadata": {
      "application/vnd.bokehjs_exec.v0+json": {
       "id": "58279"
      }
     },
     "output_type": "display_data"
    },
    {
     "data": {
      "application/vnd.jupyter.widget-view+json": {
       "model_id": "8e3dabda756347b0ab97c72a2b5e4a33",
       "version_major": 2,
       "version_minor": 0
      },
      "text/plain": [
       "interactive(children=(FloatSlider(value=0.5, description='width', max=1.0, min=0.05, step=0.05), Output()), _d…"
      ]
     },
     "metadata": {},
     "output_type": "display_data"
    }
   ],
   "source": [
    "spec = Spectrum(transitions, nsample)\n",
    "\n",
    "# TODO: Figure out how to use with ipywidgets\n",
    "# https://github.com/bokeh/bokeh/issues/7023\n",
    "\n",
    "# Initial spectrum\n",
    "x, y = spec.get_lorentzian_spectrum(0.5, 'ev', 'cross_section')    \n",
    "f = figure(title=\"Spectrum test\",  x_axis_label='E / eV',   y_axis_label='I / cm^-2 * molecule ^ -1')\n",
    "line = f.line(x, y, line_width=2)\n",
    "\n",
    "def plot_spectrum(width):\n",
    "    nsample = 1\n",
    "    x, y = spec.get_lorentzian_spectrum(width, 'ev', 'cross_section')\n",
    "    line.data_source.data['x'] = x\n",
    "    line.data_source.data['y'] = y\n",
    "    push_notebook()\n",
    "\n",
    "handle = show(f, notebook_handle=True)\n",
    "i = ipw.interact(plot_spectrum, width=(0.05, 1.0, 0.05))"
   ]
  },
  {
   "cell_type": "code",
   "execution_count": null,
   "metadata": {},
   "outputs": [],
   "source": []
  }
 ],
 "metadata": {
  "kernelspec": {
   "display_name": "Python 3 (ipykernel)",
   "language": "python",
   "name": "python3"
  },
  "language_info": {
   "codemirror_mode": {
    "name": "ipython",
    "version": 3
   },
   "file_extension": ".py",
   "mimetype": "text/x-python",
   "name": "python",
   "nbconvert_exporter": "python",
   "pygments_lexer": "ipython3",
   "version": "3.8.10"
  }
 },
 "nbformat": 4,
 "nbformat_minor": 2
}
