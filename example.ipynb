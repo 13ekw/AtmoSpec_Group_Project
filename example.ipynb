{
 "cells": [
  {
   "cell_type": "markdown",
   "metadata": {},
   "source": [
    "## Playing with StructureManagerWidget"
   ]
  },
  {
   "cell_type": "code",
   "execution_count": null,
   "metadata": {},
   "outputs": [],
   "source": [
    "#from aiidalab_widgets_base import OptimadeQueryWidget\n",
    "from aiidalab_widgets_base import StructureBrowserWidget\n",
    "from aiidalab_widgets_base import StructureManagerWidget\n",
    "from aiidalab_widgets_base import StructureUploadWidget\n",
    "from aiidalab_widgets_base import SmilesWidget\n",
    "\n",
    "# Create the application steps\n",
    "structure_manager_widget = StructureManagerWidget(\n",
    "    importers=[\n",
    "        StructureUploadWidget(title=\"From computer\"),\n",
    "        SmilesWidget(title='SMILES'),\n",
    "        StructureBrowserWidget(title=\"AiiDA database\"),\n",
    "    ],\n",
    "    node_class='StructureData',\n",
    ")\n",
    "\n",
    "\n",
    "display(structure_manager_widget)"
   ]
  },
  {
   "cell_type": "markdown",
   "metadata": {},
   "source": [
    "## Playing with RDKit"
   ]
  },
  {
   "cell_type": "code",
   "execution_count": null,
   "metadata": {},
   "outputs": [],
   "source": [
    "from rdkit import Chem\n",
    "from rdkit.Chem import AllChem\n",
    "from rdkit.Chem.Draw import IPythonConsole #Needed to show molecules\n",
    "from rdkit.Chem.Draw.MolDrawing import MolDrawing, DrawingOptions\n",
    "DrawingOptions.bondLineWidth=1.8"
   ]
  },
  {
   "cell_type": "code",
   "execution_count": null,
   "metadata": {},
   "outputs": [],
   "source": [
    "template = Chem.MolFromSmiles('c1nccc2n1ccc2')\n",
    "#AllChem.Compute2DCoords(template)\n",
    "template"
   ]
  },
  {
   "cell_type": "code",
   "execution_count": null,
   "metadata": {},
   "outputs": [],
   "source": [
    "Chem.Draw.IPythonConsole.InstallIPythonRenderer()"
   ]
  },
  {
   "cell_type": "code",
   "execution_count": null,
   "metadata": {},
   "outputs": [],
   "source": [
    "mol = Chem.MolFromSmiles('C=C=C')\n",
    "mol = AllChem.AddHs(mol)\n",
    "DrawingOptions.includeAtomNumbers=True\n",
    "mol"
   ]
  },
  {
   "cell_type": "code",
   "execution_count": null,
   "metadata": {},
   "outputs": [],
   "source": [
    "import ipywidgets as widgets"
   ]
  },
  {
   "cell_type": "code",
   "execution_count": null,
   "metadata": {},
   "outputs": [],
   "source": [
    "w = widgets.IntSlider()\n",
    "display(w)"
   ]
  },
  {
   "cell_type": "code",
   "execution_count": null,
   "metadata": {},
   "outputs": [],
   "source": [
    "display(w)"
   ]
  },
  {
   "cell_type": "code",
   "execution_count": null,
   "metadata": {},
   "outputs": [],
   "source": [
    "w.close()"
   ]
  },
  {
   "cell_type": "code",
   "execution_count": null,
   "metadata": {},
   "outputs": [],
   "source": [
    "a = widgets.FloatText()\n",
    "b = widgets.FloatSlider()\n",
    "display(a,b)\n",
    "\n",
    "mylink = widgets.jslink((a, 'value'), (b, 'value'))\n"
   ]
  },
  {
   "cell_type": "code",
   "execution_count": null,
   "metadata": {},
   "outputs": [],
   "source": [
    "text = widgets.Text(\n",
    "    value='',\n",
    "    placeholder='SMILES input',\n",
    "    description='String:',\n",
    "    disabled=False\n",
    ")\n",
    "output = widgets.Output()\n",
    "\n",
    "display(text, output)\n",
    "\n",
    "def rdkit_2d_struct(smiles):\n",
    "    m = Chem.MolFromSmiles(smiles)\n",
    "    return m\n",
    "\n",
    "def on_text_change(change):\n",
    "    smiles = change['new']\n",
    "    try:\n",
    "        m = rdkit_2d_struct(smiles)\n",
    "        with output:\n",
    "            print(m)\n",
    "    except:\n",
    "        pass\n",
    "\n",
    "text.observe(on_text_change, names='value')"
   ]
  },
  {
   "cell_type": "markdown",
   "metadata": {},
   "source": [
    "## ORCA SUBMISSION TEST\n",
    "\n"
   ]
  },
  {
   "cell_type": "code",
   "execution_count": null,
   "metadata": {},
   "outputs": [],
   "source": [
    "%aiida"
   ]
  },
  {
   "cell_type": "code",
   "execution_count": null,
   "metadata": {},
   "outputs": [],
   "source": [
    "code = load_code('orca@localhost')\n",
    "builder = code.get_builder()"
   ]
  },
  {
   "cell_type": "code",
   "execution_count": null,
   "metadata": {},
   "outputs": [],
   "source": [
    "params = {\n",
    "    'charge': 0,\n",
    "    'multiplicity': 1,\n",
    "    'input_blocks': {\n",
    "        'scf': {'convergence': 'tight'},\n",
    "        'pal': {'nproc': 1},\n",
    "    },\n",
    "    'input_keywords': ['PBE', 'def2-svp','Opt'],\n",
    "    'extra_input_keywords': []\n",
    "}\n",
    "builder.parameters = Dict(dict=params)"
   ]
  },
  {
   "cell_type": "code",
   "execution_count": null,
   "metadata": {},
   "outputs": [],
   "source": [
    "struct = load_node(pk=2)\n",
    "builder.structure = struct"
   ]
  },
  {
   "cell_type": "code",
   "execution_count": null,
   "metadata": {},
   "outputs": [],
   "source": [
    "builder.metadata.options.withmpi = False\n",
    "builder.metadata.options.resources = {\n",
    "    'tot_num_mpiprocs': 1,\n",
    "}\n",
    "builder.metadata.description = \"ORCA optimization\""
   ]
  },
  {
   "cell_type": "code",
   "execution_count": null,
   "metadata": {},
   "outputs": [],
   "source": [
    "#from aiida.engine import submit\n",
    "#calc_node = submit(builder)"
   ]
  },
  {
   "cell_type": "code",
   "execution_count": null,
   "metadata": {},
   "outputs": [],
   "source": [
    "from aiidalab_widgets_base import AiidaNodeViewWidget, ProcessNodesTreeWidget, ProcessMonitor\n",
    "import ipywidgets as ipw\n",
    "\n",
    "process_tree = ProcessNodesTreeWidget()\n",
    "node_view = AiidaNodeViewWidget(layout={\"width\": \"auto\", \"height\": \"auto\"})\n",
    "ipw.dlink(\n",
    "    (process_tree, \"selected_nodes\"),\n",
    "    (node_view, \"node\"),\n",
    "    transform=lambda nodes: nodes[0] if nodes else None,\n",
    ")\n",
    "\n",
    "w = ipw.VBox(children=[process_tree, node_view])\n",
    "process_monitor = ProcessMonitor(\n",
    "            timeout=0.1,\n",
    "            callbacks=[\n",
    "                process_tree.update,\n",
    "            ],\n",
    ")\n",
    "ipw.dlink((process_tree, \"process\"), (process_monitor, \"process\"))\n",
    "workchain_pk = calc_node.pk\n",
    "process_tree.process = load_node(workchain_pk)\n",
    "display(w)"
   ]
  },
  {
   "cell_type": "markdown",
   "metadata": {},
   "source": [
    "# Spectrum testing"
   ]
  },
  {
   "cell_type": "code",
   "execution_count": null,
   "metadata": {},
   "outputs": [],
   "source": [
    "from aiidalab_ispg.spectrum import Spectrum"
   ]
  },
  {
   "cell_type": "code",
   "execution_count": null,
   "metadata": {},
   "outputs": [],
   "source": [
    "transition1 = {\n",
    "    'energy': 1, # Excited energy in eV\n",
    "    'osc_strength': '0.016510951'\n",
    "}\n",
    "transition2 = {\n",
    "    'energy': 2.0, # Excited energy in eV\n",
    "    'osc_strength': '0.0'\n",
    "}\n",
    "transitions = [transition1, transition2]\n",
    "nsample = 1\n",
    "spec = Spectrum(transitions, nsample)\n",
    "x, y = spec.get_lorentzian_spectrum(0.3, 'ev', 'cross_section')"
   ]
  },
  {
   "cell_type": "code",
   "execution_count": null,
   "metadata": {},
   "outputs": [],
   "source": [
    "from bokeh.plotting import figure\n",
    "from bokeh.io import show, output_notebook, push_notebook\n",
    "import ipywidgets as ipw\n",
    "output_notebook()"
   ]
  },
  {
   "cell_type": "code",
   "execution_count": null,
   "metadata": {},
   "outputs": [],
   "source": [
    "spec = Spectrum(transitions, nsample)\n",
    "\n",
    "# TODO: Figure out how to use with ipywidgets\n",
    "# https://github.com/bokeh/bokeh/issues/7023\n",
    "\n",
    "# Initial spectrum\n",
    "x, y = spec.get_lorentzian_spectrum(0.5, 'ev', 'cross_section')    \n",
    "f = figure(title=\"Spectrum test\",  x_axis_label='E / eV',   y_axis_label='I / cm^-2 * molecule ^ -1')\n",
    "line = f.line(x, y, line_width=2)\n",
    "\n",
    "def plot_spectrum(width):\n",
    "    nsample = 1\n",
    "    x, y = spec.get_gaussian_spectrum(width, 'ev', 'cross_section')\n",
    "    line.data_source.data['x'] = x\n",
    "    line.data_source.data['y'] = y\n",
    "    push_notebook()\n",
    "\n",
    "#handle = show(f, notebook_handle=True)\n",
    "#i = ipw.interact(plot_spectrum, width=(0.05, 1.0, 0.05))"
   ]
  },
  {
   "cell_type": "code",
   "execution_count": null,
   "metadata": {},
   "outputs": [],
   "source": [
    "import ipywidgets as widgets\n",
    "import numpy as np\n",
    "from bokeh.io import push_notebook, show, output_notebook\n",
    "import bokeh.plotting as plt\n",
    "output_notebook()\n",
    "\n",
    "class BokehFigureContext(widgets.Output):\n",
    "    def __init__(self, fig):\n",
    "        super().__init__()\n",
    "        self._figure = fig\n",
    "        self.on_displayed(lambda x: x.set_handle())\n",
    "            \n",
    "    def set_handle(self):\n",
    "        self.clear_output()\n",
    "        with self:\n",
    "            self._handle = show(self._figure, notebook_handle=True)\n",
    "            \n",
    "    def get_handle(self):\n",
    "        return self._handle\n",
    "    \n",
    "    def get_figure(self):\n",
    "        return self._figure\n",
    "    \n",
    "    def update(self):\n",
    "        push_notebook(handle=self._handle)\n",
    "\n",
    "def create_bokeh_figure(*args, **kwargs):\n",
    "    fig = plt.figure(*args, **kwargs)\n",
    "    return BokehFigureContext(fig)\n",
    "\n",
    "fc = create_bokeh_figure()\n",
    "x = np.random.rand(10)\n",
    "y = np.random.rand(10)\n",
    "fc.get_figure().line(x, y)\n",
    "\n",
    "display(widgets.HBox([fc]))\n",
    "\n",
    "#for i in range(100):\n",
    "#    rend = fc.get_figure().renderers[0]\n",
    "#    rend.data_source.data = {\n",
    "#        'x': np.random.rand(10),\n",
    "#        'y': np.random.rand(10)\n",
    "#    }\n",
    "#    fc.update()"
   ]
  },
  {
   "cell_type": "code",
   "execution_count": null,
   "metadata": {},
   "outputs": [],
   "source": [
    "x = np.random.rand(10)\n",
    "y = np.random.rand(10)\n",
    "fc.get_figure().line(x, y, line_color='black', name='test', line_dash='dashed')\n",
    "fc.update()"
   ]
  },
  {
   "cell_type": "code",
   "execution_count": null,
   "metadata": {},
   "outputs": [],
   "source": [
    "len(fc.get_figure().renderers)\n",
    "#fc.update()"
   ]
  },
  {
   "cell_type": "code",
   "execution_count": null,
   "metadata": {},
   "outputs": [],
   "source": [
    "fc.get_figure().select_one({'name': 'test'})"
   ]
  },
  {
   "cell_type": "code",
   "execution_count": null,
   "metadata": {},
   "outputs": [],
   "source": [
    "f = fc.get_figure()\n",
    "f.select_one?"
   ]
  },
  {
   "cell_type": "code",
   "execution_count": null,
   "metadata": {},
   "outputs": [],
   "source": [
    "fc.update()"
   ]
  },
  {
   "cell_type": "code",
   "execution_count": null,
   "metadata": {},
   "outputs": [],
   "source": [
    "import traitlets\n",
    "import ipywidgets as ipw\n",
    "import matplotlib.pyplot as plt\n",
    "import scipy\n",
    "from scipy import constants\n",
    "import numpy as np\n",
    "\n",
    "class Spectrum(object):\n",
    "    AUtoCm = 8.478354e-30\n",
    "    COEFF = (\n",
    "        scipy.constants.pi\n",
    "        * AUtoCm ** 2\n",
    "        * 1e4\n",
    "        / (3 * scipy.constants.hbar * scipy.constants.epsilon_0 * scipy.constants.c)\n",
    "    )\n",
    "    # Transition Dipole to Osc. Strength in atomic units\n",
    "    COEFF_NEW = COEFF * 3 / 2\n",
    "    # COEFF =  scipy.constants.pi * AUtoCm**2 * 1e4 * scipy.constants.hbar / (2 * scipy.constants.epsilon_0 * scipy.constants.c * scipy.constants.m_e)\n",
    "\n",
    "    def __init__(self, transitions, nsample):\n",
    "        # Excitation energies in eV\n",
    "        self.excitation_energies = np.array(\n",
    "            [tr[\"energy\"] for tr in transitions], dtype=float\n",
    "        )\n",
    "        # Oscillator strengths\n",
    "        self.osc_strengths = np.array(\n",
    "            [tr[\"osc_strength\"] for tr in transitions], dtype=float\n",
    "        )\n",
    "        # Number of molecular geometries sampled from ground state distribution\n",
    "        self.nsample = nsample\n",
    "\n",
    "    # TODO\n",
    "    def get_spectrum(self, x_min, x_max, x_units, y_units):\n",
    "        \"\"\"Returns a non-broadened spectrum as a tuple of x and y Numpy arrays\"\"\"\n",
    "        n_points = int((x_max - x_min) / self.de)\n",
    "        x = np.arange(x_min, x_max, self.de)\n",
    "        y = np.zeros(n_points)\n",
    "        return x, y\n",
    "\n",
    "    # TODO: Make this function aware of units?\n",
    "    def _get_energy_range(self, energy_unit):\n",
    "        # NOTE: We don't include zero to prevent\n",
    "        # division by zero when converting to wavelength\n",
    "        x_min = max(0.01, self.excitation_energies.min() - 2.0)\n",
    "        x_max = self.excitation_energies.max() + 2.0\n",
    "        \n",
    "        # conversion to nanometers is handled later\n",
    "        if energy_unit.lower() == 'nm':\n",
    "            return x_min, x_max\n",
    "        \n",
    "        #energy_factor_unit = self._get_energy_unit_factor(energy_unit)\n",
    "        #x_min *= energy_factor_unit\n",
    "        #x_max *= energy_factor_unit\n",
    "        return x_min, x_max\n",
    "\n",
    "    def _get_energy_unit_factor(self, unit):\n",
    "        # TODO: We should probably start from atomic units\n",
    "        if unit.lower() == 'ev':\n",
    "            return 1.0\n",
    "        # TODO: Construct these factors from scipy.constants\n",
    "        elif unit.lower() == 'nm':\n",
    "            return 1239.8\n",
    "        elif unit.lower() == 'cm^-1':\n",
    "            return 8065.7\n",
    "\n",
    "    def get_gaussian_spectrum(self, sigma, x_unit, y_unit):\n",
    "        \"\"\"Returns Gaussian broadened spectrum\"\"\"\n",
    "\n",
    "        x_min, x_max = self._get_energy_range(x_unit)\n",
    "\n",
    "        # Conversion factor from eV to given energy unit\n",
    "        # (should probably switch to atomic units as default)\n",
    "        energy_unit_factor = self._get_energy_unit_factor(x_unit)\n",
    "        \n",
    "        energies = np.copy(self.excitation_energies)\n",
    "        # Conversion to wavelength in nm is done at the end instead\n",
    "        # Since it's not a linear transformation\n",
    "        #if x_unit.lower() != 'nm':\n",
    "        #    sigma *= energy_unit_factor\n",
    "        #    energies *= energy_unit_factor\n",
    "        \n",
    "        # TODO: How to determine this properly to cover a given interval?\n",
    "        n_sample = 500\n",
    "        x = np.linspace(x_min, x_max, num=n_sample)\n",
    "        y = np.zeros(len(x))\n",
    "\n",
    "        normalization_factor = (\n",
    "            1 / np.sqrt(2 * scipy.constants.pi) / sigma / self.nsample\n",
    "        )\n",
    "        # TODO: Support other intensity units\n",
    "        unit_factor = self.COEFF_NEW\n",
    "        for exc_energy, osc_strength in zip(\n",
    "            energies, self.osc_strengths\n",
    "        ):\n",
    "            prefactor = normalization_factor * unit_factor * osc_strength\n",
    "            y += prefactor * np.exp(-((x - exc_energy) ** 2) / 2 / sigma ** 2)\n",
    "        \n",
    "        \n",
    "        if x_unit.lower() == 'nm':\n",
    "            x, y = self._convert_to_nanometers(x, y)\n",
    "        else:\n",
    "            x *= energy_unit_factor\n",
    "            \n",
    "        return x, y\n",
    "\n",
    "    \n",
    "    def get_lorentzian_spectrum(self, tau, x_unit, y_unit):\n",
    "        \"\"\"Returns Gaussian broadened spectrum\"\"\"\n",
    "        # TODO: Determine x_min automatically based on transition energies\n",
    "        # and x_units\n",
    "        x_min, x_max = self._get_energy_range(x_unit)\n",
    "\n",
    "        # Conversion factor from eV to given energy unit\n",
    "        # (should probably switch to atomic units as default)\n",
    "        energy_unit_factor = self._get_energy_unit_factor(x_unit)\n",
    "        \n",
    "        energies = np.copy(self.excitation_energies)\n",
    "        \n",
    "        # TODO: How to determine this properly to cover a given interval?\n",
    "        n_sample = 500\n",
    "        x = np.linspace(x_min, x_max, num=n_sample)\n",
    "        y = np.zeros(len(x))\n",
    "\n",
    "        normalization_factor = tau / 2 / scipy.constants.pi / self.nsample\n",
    "        unit_factor = self.COEFF_NEW\n",
    "\n",
    "        for exc_energy, osc_strength in zip(\n",
    "            energies, self.osc_strengths\n",
    "        ):\n",
    "            prefactor = normalization_factor * unit_factor * osc_strength\n",
    "            y += prefactor / ((x - exc_energy) ** 2 + (tau ** 2) / 4)\n",
    "\n",
    "        if x_unit.lower() == 'nm':\n",
    "            x, y = self._convert_to_nanometers(x, y)\n",
    "        else:\n",
    "            x *= energy_unit_factor\n",
    "            \n",
    "        return x, y\n",
    "\n",
    "    def _convert_to_nanometers(self, x, y):\n",
    "        x = self._get_energy_unit_factor('nm') / x\n",
    "        # Filtering out ultralong wavelengths\n",
    "        nm_thr = 1000\n",
    "        to_delete = []\n",
    "        for i in range(len(x)):\n",
    "            if x[i] > 1000:\n",
    "                to_delete.append(i)\n",
    "        x = np.delete(x, to_delete)\n",
    "        y = np.delete(y, to_delete)\n",
    "        return x, y\n",
    "            \n",
    "\n",
    "class SpectrumWidget(ipw.VBox):\n",
    "\n",
    "    transitions = traitlets.List()\n",
    "\n",
    "    def __init__(self, **kwargs):\n",
    "        title = ipw.HTML(\n",
    "            \"\"\"<div style=\"padding-top: 0px; padding-bottom: 0px\">\n",
    "            <h4>UV/Vis Spectrum</h4></div>\"\"\"\n",
    "        )\n",
    "\n",
    "        # TODO: Remove this debugging output later\n",
    "        self.output = ipw.Output()\n",
    "\n",
    "        self.spectrum_container = ipw.Box()\n",
    "        self.width_slider = ipw.FloatSlider(\n",
    "            min=0.05, max=1, step=0.05, value=0.5, description=\"Width / eV\"\n",
    "        )\n",
    "        self.kernel_selector = ipw.ToggleButtons(\n",
    "            options=[\"gaussian\", \"lorentzian\"],  # TODO: None option\n",
    "            description=\"Broadening kernel:\",\n",
    "            disabled=False,\n",
    "            button_style=\"info\",  # 'success', 'info', 'warning', 'danger' or ''\n",
    "            tooltips=[\n",
    "                \"Description of slow\",\n",
    "                \"Description of regular\",\n",
    "                \"Description of fast\",\n",
    "            ],\n",
    "        )\n",
    "        self.xunit_selector = ipw.RadioButtons(\n",
    "                # TODO: Make an enum with different energy units\n",
    "                options=[\"eV\", \"nm\", \"cm^-1\"],\n",
    "                disabled=False,\n",
    "                description=\"Energy unit\",\n",
    "        )\n",
    "\n",
    "        controls = ipw.HBox(children=[\n",
    "                    ipw.VBox(children=[\n",
    "                        self.kernel_selector,\n",
    "                        self.width_slider]),\n",
    "                    self.xunit_selector]\n",
    "                    )\n",
    "\n",
    "        super().__init__(\n",
    "            [\n",
    "                title,\n",
    "                controls,\n",
    "                self.spectrum_container,\n",
    "                self.output,\n",
    "            ],\n",
    "            **kwargs,\n",
    "        )\n",
    "\n",
    "    def _init_figure(self):\n",
    "         self.figure = plt.Figure()\n",
    "        \n",
    "    def _plot_spectrum(self, kernel, width, energy_unit):\n",
    "        nsample = 1\n",
    "        spec = Spectrum(self.transitions, nsample)\n",
    "        intensity_unit = \"cm^-2 per molecule\"\n",
    "        if kernel == \"lorentzian\":\n",
    "            x, y = spec.get_lorentzian_spectrum(width, energy_unit, intensity_unit)\n",
    "        elif kernel == \"gaussian\":\n",
    "            x, y = spec.get_gaussian_spectrum(width, energy_unit, intensity_unit)\n",
    "        else:\n",
    "            with self.output:\n",
    "                print(\"Invalid broadening type\")\n",
    "                return\n",
    "\n",
    "        # TODO: Maybe determine optimal min max of x and y axes\n",
    "        # so that they don't change for different widths?\n",
    "        # \n",
    "        # Remove previous lines.\n",
    "        #[l.remove() for l in self.axes.lines]\n",
    "        plt.plot(x, y)\n",
    "        plt.xlabel(f\"Energy / {energy_unit}\")\n",
    "        plt.ylabel(f\"Intensity / {intensity_unit}\")\n",
    "        plt.show()\n",
    "\n",
    "    def _validate_transitions(self):\n",
    "        # TODO: Maybe use named tuple instead of dictionary?\n",
    "        for tr in self.transitions:\n",
    "            if not isinstance(tr, dict) or (\n",
    "                \"energy\" not in tr or \"osc_strength\" not in tr\n",
    "            ):\n",
    "                with self.output:\n",
    "                    print(\"Invalid transition\", tr)\n",
    "                    return False\n",
    "        return True\n",
    "\n",
    "    def _show_spectrum(self):\n",
    "        self.output.clear_output()\n",
    "        self._init_figure()\n",
    "        if self._validate_transitions:\n",
    "            spectrum = ipw.interactive_output(\n",
    "                self._plot_spectrum,\n",
    "                {\"width\": self.width_slider,\n",
    "                 \"kernel\": self.kernel_selector,\n",
    "                 \"energy_unit\": self.xunit_selector},\n",
    "            )\n",
    "            self.spectrum_container.children = [spectrum]\n",
    "        else:\n",
    "            # TODO: Add proper error handling\n",
    "            raise KeyError\n",
    "\n",
    "    @traitlets.observe(\"transitions\")\n",
    "    def _observe_transitions(self, change):\n",
    "        self._show_spectrum()"
   ]
  },
  {
   "cell_type": "code",
   "execution_count": null,
   "metadata": {},
   "outputs": [],
   "source": [
    "s = SpectrumWidget()\n",
    "transition1 = {\n",
    "    'energy': 2, # Excited energy in eV\n",
    "    'osc_strength': '0.016510951'\n",
    "}\n",
    "transition2 = {\n",
    "    'energy': 3.0, # Excited energy in eV\n",
    "    'osc_strength': '0.02'\n",
    "}\n",
    "transitions = [transition1, transition2]\n",
    "s.transitions = transitions\n",
    "s"
   ]
  },
  {
   "cell_type": "code",
   "execution_count": null,
   "metadata": {},
   "outputs": [],
   "source": [
    "x = np.full(6, 4.0)"
   ]
  },
  {
   "cell_type": "code",
   "execution_count": null,
   "metadata": {},
   "outputs": [],
   "source": [
    "x[5] = 10\n",
    "x = np.flip(x)"
   ]
  },
  {
   "cell_type": "code",
   "execution_count": null,
   "metadata": {},
   "outputs": [],
   "source": [
    "x = np.full(6, 4.0)\n",
    "x.resize(3)"
   ]
  },
  {
   "cell_type": "code",
   "execution_count": null,
   "metadata": {},
   "outputs": [],
   "source": [
    "np.delete(x, [1])"
   ]
  },
  {
   "cell_type": "code",
   "execution_count": null,
   "metadata": {},
   "outputs": [],
   "source": [
    "x[2] = 56\n",
    "x"
   ]
  },
  {
   "cell_type": "markdown",
   "metadata": {},
   "source": [
    "## Storing experimental spectrum in the database"
   ]
  },
  {
   "cell_type": "code",
   "execution_count": null,
   "metadata": {},
   "outputs": [],
   "source": [
    "from aiida.plugins import DataFactory\n",
    "import numpy as np\n",
    "import aiida\n",
    "\n",
    "aiida.load_profile()\n",
    "\n",
    "XyData = DataFactory('array.xy')\n",
    "xy = XyData()"
   ]
  },
  {
   "cell_type": "code",
   "execution_count": null,
   "metadata": {},
   "outputs": [],
   "source": [
    "xy.source?"
   ]
  },
  {
   "cell_type": "code",
   "execution_count": null,
   "metadata": {},
   "outputs": [],
   "source": [
    "bibliography = ' I. Magneron, R. Thévenet, A. Mellouki, G. Le Bras, G.K. Moortgat, and K. Wirtz, \"A study of the photolysis and OH-initiated oxidation of acrolein and trans-crotonaldehyde\", J. Phys. Chem. A 106, 2526-2537 (2002); DOI: 10.1021/jp013413a '\n",
    "source = {'db_name': 'UV/VIS Spectral Atlas',\n",
    "          'db_uri': 'http://satellite.mpic.de/spectral_atlas',\n",
    "          'uri': 'http://satellite.mpic.de/spectral_atlas/cross_sections/Organics%20(carbonyls)/Aldehydes(aliphatic)/CH2=CHCHO_Magneron(2002)_298K_282-390nm.txt',\n",
    "          'id': 'HGINCPLSRVDWNT-UHFFFAOYSA-N', # inChi key\n",
    "          'version': '2022',\n",
    "          'description': bibliography,\n",
    "          'license': '?'\n",
    "}\n",
    "energy_nm = np.array([282,284,286,288,290,292,294,296,298,300,302,304,306,308,310,312,314,316,318,320,322,324,326,328,330,332,334,336,338,340,342,344,346,348,350,352,354,356,358,360,362,364,366,368,370,372,374,376,378,380,382,384,386,388,390]) \n",
    "y = np.array([8.4e-21,9.7e-21,1.08e-20,1.23e-20,1.46e-20,1.62e-20,1.8e-20,1.97e-20,2.18e-20,2.47e-20,2.7e-20,2.85e-20,3.09e-20,3.29e-20,3.59e-20,3.92e-20,4.15e-20,4.21e-20,4.47e-20,4.65e-20,5.08e-20,5.17e-20,5.34e-20,5.2e-20,5.31e-20,5.44e-20,5.8e-20,6.24e-20,5.46e-20,5.31e-20,5.1e-20,5.12e-20,5.3e-20,5.17e-20,5.94e-20,5.79e-20,4.18e-20,3.63e-20,3.28e-20,3.92e-20,3.72e-20,2.86e-20,3.74e-20,3.82e-20,2.17e-20,1.58e-20,1.14e-20,1.14e-20,1.24e-20,1.1e-20,8.4e-21,7.9e-21,1.18e-20,4.9e-21,2.5e-21])\n",
    "xy.set_x(energy_nm, 'energy', 'nm')\n",
    "xy.set_y(y, 'cross section', 'cm^2')"
   ]
  },
  {
   "cell_type": "code",
   "execution_count": null,
   "metadata": {},
   "outputs": [],
   "source": [
    "xy.set_source(source=source)"
   ]
  },
  {
   "cell_type": "code",
   "execution_count": null,
   "metadata": {},
   "outputs": [],
   "source": [
    "xy.set_attribute('smiles', 'C=CC=O')"
   ]
  },
  {
   "cell_type": "code",
   "execution_count": null,
   "metadata": {},
   "outputs": [],
   "source": [
    "xy.attributes"
   ]
  },
  {
   "cell_type": "code",
   "execution_count": null,
   "metadata": {},
   "outputs": [],
   "source": [
    "new_xy = xy.clone()"
   ]
  },
  {
   "cell_type": "code",
   "execution_count": null,
   "metadata": {},
   "outputs": [],
   "source": [
    "new_xy.set_extra('smiles', xy.attributes['smiles'])\n",
    "new_xy.delete_attribute('smiles')\n",
    "new_xy.extras"
   ]
  },
  {
   "cell_type": "code",
   "execution_count": null,
   "metadata": {},
   "outputs": [],
   "source": [
    "node = new_xy.store()"
   ]
  },
  {
   "cell_type": "code",
   "execution_count": null,
   "metadata": {},
   "outputs": [],
   "source": [
    "node.extras"
   ]
  },
  {
   "cell_type": "code",
   "execution_count": null,
   "metadata": {},
   "outputs": [],
   "source": [
    "node.extras"
   ]
  },
  {
   "cell_type": "code",
   "execution_count": null,
   "metadata": {},
   "outputs": [],
   "source": [
    "from aiida.orm import QueryBuilder\n",
    "XyData = DataFactory('array.xy')\n",
    "qb = QueryBuilder()\n",
    "qb.append(XyData, filters={\n",
    "    'extras.smiles': 'C=CC=O'\n",
    "})\n",
    "qb.all()"
   ]
  },
  {
   "cell_type": "code",
   "execution_count": null,
   "metadata": {},
   "outputs": [],
   "source": [
    "from aiida.plugins import WorkflowFactory\n",
    "from aiida.orm import load_code\n",
    "wch = WorkflowFactory('orca.base')\n",
    "orca = load_code('orca')"
   ]
  },
  {
   "cell_type": "code",
   "execution_count": null,
   "metadata": {},
   "outputs": [],
   "source": [
    "c = wch.get_builder()\n",
    "c.orca.file?"
   ]
  },
  {
   "cell_type": "code",
   "execution_count": null,
   "metadata": {},
   "outputs": [],
   "source": [
    "from aiidalab_qe_workchain import QeAppWorkChain\n",
    "w = QeAppWorkChain\n",
    "w.get_builder()"
   ]
  },
  {
   "cell_type": "markdown",
   "metadata": {},
   "source": [
    "## Testing basic ORCA workflow"
   ]
  },
  {
   "cell_type": "code",
   "execution_count": null,
   "metadata": {},
   "outputs": [],
   "source": [
    "from aiidalab_ispg.workflows.base import OrcaRelaxAndTDDFTWorkChain\n",
    "from aiida.orm import load_node, load_code\n",
    "from aiida.orm import Dict, Bool, Int\n",
    "from aiida import load_profile\n",
    "load_profile()\n",
    "w = OrcaRelaxAndTDDFTWorkChain\n",
    "b = w.get_builder()"
   ]
  },
  {
   "cell_type": "code",
   "execution_count": null,
   "metadata": {},
   "outputs": [],
   "source": [
    "parameters_opt = {\n",
    "    'charge': 0,\n",
    "    'multiplicity': 1,\n",
    "    'input_blocks': {\n",
    "        'scf': {'convergence': 'loose'},\n",
    "        'pal': {'nproc': 1},\n",
    "    },\n",
    "    'input_keywords': ['LSD', 'sto-3g', 'Opt'],\n",
    "    'extra_input_keywords': []\n",
    "}\n",
    "parameters_tddft = {\n",
    "    'charge': 0,\n",
    "    'multiplicity': 1,\n",
    "    'input_blocks': {\n",
    "        'scf': {'convergence': 'loose'},\n",
    "        'pal': {'nproc': 1},\n",
    "        'tddft': {'nroots': 3},\n",
    "    },\n",
    "    'input_keywords': ['LSD', 'sto-3g'],\n",
    "    'extra_input_keywords': []\n",
    "}\n",
    "metadata = {\n",
    "    'options': {\n",
    "        'withmpi': False,\n",
    "        'resources': {\n",
    "            'tot_num_mpiprocs': 1,\n",
    "        }\n",
    "    },\n",
    "    'description': 'ORCA calculation',  \n",
    "}\n",
    "structure = load_node(pk=1)\n",
    "code = load_code('orca')\n",
    "\n",
    "b.exc.orca.parameters = Dict(dict=parameters_tddft)\n",
    "b.exc.orca.metadata = metadata\n",
    "b.exc.clean_workdir = Bool(True)\n",
    "\n",
    "# Hack for now\n",
    "b.opt.orca = b.exc.orca\n",
    "b.opt.orca.parameters = Dict(dict=parameters_opt)\n",
    "\n",
    "b.structure = structure\n",
    "b.code = code\n",
    "b.optimize = Bool(False)"
   ]
  },
  {
   "cell_type": "code",
   "execution_count": null,
   "metadata": {},
   "outputs": [],
   "source": [
    "from aiida.engine import submit\n",
    "from aiida.engine.daemon.client import get_daemon_client\n",
    "daemon = get_daemon_client()\n",
    "daemon.restart_daemon(wait=True)\n",
    "#workchain_node = submit(b)"
   ]
  },
  {
   "cell_type": "markdown",
   "metadata": {},
   "source": [
    "## ProcessTreeWidget to see workflows"
   ]
  },
  {
   "cell_type": "code",
   "execution_count": null,
   "metadata": {},
   "outputs": [],
   "source": [
    "from aiidalab_widgets_base import AiidaNodeViewWidget, ProcessNodesTreeWidget, ProcessMonitor\n",
    "import ipywidgets as ipw\n",
    "\n",
    "process_tree = ProcessNodesTreeWidget()\n",
    "node_view = AiidaNodeViewWidget(layout={\"width\": \"auto\", \"height\": \"auto\"})\n",
    "ipw.dlink(\n",
    "    (process_tree, \"selected_nodes\"),\n",
    "    (node_view, \"node\"),\n",
    "    transform=lambda nodes: nodes[0] if nodes else None,\n",
    ")\n",
    "\n",
    "w = ipw.VBox(children=[process_tree, node_view])\n",
    "process_monitor = ProcessMonitor(\n",
    "            timeout=0.1,\n",
    "            callbacks=[\n",
    "                process_tree.update,\n",
    "            ],\n",
    ")\n",
    "ipw.dlink((process_tree, \"process\"), (process_monitor, \"process\"))\n",
    "workchain_pk = calc_node.pk\n",
    "process_tree.process = load_node(workchain_pk)\n",
    "display(w)"
   ]
  },
  {
   "cell_type": "code",
   "execution_count": null,
   "metadata": {},
   "outputs": [],
   "source": []
  },
  {
   "cell_type": "code",
   "execution_count": null,
   "metadata": {},
   "outputs": [],
   "source": [
    "from aiidalab_ispg.spectrum import Spectrum, SpectrumWidget\n",
    "from aiida import load_profile"
   ]
  },
  {
   "cell_type": "code",
   "execution_count": null,
   "metadata": {},
   "outputs": [],
   "source": [
    "s = SpectrumWidget()"
   ]
  },
  {
   "cell_type": "code",
   "execution_count": null,
   "metadata": {},
   "outputs": [],
   "source": [
    "s"
   ]
  },
  {
   "cell_type": "code",
   "execution_count": null,
   "metadata": {},
   "outputs": [],
   "source": [
    "#load_profile()"
   ]
  },
  {
   "cell_type": "code",
   "execution_count": null,
   "metadata": {},
   "outputs": [],
   "source": [
    "s.smiles = 'C=CC=O'"
   ]
  },
  {
   "cell_type": "markdown",
   "metadata": {},
   "source": [
    "## Wigner sampling"
   ]
  },
  {
   "cell_type": "code",
   "execution_count": null,
   "metadata": {},
   "outputs": [],
   "source": [
    "%aiida"
   ]
  },
  {
   "cell_type": "code",
   "execution_count": null,
   "metadata": {},
   "outputs": [],
   "source": [
    "import aiidalab_ispg.workflows.wigner_position as wigner"
   ]
  },
  {
   "cell_type": "code",
   "execution_count": null,
   "metadata": {},
   "outputs": [],
   "source": [
    "output_dict = load_node(pk=1797)"
   ]
  },
  {
   "cell_type": "code",
   "execution_count": null,
   "metadata": {},
   "outputs": [],
   "source": [
    "from ase import Atoms\n",
    "from aiida.engine import calcfunction\n",
    "from aiida.orm import StructureData, TrajectoryData\n",
    "\n",
    "@calcfunction\n",
    "def sample_wigner(orca_output_dict, nsample):\n",
    "    frequencies = output_dict['vibfreqs']\n",
    "    masses = output_dict['atommasses']\n",
    "    normal_modes = output_dict['vibdisps']\n",
    "    elements = output_dict['elements']\n",
    "    min_coord = output_dict['atomcoords'][-1]\n",
    "    natom = output_dict['natom']\n",
    "    # convert to Bohrs\n",
    "    ANG2BOHRS = 1./0.529177211\n",
    "    coordinates = []\n",
    "    for iat in range(natom):\n",
    "        coordinates.append([min_coord[iat][0]*ANG2BOHRS, min_coord[iat][1]*ANG2BOHRS, min_coord[iat][2]*ANG2BOHRS])\n",
    "    seed = 1235235\n",
    "    w = wigner.Wigner(elements, masses, coordinates, frequencies, normal_modes, seed)\n",
    "    \n",
    "    wigner_list = []\n",
    "    for i in range(nsample.value):\n",
    "        wigner_coord = w.get_sample()\n",
    "        # Convert to angstroms\n",
    "        wigner_coord_ang = []\n",
    "        for iat in range(natom):\n",
    "            wigner_coord_ang.append([wigner_coord[iat][0]/ANG2BOHRS, wigner_coord[iat][1]/ANG2BOHRS, wigner_coord[iat][2]/ANG2BOHRS])\n",
    "        # TODO: We shouldn't need to specify cell\n",
    "        # https://github.com/aiidateam/aiida-core/issues/5248\n",
    "        ase_struct = Atoms(positions=wigner_coord_ang, symbols=elements, cell=(1., 1., 1.))\n",
    "        wigner_list.append(StructureData(ase=ase_struct))\n",
    "    return TrajectoryData(structurelist=wigner_list)"
   ]
  },
  {
   "cell_type": "code",
   "execution_count": null,
   "metadata": {},
   "outputs": [],
   "source": [
    "struct = sample_wigner(output_dict, Int(5))"
   ]
  },
  {
   "cell_type": "code",
   "execution_count": null,
   "metadata": {},
   "outputs": [],
   "source": [
    "struct"
   ]
  },
  {
   "cell_type": "code",
   "execution_count": null,
   "metadata": {},
   "outputs": [],
   "source": [
    "coordinates"
   ]
  },
  {
   "cell_type": "code",
   "execution_count": null,
   "metadata": {},
   "outputs": [],
   "source": [
    "seed = 1235235\n",
    "w = wigner.Wigner(elements, masses, coordinates, frequencies, normal_modes, seed)\n",
    "coordinates = w.get_sample()\n",
    "coordinates"
   ]
  },
  {
   "cell_type": "code",
   "execution_count": null,
   "metadata": {},
   "outputs": [],
   "source": []
  },
  {
   "cell_type": "code",
   "execution_count": null,
   "metadata": {},
   "outputs": [],
   "source": []
  },
  {
   "cell_type": "code",
   "execution_count": null,
   "metadata": {},
   "outputs": [],
   "source": [
    "ase_struct.get_positions()"
   ]
  },
  {
   "cell_type": "code",
   "execution_count": null,
   "metadata": {},
   "outputs": [],
   "source": []
  },
  {
   "cell_type": "code",
   "execution_count": null,
   "metadata": {},
   "outputs": [],
   "source": [
    "wigner_struct.store()"
   ]
  },
  {
   "cell_type": "code",
   "execution_count": null,
   "metadata": {},
   "outputs": [],
   "source": [
    "wigner_struct"
   ]
  },
  {
   "cell_type": "code",
   "execution_count": null,
   "metadata": {},
   "outputs": [],
   "source": [
    "import ase\n",
    "ase_struct = ase.Atoms(symbols=\"H\", positions=[(0.0, 0.0, 0.0)])\n",
    "ase_struct.cell"
   ]
  },
  {
   "cell_type": "code",
   "execution_count": null,
   "metadata": {},
   "outputs": [],
   "source": [
    "StructureData(ase=ase_struct)"
   ]
  },
  {
   "cell_type": "code",
   "execution_count": null,
   "metadata": {},
   "outputs": [],
   "source": []
  }
 ],
 "metadata": {
  "kernelspec": {
   "display_name": "Python 3 (ipykernel)",
   "language": "python",
   "name": "python3"
  },
  "language_info": {
   "codemirror_mode": {
    "name": "ipython",
    "version": 3
   },
   "file_extension": ".py",
   "mimetype": "text/x-python",
   "name": "python",
   "nbconvert_exporter": "python",
   "pygments_lexer": "ipython3",
   "version": "3.8.10"
  }
 },
 "nbformat": 4,
 "nbformat_minor": 2
}
