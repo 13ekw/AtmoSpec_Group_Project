{
 "cells": [
  {
   "cell_type": "code",
   "execution_count": 2,
   "metadata": {
    "scrolled": true
   },
   "outputs": [
    {
     "data": {
      "application/vnd.jupyter.widget-view+json": {
       "model_id": "a633de88ca5a4569a2a2f0e7639153f8",
       "version_major": 2,
       "version_minor": 0
      },
      "text/plain": []
     },
     "metadata": {},
     "output_type": "display_data"
    },
    {
     "data": {
      "application/vnd.jupyter.widget-view+json": {
       "model_id": "7a90374cee074ef8b4a3adb460d1133e",
       "version_major": 2,
       "version_minor": 0
      },
      "text/plain": [
       "StructureManagerWidget(children=(Tab(children=(StructureUploadWidget(children=(FileUpload(value={}, descriptio…"
      ]
     },
     "metadata": {},
     "output_type": "display_data"
    }
   ],
   "source": [
    "#from aiidalab_widgets_base import OptimadeQueryWidget\n",
    "from aiidalab_widgets_base import StructureBrowserWidget\n",
    "from aiidalab_widgets_base import StructureManagerWidget\n",
    "from aiidalab_widgets_base import StructureUploadWidget\n",
    "from aiidalab_widgets_base import SmilesWidget\n",
    "\n",
    "# Create the application steps\n",
    "structure_manager_widget = StructureManagerWidget(\n",
    "    importers=[\n",
    "        StructureUploadWidget(title=\"From computer\"),\n",
    "        SmilesWidget(title='SMILES'),\n",
    "        StructureBrowserWidget(title=\"AiiDA database\"),\n",
    "    ],\n",
    "    node_class='StructureData',\n",
    ")\n",
    "\n",
    "\n",
    "display(structure_manager_widget)"
   ]
  },
  {
   "cell_type": "code",
   "execution_count": 3,
   "metadata": {},
   "outputs": [],
   "source": [
    "from rdkit import Chem\n",
    "from rdkit.Chem import AllChem\n",
    "from rdkit.Chem.Draw import IPythonConsole #Needed to show molecules\n",
    "from rdkit.Chem.Draw.MolDrawing import MolDrawing, DrawingOptions\n",
    "DrawingOptions.bondLineWidth=1.8"
   ]
  },
  {
   "cell_type": "code",
   "execution_count": 4,
   "metadata": {},
   "outputs": [
    {
     "data": {
      "image/png": "[encoded data removed]",
      "text/plain": [
       "<rdkit.Chem.rdchem.Mol at 0x7f25fe479d00>"
      ]
     },
     "execution_count": 4,
     "metadata": {},
     "output_type": "execute_result"
    }
   ],
   "source": [
    "template = Chem.MolFromSmiles('c1nccc2n1ccc2')\n",
    "#AllChem.Compute2DCoords(template)\n",
    "template"
   ]
  },
  {
   "cell_type": "code",
   "execution_count": 5,
   "metadata": {},
   "outputs": [],
   "source": [
    "Chem.Draw.IPythonConsole.InstallIPythonRenderer()"
   ]
  },
  {
   "cell_type": "code",
   "execution_count": 6,
   "metadata": {},
   "outputs": [
    {
     "data": {
      "image/png": "[encoded data removed]",
      "text/plain": [
       "<rdkit.Chem.rdchem.Mol at 0x7f25fe37bc40>"
      ]
     },
     "execution_count": 6,
     "metadata": {},
     "output_type": "execute_result"
    }
   ],
   "source": [
    "mol = Chem.MolFromSmiles('C=C=C')\n",
    "mol = AllChem.AddHs(mol)\n",
    "DrawingOptions.includeAtomNumbers=True\n",
    "mol"
   ]
  },
  {
   "cell_type": "code",
   "execution_count": 7,
   "metadata": {},
   "outputs": [],
   "source": [
    "import ipywidgets as widgets"
   ]
  },
  {
   "cell_type": "code",
   "execution_count": 8,
   "metadata": {},
   "outputs": [
    {
     "data": {
      "application/vnd.jupyter.widget-view+json": {
       "model_id": "",
       "version_major": 2,
       "version_minor": 0
      },
      "text/plain": [
       "IntSlider(value=0)"
      ]
     },
     "metadata": {},
     "output_type": "display_data"
    }
   ],
   "source": [
    "w = widgets.IntSlider()\n",
    "display(w)"
   ]
  },
  {
   "cell_type": "code",
   "execution_count": 9,
   "metadata": {},
   "outputs": [
    {
     "data": {
      "application/vnd.jupyter.widget-view+json": {
       "model_id": "",
       "version_major": 2,
       "version_minor": 0
      },
      "text/plain": [
       "IntSlider(value=0)"
      ]
     },
     "metadata": {},
     "output_type": "display_data"
    }
   ],
   "source": [
    "display(w)"
   ]
  },
  {
   "cell_type": "code",
   "execution_count": 10,
   "metadata": {},
   "outputs": [],
   "source": [
    "w.close()"
   ]
  },
  {
   "cell_type": "code",
   "execution_count": 40,
   "metadata": {},
   "outputs": [
    {
     "data": {
      "application/vnd.jupyter.widget-view+json": {
       "model_id": "7c722f5353934284baea1cbb0d16e515",
       "version_major": 2,
       "version_minor": 0
      },
      "text/plain": [
       "FloatText(value=0.0)"
      ]
     },
     "metadata": {},
     "output_type": "display_data"
    },
    {
     "data": {
      "application/vnd.jupyter.widget-view+json": {
       "model_id": "a2b6fdb271c54c639e11b66c2e9d9c72",
       "version_major": 2,
       "version_minor": 0
      },
      "text/plain": [
       "FloatSlider(value=0.0)"
      ]
     },
     "metadata": {},
     "output_type": "display_data"
    }
   ],
   "source": [
    "a = widgets.FloatText()\n",
    "b = widgets.FloatSlider()\n",
    "display(a,b)\n",
    "\n",
    "mylink = widgets.jslink((a, 'value'), (b, 'value'))\n"
   ]
  },
  {
   "cell_type": "code",
   "execution_count": 11,
   "metadata": {},
   "outputs": [
    {
     "data": {
      "application/vnd.jupyter.widget-view+json": {
       "model_id": "77953d636cbb4b158615bb8d87e0ef8d",
       "version_major": 2,
       "version_minor": 0
      },
      "text/plain": [
       "Text(value='', description='String:', placeholder='SMILES input')"
      ]
     },
     "metadata": {},
     "output_type": "display_data"
    },
    {
     "data": {
      "application/vnd.jupyter.widget-view+json": {
       "model_id": "0ceda2ce9d934c60831f5e183939542c",
       "version_major": 2,
       "version_minor": 0
      },
      "text/plain": [
       "Output()"
      ]
     },
     "metadata": {},
     "output_type": "display_data"
    }
   ],
   "source": [
    "text = widgets.Text(\n",
    "    value='',\n",
    "    placeholder='SMILES input',\n",
    "    description='String:',\n",
    "    disabled=False\n",
    ")\n",
    "output = widgets.Output()\n",
    "\n",
    "display(text, output)\n",
    "\n",
    "def rdkit_2d_struct(smiles):\n",
    "    m = Chem.MolFromSmiles(smiles)\n",
    "    return m\n",
    "\n",
    "def on_text_change(change):\n",
    "    smiles = change['new']\n",
    "    try:\n",
    "        m = rdkit_2d_struct(smiles)\n",
    "        with output:\n",
    "            print(m)\n",
    "    except:\n",
    "        pass\n",
    "\n",
    "text.observe(on_text_change, names='value')"
   ]
  },
  {
   "cell_type": "markdown",
   "metadata": {},
   "source": [
    "## ORCA SUBMISSION TEST\n",
    "\n"
   ]
  },
  {
   "cell_type": "code",
   "execution_count": 1,
   "metadata": {},
   "outputs": [
    {
     "data": {
      "application/json": {
       "current_state": "Loaded AiiDA DB environment - profile name: default."
      },
      "text/html": [
       "<p>Loaded AiiDA DB environment - profile name: default.</p>"
      ],
      "text/latex": [
       "Loaded AiiDA DB environment - profile name: default.\n"
      ],
      "text/plain": [
       "Loaded AiiDA DB environment - profile name: default.\n"
      ]
     },
     "execution_count": 1,
     "metadata": {},
     "output_type": "execute_result"
    }
   ],
   "source": [
    "%aiida"
   ]
  },
  {
   "cell_type": "code",
   "execution_count": 5,
   "metadata": {},
   "outputs": [],
   "source": [
    "code = load_code('orca@localhost')\n",
    "builder = code.get_builder()"
   ]
  },
  {
   "cell_type": "code",
   "execution_count": 10,
   "metadata": {},
   "outputs": [],
   "source": [
    "params = {\n",
    "    'charge': 0,\n",
    "    'multiplicity': 1,\n",
    "    'input_blocks': {\n",
    "        'scf': {'convergence': 'tight'},\n",
    "        'pal': {'nproc': 1},\n",
    "    },\n",
    "    'input_keywords': ['PBE', 'def2-svp','Opt'],\n",
    "    'extra_input_keywords': []\n",
    "}\n",
    "builder.parameters = Dict(dict=params)"
   ]
  },
  {
   "cell_type": "code",
   "execution_count": 11,
   "metadata": {},
   "outputs": [],
   "source": [
    "struct = load_node(pk=2)\n",
    "builder.structure = struct"
   ]
  },
  {
   "cell_type": "code",
   "execution_count": 12,
   "metadata": {},
   "outputs": [],
   "source": [
    "builder.metadata.options.withmpi = False\n",
    "builder.metadata.options.resources = {\n",
    "    'tot_num_mpiprocs': 1,\n",
    "}\n",
    "builder.metadata.description = \"ORCA optimization\""
   ]
  },
  {
   "cell_type": "code",
   "execution_count": 14,
   "metadata": {},
   "outputs": [
    {
     "data": {
      "text/plain": [
       "<CalcJobNode: uuid: 1232d0ed-5f93-4efe-959f-2eadab6a349e (pk: 5) (aiida_orca.calculations.orca_main.OrcaCalculation)>"
      ]
     },
     "execution_count": 14,
     "metadata": {},
     "output_type": "execute_result"
    }
   ],
   "source": [
    "from aiida.engine import submit\n",
    "submit(builder)"
   ]
  },
  {
   "cell_type": "code",
   "execution_count": 17,
   "metadata": {},
   "outputs": [],
   "source": [
    "from aiidalab_widgets_base.viewers import StructureDataViewer"
   ]
  },
  {
   "cell_type": "markdown",
   "metadata": {},
   "source": [
    "# Spectrum testing"
   ]
  },
  {
   "cell_type": "code",
   "execution_count": 1,
   "metadata": {},
   "outputs": [],
   "source": [
    "from aiidalab_ispg.spectrum import Spectrum"
   ]
  },
  {
   "cell_type": "code",
   "execution_count": 2,
   "metadata": {},
   "outputs": [],
   "source": [
    "transition1 = {\n",
    "    'energy': 1, # Excited energy in eV\n",
    "    'osc_strength': '0.016510951'\n",
    "}\n",
    "transition2 = {\n",
    "    'energy': 2.0, # Excited energy in eV\n",
    "    'osc_strength': '0.0'\n",
    "}\n",
    "transitions = [transition1, transition2]\n",
    "nsample = 1\n",
    "spec = Spectrum(transitions, nsample)\n",
    "x, y = spec.get_lorentzian_spectrum(0.3, 'ev', 'cross_section')"
   ]
  },
  {
   "cell_type": "code",
   "execution_count": 3,
   "metadata": {},
   "outputs": [
    {
     "data": {
      "text/html": [
       "\n",
       "    <div class=\"bk-root\">\n",
       "        <a href=\"https://bokeh.org\" target=\"_blank\" class=\"bk-logo bk-logo-small bk-logo-notebook\"></a>\n",
       "        <span id=\"1002\">Loading BokehJS ...</span>\n",
       "    </div>"
      ]
     },
     "metadata": {},
     "output_type": "display_data"
    },
    {
     "data": {
      "application/javascript": [
       "\n",
       "(function(root) {\n",
       "  function now() {\n",
       "    return new Date();\n",
       "  }\n",
       "\n",
       "  const force = true;\n",
       "\n",
       "  if (typeof root._bokeh_onload_callbacks === \"undefined\" || force === true) {\n",
       "    root._bokeh_onload_callbacks = [];\n",
       "    root._bokeh_is_loading = undefined;\n",
       "  }\n",
       "\n",
       "  const JS_MIME_TYPE = 'application/javascript';\n",
       "  const HTML_MIME_TYPE = 'text/html';\n",
       "  const EXEC_MIME_TYPE = 'application/vnd.bokehjs_exec.v0+json';\n",
       "  const CLASS_NAME = 'output_bokeh rendered_html';\n",
       "\n",
       "  /**\n",
       "   * Render data to the DOM node\n",
       "   */\n",
       "  function render(props, node) {\n",
       "    const script = document.createElement(\"script\");\n",
       "    node.appendChild(script);\n",
       "  }\n",
       "\n",
       "  /**\n",
       "   * Handle when an output is cleared or removed\n",
       "   */\n",
       "  function handleClearOutput(event, handle) {\n",
       "    const cell = handle.cell;\n",
       "\n",
       "    const id = cell.output_area._bokeh_element_id;\n",
       "    const server_id = cell.output_area._bokeh_server_id;\n",
       "    // Clean up Bokeh references\n",
       "    if (id != null && id in Bokeh.index) {\n",
       "      Bokeh.index[id].model.document.clear();\n",
       "      delete Bokeh.index[id];\n",
       "    }\n",
       "\n",
       "    if (server_id !== undefined) {\n",
       "      // Clean up Bokeh references\n",
       "      const cmd_clean = \"from bokeh.io.state import curstate; print(curstate().uuid_to_server['\" + server_id + \"'].get_sessions()[0].document.roots[0]._id)\";\n",
       "      cell.notebook.kernel.execute(cmd_clean, {\n",
       "        iopub: {\n",
       "          output: function(msg) {\n",
       "            const id = msg.content.text.trim();\n",
       "            if (id in Bokeh.index) {\n",
       "              Bokeh.index[id].model.document.clear();\n",
       "              delete Bokeh.index[id];\n",
       "            }\n",
       "          }\n",
       "        }\n",
       "      });\n",
       "      // Destroy server and session\n",
       "      const cmd_destroy = \"import bokeh.io.notebook as ion; ion.destroy_server('\" + server_id + \"')\";\n",
       "      cell.notebook.kernel.execute(cmd_destroy);\n",
       "    }\n",
       "  }\n",
       "\n",
       "  /**\n",
       "   * Handle when a new output is added\n",
       "   */\n",
       "  function handleAddOutput(event, handle) {\n",
       "    const output_area = handle.output_area;\n",
       "    const output = handle.output;\n",
       "\n",
       "    // limit handleAddOutput to display_data with EXEC_MIME_TYPE content only\n",
       "    if ((output.output_type != \"display_data\") || (!Object.prototype.hasOwnProperty.call(output.data, EXEC_MIME_TYPE))) {\n",
       "      return\n",
       "    }\n",
       "\n",
       "    const toinsert = output_area.element.find(\".\" + CLASS_NAME.split(' ')[0]);\n",
       "\n",
       "    if (output.metadata[EXEC_MIME_TYPE][\"id\"] !== undefined) {\n",
       "      toinsert[toinsert.length - 1].firstChild.textContent = output.data[JS_MIME_TYPE];\n",
       "      // store reference to embed id on output_area\n",
       "      output_area._bokeh_element_id = output.metadata[EXEC_MIME_TYPE][\"id\"];\n",
       "    }\n",
       "    if (output.metadata[EXEC_MIME_TYPE][\"server_id\"] !== undefined) {\n",
       "      const bk_div = document.createElement(\"div\");\n",
       "      bk_div.innerHTML = output.data[HTML_MIME_TYPE];\n",
       "      const script_attrs = bk_div.children[0].attributes;\n",
       "      for (let i = 0; i < script_attrs.length; i++) {\n",
       "        toinsert[toinsert.length - 1].firstChild.setAttribute(script_attrs[i].name, script_attrs[i].value);\n",
       "        toinsert[toinsert.length - 1].firstChild.textContent = bk_div.children[0].textContent\n",
       "      }\n",
       "      // store reference to server id on output_area\n",
       "      output_area._bokeh_server_id = output.metadata[EXEC_MIME_TYPE][\"server_id\"];\n",
       "    }\n",
       "  }\n",
       "\n",
       "  function register_renderer(events, OutputArea) {\n",
       "\n",
       "    function append_mime(data, metadata, element) {\n",
       "      // create a DOM node to render to\n",
       "      const toinsert = this.create_output_subarea(\n",
       "        metadata,\n",
       "        CLASS_NAME,\n",
       "        EXEC_MIME_TYPE\n",
       "      );\n",
       "      this.keyboard_manager.register_events(toinsert);\n",
       "      // Render to node\n",
       "      const props = {data: data, metadata: metadata[EXEC_MIME_TYPE]};\n",
       "      render(props, toinsert[toinsert.length - 1]);\n",
       "      element.append(toinsert);\n",
       "      return toinsert\n",
       "    }\n",
       "\n",
       "    /* Handle when an output is cleared or removed */\n",
       "    events.on('clear_output.CodeCell', handleClearOutput);\n",
       "    events.on('delete.Cell', handleClearOutput);\n",
       "\n",
       "    /* Handle when a new output is added */\n",
       "    events.on('output_added.OutputArea', handleAddOutput);\n",
       "\n",
       "    /**\n",
       "     * Register the mime type and append_mime function with output_area\n",
       "     */\n",
       "    OutputArea.prototype.register_mime_type(EXEC_MIME_TYPE, append_mime, {\n",
       "      /* Is output safe? */\n",
       "      safe: true,\n",
       "      /* Index of renderer in `output_area.display_order` */\n",
       "      index: 0\n",
       "    });\n",
       "  }\n",
       "\n",
       "  // register the mime type if in Jupyter Notebook environment and previously unregistered\n",
       "  if (root.Jupyter !== undefined) {\n",
       "    const events = require('base/js/events');\n",
       "    const OutputArea = require('notebook/js/outputarea').OutputArea;\n",
       "\n",
       "    if (OutputArea.prototype.mime_types().indexOf(EXEC_MIME_TYPE) == -1) {\n",
       "      register_renderer(events, OutputArea);\n",
       "    }\n",
       "  }\n",
       "\n",
       "  \n",
       "  if (typeof (root._bokeh_timeout) === \"undefined\" || force === true) {\n",
       "    root._bokeh_timeout = Date.now() + 5000;\n",
       "    root._bokeh_failed_load = false;\n",
       "  }\n",
       "\n",
       "  const NB_LOAD_WARNING = {'data': {'text/html':\n",
       "     \"<div style='background-color: #fdd'>\\n\"+\n",
       "     \"<p>\\n\"+\n",
       "     \"BokehJS does not appear to have successfully loaded. If loading BokehJS from CDN, this \\n\"+\n",
       "     \"may be due to a slow or bad network connection. Possible fixes:\\n\"+\n",
       "     \"</p>\\n\"+\n",
       "     \"<ul>\\n\"+\n",
       "     \"<li>re-rerun `output_notebook()` to attempt to load from CDN again, or</li>\\n\"+\n",
       "     \"<li>use INLINE resources instead, as so:</li>\\n\"+\n",
       "     \"</ul>\\n\"+\n",
       "     \"<code>\\n\"+\n",
       "     \"from bokeh.resources import INLINE\\n\"+\n",
       "     \"output_notebook(resources=INLINE)\\n\"+\n",
       "     \"</code>\\n\"+\n",
       "     \"</div>\"}};\n",
       "\n",
       "  function display_loaded() {\n",
       "    const el = document.getElementById(\"1002\");\n",
       "    if (el != null) {\n",
       "      el.textContent = \"BokehJS is loading...\";\n",
       "    }\n",
       "    if (root.Bokeh !== undefined) {\n",
       "      if (el != null) {\n",
       "        el.textContent = \"BokehJS \" + root.Bokeh.version + \" successfully loaded.\";\n",
       "      }\n",
       "    } else if (Date.now() < root._bokeh_timeout) {\n",
       "      setTimeout(display_loaded, 100)\n",
       "    }\n",
       "  }\n",
       "\n",
       "\n",
       "  function run_callbacks() {\n",
       "    try {\n",
       "      root._bokeh_onload_callbacks.forEach(function(callback) {\n",
       "        if (callback != null)\n",
       "          callback();\n",
       "      });\n",
       "    } finally {\n",
       "      delete root._bokeh_onload_callbacks\n",
       "    }\n",
       "    console.debug(\"Bokeh: all callbacks have finished\");\n",
       "  }\n",
       "\n",
       "  function load_libs(css_urls, js_urls, callback) {\n",
       "    if (css_urls == null) css_urls = [];\n",
       "    if (js_urls == null) js_urls = [];\n",
       "\n",
       "    root._bokeh_onload_callbacks.push(callback);\n",
       "    if (root._bokeh_is_loading > 0) {\n",
       "      console.debug(\"Bokeh: BokehJS is being loaded, scheduling callback at\", now());\n",
       "      return null;\n",
       "    }\n",
       "    if (js_urls == null || js_urls.length === 0) {\n",
       "      run_callbacks();\n",
       "      return null;\n",
       "    }\n",
       "    console.debug(\"Bokeh: BokehJS not loaded, scheduling load and callback at\", now());\n",
       "    root._bokeh_is_loading = css_urls.length + js_urls.length;\n",
       "\n",
       "    function on_load() {\n",
       "      root._bokeh_is_loading--;\n",
       "      if (root._bokeh_is_loading === 0) {\n",
       "        console.debug(\"Bokeh: all BokehJS libraries/stylesheets loaded\");\n",
       "        run_callbacks()\n",
       "      }\n",
       "    }\n",
       "\n",
       "    function on_error(url) {\n",
       "      console.error(\"failed to load \" + url);\n",
       "    }\n",
       "\n",
       "    for (let i = 0; i < css_urls.length; i++) {\n",
       "      const url = css_urls[i];\n",
       "      const element = document.createElement(\"link\");\n",
       "      element.onload = on_load;\n",
       "      element.onerror = on_error.bind(null, url);\n",
       "      element.rel = \"stylesheet\";\n",
       "      element.type = \"text/css\";\n",
       "      element.href = url;\n",
       "      console.debug(\"Bokeh: injecting link tag for BokehJS stylesheet: \", url);\n",
       "      document.body.appendChild(element);\n",
       "    }\n",
       "\n",
       "    for (let i = 0; i < js_urls.length; i++) {\n",
       "      const url = js_urls[i];\n",
       "      const element = document.createElement('script');\n",
       "      element.onload = on_load;\n",
       "      element.onerror = on_error.bind(null, url);\n",
       "      element.async = false;\n",
       "      element.src = url;\n",
       "      console.debug(\"Bokeh: injecting script tag for BokehJS library: \", url);\n",
       "      document.head.appendChild(element);\n",
       "    }\n",
       "  };\n",
       "\n",
       "  function inject_raw_css(css) {\n",
       "    const element = document.createElement(\"style\");\n",
       "    element.appendChild(document.createTextNode(css));\n",
       "    document.body.appendChild(element);\n",
       "  }\n",
       "\n",
       "  \n",
       "  const js_urls = [\"https://cdn.bokeh.org/bokeh/release/bokeh-2.4.0.min.js\", \"https://cdn.bokeh.org/bokeh/release/bokeh-gl-2.4.0.min.js\", \"https://cdn.bokeh.org/bokeh/release/bokeh-widgets-2.4.0.min.js\", \"https://cdn.bokeh.org/bokeh/release/bokeh-tables-2.4.0.min.js\", \"https://cdn.bokeh.org/bokeh/release/bokeh-mathjax-2.4.0.min.js\"];\n",
       "  const css_urls = [];\n",
       "  \n",
       "\n",
       "  const inline_js = [\n",
       "    function(Bokeh) {\n",
       "      Bokeh.set_log_level(\"info\");\n",
       "    },\n",
       "    function(Bokeh) {\n",
       "    \n",
       "    \n",
       "    }\n",
       "  ];\n",
       "\n",
       "  function run_inline_js() {\n",
       "    \n",
       "    if (root.Bokeh !== undefined || force === true) {\n",
       "      \n",
       "    for (let i = 0; i < inline_js.length; i++) {\n",
       "      inline_js[i].call(root, root.Bokeh);\n",
       "    }\n",
       "    if (force === true) {\n",
       "        display_loaded();\n",
       "      }} else if (Date.now() < root._bokeh_timeout) {\n",
       "      setTimeout(run_inline_js, 100);\n",
       "    } else if (!root._bokeh_failed_load) {\n",
       "      console.log(\"Bokeh: BokehJS failed to load within specified timeout.\");\n",
       "      root._bokeh_failed_load = true;\n",
       "    } else if (force !== true) {\n",
       "      const cell = $(document.getElementById(\"1002\")).parents('.cell').data().cell;\n",
       "      cell.output_area.append_execute_result(NB_LOAD_WARNING)\n",
       "    }\n",
       "\n",
       "  }\n",
       "\n",
       "  if (root._bokeh_is_loading === 0) {\n",
       "    console.debug(\"Bokeh: BokehJS loaded, going straight to plotting\");\n",
       "    run_inline_js();\n",
       "  } else {\n",
       "    load_libs(css_urls, js_urls, function() {\n",
       "      console.debug(\"Bokeh: BokehJS plotting callback run at\", now());\n",
       "      run_inline_js();\n",
       "    });\n",
       "  }\n",
       "}(window));"
      ],
      "application/vnd.bokehjs_load.v0+json": "\n(function(root) {\n  function now() {\n    return new Date();\n  }\n\n  const force = true;\n\n  if (typeof root._bokeh_onload_callbacks === \"undefined\" || force === true) {\n    root._bokeh_onload_callbacks = [];\n    root._bokeh_is_loading = undefined;\n  }\n\n  \n\n  \n  if (typeof (root._bokeh_timeout) === \"undefined\" || force === true) {\n    root._bokeh_timeout = Date.now() + 5000;\n    root._bokeh_failed_load = false;\n  }\n\n  const NB_LOAD_WARNING = {'data': {'text/html':\n     \"<div style='background-color: #fdd'>\\n\"+\n     \"<p>\\n\"+\n     \"BokehJS does not appear to have successfully loaded. If loading BokehJS from CDN, this \\n\"+\n     \"may be due to a slow or bad network connection. Possible fixes:\\n\"+\n     \"</p>\\n\"+\n     \"<ul>\\n\"+\n     \"<li>re-rerun `output_notebook()` to attempt to load from CDN again, or</li>\\n\"+\n     \"<li>use INLINE resources instead, as so:</li>\\n\"+\n     \"</ul>\\n\"+\n     \"<code>\\n\"+\n     \"from bokeh.resources import INLINE\\n\"+\n     \"output_notebook(resources=INLINE)\\n\"+\n     \"</code>\\n\"+\n     \"</div>\"}};\n\n  function display_loaded() {\n    const el = document.getElementById(\"1002\");\n    if (el != null) {\n      el.textContent = \"BokehJS is loading...\";\n    }\n    if (root.Bokeh !== undefined) {\n      if (el != null) {\n        el.textContent = \"BokehJS \" + root.Bokeh.version + \" successfully loaded.\";\n      }\n    } else if (Date.now() < root._bokeh_timeout) {\n      setTimeout(display_loaded, 100)\n    }\n  }\n\n\n  function run_callbacks() {\n    try {\n      root._bokeh_onload_callbacks.forEach(function(callback) {\n        if (callback != null)\n          callback();\n      });\n    } finally {\n      delete root._bokeh_onload_callbacks\n    }\n    console.debug(\"Bokeh: all callbacks have finished\");\n  }\n\n  function load_libs(css_urls, js_urls, callback) {\n    if (css_urls == null) css_urls = [];\n    if (js_urls == null) js_urls = [];\n\n    root._bokeh_onload_callbacks.push(callback);\n    if (root._bokeh_is_loading > 0) {\n      console.debug(\"Bokeh: BokehJS is being loaded, scheduling callback at\", now());\n      return null;\n    }\n    if (js_urls == null || js_urls.length === 0) {\n      run_callbacks();\n      return null;\n    }\n    console.debug(\"Bokeh: BokehJS not loaded, scheduling load and callback at\", now());\n    root._bokeh_is_loading = css_urls.length + js_urls.length;\n\n    function on_load() {\n      root._bokeh_is_loading--;\n      if (root._bokeh_is_loading === 0) {\n        console.debug(\"Bokeh: all BokehJS libraries/stylesheets loaded\");\n        run_callbacks()\n      }\n    }\n\n    function on_error(url) {\n      console.error(\"failed to load \" + url);\n    }\n\n    for (let i = 0; i < css_urls.length; i++) {\n      const url = css_urls[i];\n      const element = document.createElement(\"link\");\n      element.onload = on_load;\n      element.onerror = on_error.bind(null, url);\n      element.rel = \"stylesheet\";\n      element.type = \"text/css\";\n      element.href = url;\n      console.debug(\"Bokeh: injecting link tag for BokehJS stylesheet: \", url);\n      document.body.appendChild(element);\n    }\n\n    for (let i = 0; i < js_urls.length; i++) {\n      const url = js_urls[i];\n      const element = document.createElement('script');\n      element.onload = on_load;\n      element.onerror = on_error.bind(null, url);\n      element.async = false;\n      element.src = url;\n      console.debug(\"Bokeh: injecting script tag for BokehJS library: \", url);\n      document.head.appendChild(element);\n    }\n  };\n\n  function inject_raw_css(css) {\n    const element = document.createElement(\"style\");\n    element.appendChild(document.createTextNode(css));\n    document.body.appendChild(element);\n  }\n\n  \n  const js_urls = [\"https://cdn.bokeh.org/bokeh/release/bokeh-2.4.0.min.js\", \"https://cdn.bokeh.org/bokeh/release/bokeh-gl-2.4.0.min.js\", \"https://cdn.bokeh.org/bokeh/release/bokeh-widgets-2.4.0.min.js\", \"https://cdn.bokeh.org/bokeh/release/bokeh-tables-2.4.0.min.js\", \"https://cdn.bokeh.org/bokeh/release/bokeh-mathjax-2.4.0.min.js\"];\n  const css_urls = [];\n  \n\n  const inline_js = [\n    function(Bokeh) {\n      Bokeh.set_log_level(\"info\");\n    },\n    function(Bokeh) {\n    \n    \n    }\n  ];\n\n  function run_inline_js() {\n    \n    if (root.Bokeh !== undefined || force === true) {\n      \n    for (let i = 0; i < inline_js.length; i++) {\n      inline_js[i].call(root, root.Bokeh);\n    }\n    if (force === true) {\n        display_loaded();\n      }} else if (Date.now() < root._bokeh_timeout) {\n      setTimeout(run_inline_js, 100);\n    } else if (!root._bokeh_failed_load) {\n      console.log(\"Bokeh: BokehJS failed to load within specified timeout.\");\n      root._bokeh_failed_load = true;\n    } else if (force !== true) {\n      const cell = $(document.getElementById(\"1002\")).parents('.cell').data().cell;\n      cell.output_area.append_execute_result(NB_LOAD_WARNING)\n    }\n\n  }\n\n  if (root._bokeh_is_loading === 0) {\n    console.debug(\"Bokeh: BokehJS loaded, going straight to plotting\");\n    run_inline_js();\n  } else {\n    load_libs(css_urls, js_urls, function() {\n      console.debug(\"Bokeh: BokehJS plotting callback run at\", now());\n      run_inline_js();\n    });\n  }\n}(window));"
     },
     "metadata": {},
     "output_type": "display_data"
    }
   ],
   "source": [
    "from bokeh.plotting import figure\n",
    "from bokeh.io import show, output_notebook, push_notebook\n",
    "import ipywidgets as ipw\n",
    "output_notebook()"
   ]
  },
  {
   "cell_type": "code",
   "execution_count": 4,
   "metadata": {
    "scrolled": true
   },
   "outputs": [
    {
     "data": {
      "text/html": [
       "\n",
       "\n",
       "\n",
       "\n",
       "\n",
       "\n",
       "  <div class=\"bk-root\" id=\"de9cb5ef-3fa2-4725-bf49-1508d98a278a\" data-root-id=\"1003\"></div>\n"
      ]
     },
     "metadata": {},
     "output_type": "display_data"
    },
    {
     "data": {
      "application/javascript": [
       "(function(root) {\n",
       "  function embed_document(root) {\n",
       "    \n",
       "  const docs_json = {\"5145fe4d-c7dc-4da3-8398-aa35bfbf89fb\":{\"defs\":[],\"roots\":{\"references\":[{\"attributes\":{\"below\":[{\"id\":\"1014\"}],\"center\":[{\"id\":\"1017\"},{\"id\":\"1021\"}],\"left\":[{\"id\":\"1018\"}],\"renderers\":[{\"id\":\"1040\"}],\"title\":{\"id\":\"1004\"},\"toolbar\":{\"id\":\"1029\"},\"x_range\":{\"id\":\"1006\"},\"x_scale\":{\"id\":\"1010\"},\"y_range\":{\"id\":\"1008\"},\"y_scale\":{\"id\":\"1012\"}},\"id\":\"1003\",\"subtype\":\"Figure\",\"type\":\"Plot\"},{\"attributes\":{},\"id\":\"1025\",\"type\":\"SaveTool\"},{\"attributes\":{},\"id\":\"1026\",\"type\":\"ResetTool\"},{\"attributes\":{},\"id\":\"1027\",\"type\":\"HelpTool\"},{\"attributes\":{},\"id\":\"1049\",\"type\":\"UnionRenderers\"},{\"attributes\":{\"bottom_units\":\"screen\",\"coordinates\":null,\"fill_alpha\":0.5,\"fill_color\":\"lightgrey\",\"group\":null,\"left_units\":\"screen\",\"level\":\"overlay\",\"line_alpha\":1.0,\"line_color\":\"black\",\"line_dash\":[4,4],\"line_width\":2,\"right_units\":\"screen\",\"syncable\":false,\"top_units\":\"screen\"},\"id\":\"1028\",\"type\":\"BoxAnnotation\"},{\"attributes\":{},\"id\":\"1050\",\"type\":\"Selection\"},{\"attributes\":{\"line_alpha\":0.1,\"line_color\":\"#1f77b4\",\"line_width\":2,\"x\":{\"field\":\"x\"},\"y\":{\"field\":\"y\"}},\"id\":\"1038\",\"type\":\"Line\"},{\"attributes\":{\"line_alpha\":0.2,\"line_color\":\"#1f77b4\",\"line_width\":2,\"x\":{\"field\":\"x\"},\"y\":{\"field\":\"y\"}},\"id\":\"1039\",\"type\":\"Line\"},{\"attributes\":{\"source\":{\"id\":\"1036\"}},\"id\":\"1041\",\"type\":\"CDSView\"},{\"attributes\":{},\"id\":\"1008\",\"type\":\"DataRange1d\"},{\"attributes\":{\"line_color\":\"#1f77b4\",\"line_width\":2,\"x\":{\"field\":\"x\"},\"y\":{\"field\":\"y\"}},\"id\":\"1037\",\"type\":\"Line\"},{\"attributes\":{},\"id\":\"1006\",\"type\":\"DataRange1d\"},{\"attributes\":{\"coordinates\":null,\"data_source\":{\"id\":\"1036\"},\"glyph\":{\"id\":\"1037\"},\"group\":null,\"hover_glyph\":null,\"muted_glyph\":{\"id\":\"1039\"},\"nonselection_glyph\":{\"id\":\"1038\"},\"view\":{\"id\":\"1041\"}},\"id\":\"1040\",\"type\":\"GlyphRenderer\"},{\"attributes\":{},\"id\":\"1012\",\"type\":\"LinearScale\"},{\"attributes\":{\"coordinates\":null,\"group\":null,\"text\":\"Spectrum test\"},\"id\":\"1004\",\"type\":\"Title\"},{\"attributes\":{},\"id\":\"1048\",\"type\":\"AllLabels\"},{\"attributes\":{},\"id\":\"1015\",\"type\":\"BasicTicker\"},{\"attributes\":{\"axis\":{\"id\":\"1014\"},\"coordinates\":null,\"group\":null,\"ticker\":null},\"id\":\"1017\",\"type\":\"Grid\"},{\"attributes\":{},\"id\":\"1010\",\"type\":\"LinearScale\"},{\"attributes\":{\"axis_label\":\"E / eV\",\"coordinates\":null,\"formatter\":{\"id\":\"1047\"},\"group\":null,\"major_label_policy\":{\"id\":\"1048\"},\"ticker\":{\"id\":\"1015\"}},\"id\":\"1014\",\"type\":\"LinearAxis\"},{\"attributes\":{\"data\":{\"x\":{\"__ndarray__\":\"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\",\"dtype\":\"float64\",\"order\":\"little\",\"shape\":[500]},\"y\":{\"__ndarray__\":\"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\",\"dtype\":\"float64\",\"order\":\"little\",\"shape\":[500]}},\"selected\":{\"id\":\"1050\"},\"selection_policy\":{\"id\":\"1049\"}},\"id\":\"1036\",\"type\":\"ColumnDataSource\"},{\"attributes\":{},\"id\":\"1023\",\"type\":\"WheelZoomTool\"},{\"attributes\":{},\"id\":\"1044\",\"type\":\"BasicTickFormatter\"},{\"attributes\":{\"axis_label\":\"I / cm^-2 * molecule ^ -1\",\"coordinates\":null,\"formatter\":{\"id\":\"1044\"},\"group\":null,\"major_label_policy\":{\"id\":\"1045\"},\"ticker\":{\"id\":\"1019\"}},\"id\":\"1018\",\"type\":\"LinearAxis\"},{\"attributes\":{\"axis\":{\"id\":\"1018\"},\"coordinates\":null,\"dimension\":1,\"group\":null,\"ticker\":null},\"id\":\"1021\",\"type\":\"Grid\"},{\"attributes\":{},\"id\":\"1045\",\"type\":\"AllLabels\"},{\"attributes\":{},\"id\":\"1019\",\"type\":\"BasicTicker\"},{\"attributes\":{\"overlay\":{\"id\":\"1028\"}},\"id\":\"1024\",\"type\":\"BoxZoomTool\"},{\"attributes\":{},\"id\":\"1047\",\"type\":\"BasicTickFormatter\"},{\"attributes\":{\"tools\":[{\"id\":\"1022\"},{\"id\":\"1023\"},{\"id\":\"1024\"},{\"id\":\"1025\"},{\"id\":\"1026\"},{\"id\":\"1027\"}]},\"id\":\"1029\",\"type\":\"Toolbar\"},{\"attributes\":{},\"id\":\"1022\",\"type\":\"PanTool\"}],\"root_ids\":[\"1003\"]},\"title\":\"Bokeh Application\",\"version\":\"2.4.0\"}};\n",
       "  const render_items = [{\"docid\":\"5145fe4d-c7dc-4da3-8398-aa35bfbf89fb\",\"notebook_comms_target\":\"1052\",\"root_ids\":[\"1003\"],\"roots\":{\"1003\":\"de9cb5ef-3fa2-4725-bf49-1508d98a278a\"}}];\n",
       "  root.Bokeh.embed.embed_items_notebook(docs_json, render_items);\n",
       "\n",
       "  }\n",
       "  if (root.Bokeh !== undefined) {\n",
       "    embed_document(root);\n",
       "  } else {\n",
       "    let attempts = 0;\n",
       "    const timer = setInterval(function(root) {\n",
       "      if (root.Bokeh !== undefined) {\n",
       "        clearInterval(timer);\n",
       "        embed_document(root);\n",
       "      } else {\n",
       "        attempts++;\n",
       "        if (attempts > 100) {\n",
       "          clearInterval(timer);\n",
       "          console.log(\"Bokeh: ERROR: Unable to run BokehJS code because BokehJS library is missing\");\n",
       "        }\n",
       "      }\n",
       "    }, 10, root)\n",
       "  }\n",
       "})(window);"
      ],
      "application/vnd.bokehjs_exec.v0+json": ""
     },
     "metadata": {
      "application/vnd.bokehjs_exec.v0+json": {
       "id": "1003"
      }
     },
     "output_type": "display_data"
    },
    {
     "data": {
      "application/vnd.jupyter.widget-view+json": {
       "model_id": "0937ae594ced4245a5ecd9bd87f05395",
       "version_major": 2,
       "version_minor": 0
      },
      "text/plain": [
       "interactive(children=(FloatSlider(value=0.5, description='width', max=1.0, min=0.05, step=0.05), Output()), _d…"
      ]
     },
     "metadata": {},
     "output_type": "display_data"
    }
   ],
   "source": [
    "spec = Spectrum(transitions, nsample)\n",
    "\n",
    "# TODO: Figure out how to use with ipywidgets\n",
    "# https://github.com/bokeh/bokeh/issues/7023\n",
    "\n",
    "# Initial spectrum\n",
    "x, y = spec.get_lorentzian_spectrum(0.5, 'ev', 'cross_section')    \n",
    "f = figure(title=\"Spectrum test\",  x_axis_label='E / eV',   y_axis_label='I / cm^-2 * molecule ^ -1')\n",
    "line = f.line(x, y, line_width=2)\n",
    "\n",
    "def plot_spectrum(width):\n",
    "    nsample = 1\n",
    "    x, y = spec.get_gaussian_spectrum(width, 'ev', 'cross_section')\n",
    "    line.data_source.data['x'] = x\n",
    "    line.data_source.data['y'] = y\n",
    "    push_notebook()\n",
    "\n",
    "handle = show(f, notebook_handle=True)\n",
    "i = ipw.interact(plot_spectrum, width=(0.05, 1.0, 0.05))"
   ]
  },
  {
   "cell_type": "code",
   "execution_count": 9,
   "metadata": {},
   "outputs": [
    {
     "data": {
      "text/html": [
       "\n",
       "    <div class=\"bk-root\">\n",
       "        <a href=\"https://bokeh.org\" target=\"_blank\" class=\"bk-logo bk-logo-small bk-logo-notebook\"></a>\n",
       "        <span id=\"2601\">Loading BokehJS ...</span>\n",
       "    </div>"
      ]
     },
     "metadata": {},
     "output_type": "display_data"
    },
    {
     "data": {
      "application/javascript": [
       "\n",
       "(function(root) {\n",
       "  function now() {\n",
       "    return new Date();\n",
       "  }\n",
       "\n",
       "  const force = true;\n",
       "\n",
       "  if (typeof root._bokeh_onload_callbacks === \"undefined\" || force === true) {\n",
       "    root._bokeh_onload_callbacks = [];\n",
       "    root._bokeh_is_loading = undefined;\n",
       "  }\n",
       "\n",
       "  const JS_MIME_TYPE = 'application/javascript';\n",
       "  const HTML_MIME_TYPE = 'text/html';\n",
       "  const EXEC_MIME_TYPE = 'application/vnd.bokehjs_exec.v0+json';\n",
       "  const CLASS_NAME = 'output_bokeh rendered_html';\n",
       "\n",
       "  /**\n",
       "   * Render data to the DOM node\n",
       "   */\n",
       "  function render(props, node) {\n",
       "    const script = document.createElement(\"script\");\n",
       "    node.appendChild(script);\n",
       "  }\n",
       "\n",
       "  /**\n",
       "   * Handle when an output is cleared or removed\n",
       "   */\n",
       "  function handleClearOutput(event, handle) {\n",
       "    const cell = handle.cell;\n",
       "\n",
       "    const id = cell.output_area._bokeh_element_id;\n",
       "    const server_id = cell.output_area._bokeh_server_id;\n",
       "    // Clean up Bokeh references\n",
       "    if (id != null && id in Bokeh.index) {\n",
       "      Bokeh.index[id].model.document.clear();\n",
       "      delete Bokeh.index[id];\n",
       "    }\n",
       "\n",
       "    if (server_id !== undefined) {\n",
       "      // Clean up Bokeh references\n",
       "      const cmd_clean = \"from bokeh.io.state import curstate; print(curstate().uuid_to_server['\" + server_id + \"'].get_sessions()[0].document.roots[0]._id)\";\n",
       "      cell.notebook.kernel.execute(cmd_clean, {\n",
       "        iopub: {\n",
       "          output: function(msg) {\n",
       "            const id = msg.content.text.trim();\n",
       "            if (id in Bokeh.index) {\n",
       "              Bokeh.index[id].model.document.clear();\n",
       "              delete Bokeh.index[id];\n",
       "            }\n",
       "          }\n",
       "        }\n",
       "      });\n",
       "      // Destroy server and session\n",
       "      const cmd_destroy = \"import bokeh.io.notebook as ion; ion.destroy_server('\" + server_id + \"')\";\n",
       "      cell.notebook.kernel.execute(cmd_destroy);\n",
       "    }\n",
       "  }\n",
       "\n",
       "  /**\n",
       "   * Handle when a new output is added\n",
       "   */\n",
       "  function handleAddOutput(event, handle) {\n",
       "    const output_area = handle.output_area;\n",
       "    const output = handle.output;\n",
       "\n",
       "    // limit handleAddOutput to display_data with EXEC_MIME_TYPE content only\n",
       "    if ((output.output_type != \"display_data\") || (!Object.prototype.hasOwnProperty.call(output.data, EXEC_MIME_TYPE))) {\n",
       "      return\n",
       "    }\n",
       "\n",
       "    const toinsert = output_area.element.find(\".\" + CLASS_NAME.split(' ')[0]);\n",
       "\n",
       "    if (output.metadata[EXEC_MIME_TYPE][\"id\"] !== undefined) {\n",
       "      toinsert[toinsert.length - 1].firstChild.textContent = output.data[JS_MIME_TYPE];\n",
       "      // store reference to embed id on output_area\n",
       "      output_area._bokeh_element_id = output.metadata[EXEC_MIME_TYPE][\"id\"];\n",
       "    }\n",
       "    if (output.metadata[EXEC_MIME_TYPE][\"server_id\"] !== undefined) {\n",
       "      const bk_div = document.createElement(\"div\");\n",
       "      bk_div.innerHTML = output.data[HTML_MIME_TYPE];\n",
       "      const script_attrs = bk_div.children[0].attributes;\n",
       "      for (let i = 0; i < script_attrs.length; i++) {\n",
       "        toinsert[toinsert.length - 1].firstChild.setAttribute(script_attrs[i].name, script_attrs[i].value);\n",
       "        toinsert[toinsert.length - 1].firstChild.textContent = bk_div.children[0].textContent\n",
       "      }\n",
       "      // store reference to server id on output_area\n",
       "      output_area._bokeh_server_id = output.metadata[EXEC_MIME_TYPE][\"server_id\"];\n",
       "    }\n",
       "  }\n",
       "\n",
       "  function register_renderer(events, OutputArea) {\n",
       "\n",
       "    function append_mime(data, metadata, element) {\n",
       "      // create a DOM node to render to\n",
       "      const toinsert = this.create_output_subarea(\n",
       "        metadata,\n",
       "        CLASS_NAME,\n",
       "        EXEC_MIME_TYPE\n",
       "      );\n",
       "      this.keyboard_manager.register_events(toinsert);\n",
       "      // Render to node\n",
       "      const props = {data: data, metadata: metadata[EXEC_MIME_TYPE]};\n",
       "      render(props, toinsert[toinsert.length - 1]);\n",
       "      element.append(toinsert);\n",
       "      return toinsert\n",
       "    }\n",
       "\n",
       "    /* Handle when an output is cleared or removed */\n",
       "    events.on('clear_output.CodeCell', handleClearOutput);\n",
       "    events.on('delete.Cell', handleClearOutput);\n",
       "\n",
       "    /* Handle when a new output is added */\n",
       "    events.on('output_added.OutputArea', handleAddOutput);\n",
       "\n",
       "    /**\n",
       "     * Register the mime type and append_mime function with output_area\n",
       "     */\n",
       "    OutputArea.prototype.register_mime_type(EXEC_MIME_TYPE, append_mime, {\n",
       "      /* Is output safe? */\n",
       "      safe: true,\n",
       "      /* Index of renderer in `output_area.display_order` */\n",
       "      index: 0\n",
       "    });\n",
       "  }\n",
       "\n",
       "  // register the mime type if in Jupyter Notebook environment and previously unregistered\n",
       "  if (root.Jupyter !== undefined) {\n",
       "    const events = require('base/js/events');\n",
       "    const OutputArea = require('notebook/js/outputarea').OutputArea;\n",
       "\n",
       "    if (OutputArea.prototype.mime_types().indexOf(EXEC_MIME_TYPE) == -1) {\n",
       "      register_renderer(events, OutputArea);\n",
       "    }\n",
       "  }\n",
       "\n",
       "  \n",
       "  if (typeof (root._bokeh_timeout) === \"undefined\" || force === true) {\n",
       "    root._bokeh_timeout = Date.now() + 5000;\n",
       "    root._bokeh_failed_load = false;\n",
       "  }\n",
       "\n",
       "  const NB_LOAD_WARNING = {'data': {'text/html':\n",
       "     \"<div style='background-color: #fdd'>\\n\"+\n",
       "     \"<p>\\n\"+\n",
       "     \"BokehJS does not appear to have successfully loaded. If loading BokehJS from CDN, this \\n\"+\n",
       "     \"may be due to a slow or bad network connection. Possible fixes:\\n\"+\n",
       "     \"</p>\\n\"+\n",
       "     \"<ul>\\n\"+\n",
       "     \"<li>re-rerun `output_notebook()` to attempt to load from CDN again, or</li>\\n\"+\n",
       "     \"<li>use INLINE resources instead, as so:</li>\\n\"+\n",
       "     \"</ul>\\n\"+\n",
       "     \"<code>\\n\"+\n",
       "     \"from bokeh.resources import INLINE\\n\"+\n",
       "     \"output_notebook(resources=INLINE)\\n\"+\n",
       "     \"</code>\\n\"+\n",
       "     \"</div>\"}};\n",
       "\n",
       "  function display_loaded() {\n",
       "    const el = document.getElementById(\"2601\");\n",
       "    if (el != null) {\n",
       "      el.textContent = \"BokehJS is loading...\";\n",
       "    }\n",
       "    if (root.Bokeh !== undefined) {\n",
       "      if (el != null) {\n",
       "        el.textContent = \"BokehJS \" + root.Bokeh.version + \" successfully loaded.\";\n",
       "      }\n",
       "    } else if (Date.now() < root._bokeh_timeout) {\n",
       "      setTimeout(display_loaded, 100)\n",
       "    }\n",
       "  }\n",
       "\n",
       "\n",
       "  function run_callbacks() {\n",
       "    try {\n",
       "      root._bokeh_onload_callbacks.forEach(function(callback) {\n",
       "        if (callback != null)\n",
       "          callback();\n",
       "      });\n",
       "    } finally {\n",
       "      delete root._bokeh_onload_callbacks\n",
       "    }\n",
       "    console.debug(\"Bokeh: all callbacks have finished\");\n",
       "  }\n",
       "\n",
       "  function load_libs(css_urls, js_urls, callback) {\n",
       "    if (css_urls == null) css_urls = [];\n",
       "    if (js_urls == null) js_urls = [];\n",
       "\n",
       "    root._bokeh_onload_callbacks.push(callback);\n",
       "    if (root._bokeh_is_loading > 0) {\n",
       "      console.debug(\"Bokeh: BokehJS is being loaded, scheduling callback at\", now());\n",
       "      return null;\n",
       "    }\n",
       "    if (js_urls == null || js_urls.length === 0) {\n",
       "      run_callbacks();\n",
       "      return null;\n",
       "    }\n",
       "    console.debug(\"Bokeh: BokehJS not loaded, scheduling load and callback at\", now());\n",
       "    root._bokeh_is_loading = css_urls.length + js_urls.length;\n",
       "\n",
       "    function on_load() {\n",
       "      root._bokeh_is_loading--;\n",
       "      if (root._bokeh_is_loading === 0) {\n",
       "        console.debug(\"Bokeh: all BokehJS libraries/stylesheets loaded\");\n",
       "        run_callbacks()\n",
       "      }\n",
       "    }\n",
       "\n",
       "    function on_error(url) {\n",
       "      console.error(\"failed to load \" + url);\n",
       "    }\n",
       "\n",
       "    for (let i = 0; i < css_urls.length; i++) {\n",
       "      const url = css_urls[i];\n",
       "      const element = document.createElement(\"link\");\n",
       "      element.onload = on_load;\n",
       "      element.onerror = on_error.bind(null, url);\n",
       "      element.rel = \"stylesheet\";\n",
       "      element.type = \"text/css\";\n",
       "      element.href = url;\n",
       "      console.debug(\"Bokeh: injecting link tag for BokehJS stylesheet: \", url);\n",
       "      document.body.appendChild(element);\n",
       "    }\n",
       "\n",
       "    for (let i = 0; i < js_urls.length; i++) {\n",
       "      const url = js_urls[i];\n",
       "      const element = document.createElement('script');\n",
       "      element.onload = on_load;\n",
       "      element.onerror = on_error.bind(null, url);\n",
       "      element.async = false;\n",
       "      element.src = url;\n",
       "      console.debug(\"Bokeh: injecting script tag for BokehJS library: \", url);\n",
       "      document.head.appendChild(element);\n",
       "    }\n",
       "  };\n",
       "\n",
       "  function inject_raw_css(css) {\n",
       "    const element = document.createElement(\"style\");\n",
       "    element.appendChild(document.createTextNode(css));\n",
       "    document.body.appendChild(element);\n",
       "  }\n",
       "\n",
       "  \n",
       "  const js_urls = [\"https://cdn.bokeh.org/bokeh/release/bokeh-2.4.0.min.js\", \"https://cdn.bokeh.org/bokeh/release/bokeh-gl-2.4.0.min.js\", \"https://cdn.bokeh.org/bokeh/release/bokeh-widgets-2.4.0.min.js\", \"https://cdn.bokeh.org/bokeh/release/bokeh-tables-2.4.0.min.js\", \"https://cdn.bokeh.org/bokeh/release/bokeh-mathjax-2.4.0.min.js\"];\n",
       "  const css_urls = [];\n",
       "  \n",
       "\n",
       "  const inline_js = [\n",
       "    function(Bokeh) {\n",
       "      Bokeh.set_log_level(\"info\");\n",
       "    },\n",
       "    function(Bokeh) {\n",
       "    \n",
       "    \n",
       "    }\n",
       "  ];\n",
       "\n",
       "  function run_inline_js() {\n",
       "    \n",
       "    if (root.Bokeh !== undefined || force === true) {\n",
       "      \n",
       "    for (let i = 0; i < inline_js.length; i++) {\n",
       "      inline_js[i].call(root, root.Bokeh);\n",
       "    }\n",
       "    if (force === true) {\n",
       "        display_loaded();\n",
       "      }} else if (Date.now() < root._bokeh_timeout) {\n",
       "      setTimeout(run_inline_js, 100);\n",
       "    } else if (!root._bokeh_failed_load) {\n",
       "      console.log(\"Bokeh: BokehJS failed to load within specified timeout.\");\n",
       "      root._bokeh_failed_load = true;\n",
       "    } else if (force !== true) {\n",
       "      const cell = $(document.getElementById(\"2601\")).parents('.cell').data().cell;\n",
       "      cell.output_area.append_execute_result(NB_LOAD_WARNING)\n",
       "    }\n",
       "\n",
       "  }\n",
       "\n",
       "  if (root._bokeh_is_loading === 0) {\n",
       "    console.debug(\"Bokeh: BokehJS loaded, going straight to plotting\");\n",
       "    run_inline_js();\n",
       "  } else {\n",
       "    load_libs(css_urls, js_urls, function() {\n",
       "      console.debug(\"Bokeh: BokehJS plotting callback run at\", now());\n",
       "      run_inline_js();\n",
       "    });\n",
       "  }\n",
       "}(window));"
      ],
      "application/vnd.bokehjs_load.v0+json": "\n(function(root) {\n  function now() {\n    return new Date();\n  }\n\n  const force = true;\n\n  if (typeof root._bokeh_onload_callbacks === \"undefined\" || force === true) {\n    root._bokeh_onload_callbacks = [];\n    root._bokeh_is_loading = undefined;\n  }\n\n  \n\n  \n  if (typeof (root._bokeh_timeout) === \"undefined\" || force === true) {\n    root._bokeh_timeout = Date.now() + 5000;\n    root._bokeh_failed_load = false;\n  }\n\n  const NB_LOAD_WARNING = {'data': {'text/html':\n     \"<div style='background-color: #fdd'>\\n\"+\n     \"<p>\\n\"+\n     \"BokehJS does not appear to have successfully loaded. If loading BokehJS from CDN, this \\n\"+\n     \"may be due to a slow or bad network connection. Possible fixes:\\n\"+\n     \"</p>\\n\"+\n     \"<ul>\\n\"+\n     \"<li>re-rerun `output_notebook()` to attempt to load from CDN again, or</li>\\n\"+\n     \"<li>use INLINE resources instead, as so:</li>\\n\"+\n     \"</ul>\\n\"+\n     \"<code>\\n\"+\n     \"from bokeh.resources import INLINE\\n\"+\n     \"output_notebook(resources=INLINE)\\n\"+\n     \"</code>\\n\"+\n     \"</div>\"}};\n\n  function display_loaded() {\n    const el = document.getElementById(\"2601\");\n    if (el != null) {\n      el.textContent = \"BokehJS is loading...\";\n    }\n    if (root.Bokeh !== undefined) {\n      if (el != null) {\n        el.textContent = \"BokehJS \" + root.Bokeh.version + \" successfully loaded.\";\n      }\n    } else if (Date.now() < root._bokeh_timeout) {\n      setTimeout(display_loaded, 100)\n    }\n  }\n\n\n  function run_callbacks() {\n    try {\n      root._bokeh_onload_callbacks.forEach(function(callback) {\n        if (callback != null)\n          callback();\n      });\n    } finally {\n      delete root._bokeh_onload_callbacks\n    }\n    console.debug(\"Bokeh: all callbacks have finished\");\n  }\n\n  function load_libs(css_urls, js_urls, callback) {\n    if (css_urls == null) css_urls = [];\n    if (js_urls == null) js_urls = [];\n\n    root._bokeh_onload_callbacks.push(callback);\n    if (root._bokeh_is_loading > 0) {\n      console.debug(\"Bokeh: BokehJS is being loaded, scheduling callback at\", now());\n      return null;\n    }\n    if (js_urls == null || js_urls.length === 0) {\n      run_callbacks();\n      return null;\n    }\n    console.debug(\"Bokeh: BokehJS not loaded, scheduling load and callback at\", now());\n    root._bokeh_is_loading = css_urls.length + js_urls.length;\n\n    function on_load() {\n      root._bokeh_is_loading--;\n      if (root._bokeh_is_loading === 0) {\n        console.debug(\"Bokeh: all BokehJS libraries/stylesheets loaded\");\n        run_callbacks()\n      }\n    }\n\n    function on_error(url) {\n      console.error(\"failed to load \" + url);\n    }\n\n    for (let i = 0; i < css_urls.length; i++) {\n      const url = css_urls[i];\n      const element = document.createElement(\"link\");\n      element.onload = on_load;\n      element.onerror = on_error.bind(null, url);\n      element.rel = \"stylesheet\";\n      element.type = \"text/css\";\n      element.href = url;\n      console.debug(\"Bokeh: injecting link tag for BokehJS stylesheet: \", url);\n      document.body.appendChild(element);\n    }\n\n    for (let i = 0; i < js_urls.length; i++) {\n      const url = js_urls[i];\n      const element = document.createElement('script');\n      element.onload = on_load;\n      element.onerror = on_error.bind(null, url);\n      element.async = false;\n      element.src = url;\n      console.debug(\"Bokeh: injecting script tag for BokehJS library: \", url);\n      document.head.appendChild(element);\n    }\n  };\n\n  function inject_raw_css(css) {\n    const element = document.createElement(\"style\");\n    element.appendChild(document.createTextNode(css));\n    document.body.appendChild(element);\n  }\n\n  \n  const js_urls = [\"https://cdn.bokeh.org/bokeh/release/bokeh-2.4.0.min.js\", \"https://cdn.bokeh.org/bokeh/release/bokeh-gl-2.4.0.min.js\", \"https://cdn.bokeh.org/bokeh/release/bokeh-widgets-2.4.0.min.js\", \"https://cdn.bokeh.org/bokeh/release/bokeh-tables-2.4.0.min.js\", \"https://cdn.bokeh.org/bokeh/release/bokeh-mathjax-2.4.0.min.js\"];\n  const css_urls = [];\n  \n\n  const inline_js = [\n    function(Bokeh) {\n      Bokeh.set_log_level(\"info\");\n    },\n    function(Bokeh) {\n    \n    \n    }\n  ];\n\n  function run_inline_js() {\n    \n    if (root.Bokeh !== undefined || force === true) {\n      \n    for (let i = 0; i < inline_js.length; i++) {\n      inline_js[i].call(root, root.Bokeh);\n    }\n    if (force === true) {\n        display_loaded();\n      }} else if (Date.now() < root._bokeh_timeout) {\n      setTimeout(run_inline_js, 100);\n    } else if (!root._bokeh_failed_load) {\n      console.log(\"Bokeh: BokehJS failed to load within specified timeout.\");\n      root._bokeh_failed_load = true;\n    } else if (force !== true) {\n      const cell = $(document.getElementById(\"2601\")).parents('.cell').data().cell;\n      cell.output_area.append_execute_result(NB_LOAD_WARNING)\n    }\n\n  }\n\n  if (root._bokeh_is_loading === 0) {\n    console.debug(\"Bokeh: BokehJS loaded, going straight to plotting\");\n    run_inline_js();\n  } else {\n    load_libs(css_urls, js_urls, function() {\n      console.debug(\"Bokeh: BokehJS plotting callback run at\", now());\n      run_inline_js();\n    });\n  }\n}(window));"
     },
     "metadata": {},
     "output_type": "display_data"
    },
    {
     "data": {
      "application/vnd.jupyter.widget-view+json": {
       "model_id": "7b462bbcdd3e44b78a0901bdbbc77e35",
       "version_major": 2,
       "version_minor": 0
      },
      "text/plain": [
       "HBox(children=(FigureContext(),))"
      ]
     },
     "metadata": {},
     "output_type": "display_data"
    }
   ],
   "source": [
    "import ipywidgets as widgets\n",
    "import numpy as np\n",
    "from bokeh.io import push_notebook, show, output_notebook\n",
    "import bokeh.plotting as plt\n",
    "output_notebook()\n",
    "\n",
    "class BokehFigureContext(widgets.Output):\n",
    "    def __init__(self, fig):\n",
    "        super().__init__()\n",
    "        self._figure = fig\n",
    "        self.on_displayed(lambda x: x.set_handle())\n",
    "            \n",
    "    def set_handle(self):\n",
    "        self.clear_output()\n",
    "        with self:\n",
    "            self._handle = show(self._figure, notebook_handle=True)\n",
    "            \n",
    "    def get_handle(self):\n",
    "        return self._handle\n",
    "    \n",
    "    def get_figure(self):\n",
    "        return self._figure\n",
    "    \n",
    "    def update(self):\n",
    "        push_notebook(handle=self._handle)\n",
    "\n",
    "def create_bokeh_figure(*args, **kwargs):\n",
    "    fig = plt.figure(*args, **kwargs)\n",
    "    return FigureContext(fig)\n",
    "\n",
    "fc = create_bokeh_figure()\n",
    "x = np.random.rand(10)\n",
    "y = np.random.rand(10)\n",
    "fc.get_figure().line(x, y)\n",
    "\n",
    "display(widgets.HBox([fc]))\n",
    "\n",
    "for i in range(100):\n",
    "    rend = fc.get_figure().renderers[0]\n",
    "    rend.data_source.data = {\n",
    "        'x': np.random.rand(10),\n",
    "        'y': np.random.rand(10)\n",
    "    }\n",
    "    fc.update()"
   ]
  },
  {
   "cell_type": "code",
   "execution_count": 81,
   "metadata": {},
   "outputs": [],
   "source": [
    "import traitlets\n",
    "import ipywidgets as ipw\n",
    "import matplotlib.pyplot as plt\n",
    "import scipy\n",
    "from scipy import constants\n",
    "import numpy as np\n",
    "\n",
    "class Spectrum(object):\n",
    "    AUtoCm = 8.478354e-30\n",
    "    COEFF = (\n",
    "        scipy.constants.pi\n",
    "        * AUtoCm ** 2\n",
    "        * 1e4\n",
    "        / (3 * scipy.constants.hbar * scipy.constants.epsilon_0 * scipy.constants.c)\n",
    "    )\n",
    "    # Transition Dipole to Osc. Strength in atomic units\n",
    "    COEFF_NEW = COEFF * 3 / 2\n",
    "    # COEFF =  scipy.constants.pi * AUtoCm**2 * 1e4 * scipy.constants.hbar / (2 * scipy.constants.epsilon_0 * scipy.constants.c * scipy.constants.m_e)\n",
    "\n",
    "    def __init__(self, transitions, nsample):\n",
    "        # Excitation energies in eV\n",
    "        self.excitation_energies = np.array(\n",
    "            [tr[\"energy\"] for tr in transitions], dtype=float\n",
    "        )\n",
    "        # Oscillator strengths\n",
    "        self.osc_strengths = np.array(\n",
    "            [tr[\"osc_strength\"] for tr in transitions], dtype=float\n",
    "        )\n",
    "        # Number of molecular geometries sampled from ground state distribution\n",
    "        self.nsample = nsample\n",
    "\n",
    "    # TODO\n",
    "    def get_spectrum(self, x_min, x_max, x_units, y_units):\n",
    "        \"\"\"Returns a non-broadened spectrum as a tuple of x and y Numpy arrays\"\"\"\n",
    "        n_points = int((x_max - x_min) / self.de)\n",
    "        x = np.arange(x_min, x_max, self.de)\n",
    "        y = np.zeros(n_points)\n",
    "        return x, y\n",
    "\n",
    "    # TODO: Make this function aware of units?\n",
    "    def _get_energy_range(self, energy_unit):\n",
    "        # NOTE: We don't include zero to prevent\n",
    "        # division by zero when converting to wavelength\n",
    "        x_min = max(0.01, self.excitation_energies.min() - 2.0)\n",
    "        x_max = self.excitation_energies.max() + 2.0\n",
    "        \n",
    "        # conversion to nanometers is handled later\n",
    "        if energy_unit.lower() == 'nm':\n",
    "            return x_min, x_max\n",
    "        \n",
    "        #energy_factor_unit = self._get_energy_unit_factor(energy_unit)\n",
    "        #x_min *= energy_factor_unit\n",
    "        #x_max *= energy_factor_unit\n",
    "        return x_min, x_max\n",
    "\n",
    "    def _get_energy_unit_factor(self, unit):\n",
    "        # TODO: We should probably start from atomic units\n",
    "        if unit.lower() == 'ev':\n",
    "            return 1.0\n",
    "        # TODO: Construct these factors from scipy.constants\n",
    "        elif unit.lower() == 'nm':\n",
    "            return 1239.8\n",
    "        elif unit.lower() == 'cm^-1':\n",
    "            return 8065.7\n",
    "\n",
    "    def get_gaussian_spectrum(self, sigma, x_unit, y_unit):\n",
    "        \"\"\"Returns Gaussian broadened spectrum\"\"\"\n",
    "\n",
    "        x_min, x_max = self._get_energy_range(x_unit)\n",
    "\n",
    "        # Conversion factor from eV to given energy unit\n",
    "        # (should probably switch to atomic units as default)\n",
    "        energy_unit_factor = self._get_energy_unit_factor(x_unit)\n",
    "        \n",
    "        energies = np.copy(self.excitation_energies)\n",
    "        # Conversion to wavelength in nm is done at the end instead\n",
    "        # Since it's not a linear transformation\n",
    "        #if x_unit.lower() != 'nm':\n",
    "        #    sigma *= energy_unit_factor\n",
    "        #    energies *= energy_unit_factor\n",
    "        \n",
    "        # TODO: How to determine this properly to cover a given interval?\n",
    "        n_sample = 500\n",
    "        x = np.linspace(x_min, x_max, num=n_sample)\n",
    "        y = np.zeros(len(x))\n",
    "\n",
    "        normalization_factor = (\n",
    "            1 / np.sqrt(2 * scipy.constants.pi) / sigma / self.nsample\n",
    "        )\n",
    "        # TODO: Support other intensity units\n",
    "        unit_factor = self.COEFF_NEW\n",
    "        for exc_energy, osc_strength in zip(\n",
    "            energies, self.osc_strengths\n",
    "        ):\n",
    "            prefactor = normalization_factor * unit_factor * osc_strength\n",
    "            y += prefactor * np.exp(-((x - exc_energy) ** 2) / 2 / sigma ** 2)\n",
    "        \n",
    "        \n",
    "        if x_unit.lower() == 'nm':\n",
    "            x, y = self._convert_to_nanometers(x, y)\n",
    "        else:\n",
    "            x *= energy_unit_factor\n",
    "            \n",
    "        return x, y\n",
    "\n",
    "    \n",
    "    def get_lorentzian_spectrum(self, tau, x_unit, y_unit):\n",
    "        \"\"\"Returns Gaussian broadened spectrum\"\"\"\n",
    "        # TODO: Determine x_min automatically based on transition energies\n",
    "        # and x_units\n",
    "        x_min, x_max = self._get_energy_range(x_unit)\n",
    "\n",
    "        # Conversion factor from eV to given energy unit\n",
    "        # (should probably switch to atomic units as default)\n",
    "        energy_unit_factor = self._get_energy_unit_factor(x_unit)\n",
    "        \n",
    "        energies = np.copy(self.excitation_energies)\n",
    "        \n",
    "        # TODO: How to determine this properly to cover a given interval?\n",
    "        n_sample = 500\n",
    "        x = np.linspace(x_min, x_max, num=n_sample)\n",
    "        y = np.zeros(len(x))\n",
    "\n",
    "        normalization_factor = tau / 2 / scipy.constants.pi / self.nsample\n",
    "        unit_factor = self.COEFF_NEW\n",
    "\n",
    "        for exc_energy, osc_strength in zip(\n",
    "            energies, self.osc_strengths\n",
    "        ):\n",
    "            prefactor = normalization_factor * unit_factor * osc_strength\n",
    "            y += prefactor / ((x - exc_energy) ** 2 + (tau ** 2) / 4)\n",
    "\n",
    "        if x_unit.lower() == 'nm':\n",
    "            x, y = self._convert_to_nanometers(x, y)\n",
    "        else:\n",
    "            x *= energy_unit_factor\n",
    "            \n",
    "        return x, y\n",
    "\n",
    "    def _convert_to_nanometers(self, x, y):\n",
    "        x = self._get_energy_unit_factor('nm') / x\n",
    "        # Filtering out ultralong wavelengths\n",
    "        nm_thr = 1000\n",
    "        to_delete = []\n",
    "        for i in range(len(x)):\n",
    "            if x[i] > 1000:\n",
    "                to_delete.append(i)\n",
    "        x = np.delete(x, to_delete)\n",
    "        y = np.delete(y, to_delete)\n",
    "        return x, y\n",
    "            \n",
    "\n",
    "class SpectrumWidget(ipw.VBox):\n",
    "\n",
    "    transitions = traitlets.List()\n",
    "\n",
    "    def __init__(self, **kwargs):\n",
    "        title = ipw.HTML(\n",
    "            \"\"\"<div style=\"padding-top: 0px; padding-bottom: 0px\">\n",
    "            <h4>UV/Vis Spectrum</h4></div>\"\"\"\n",
    "        )\n",
    "\n",
    "        # TODO: Remove this debugging output later\n",
    "        self.output = ipw.Output()\n",
    "\n",
    "        self.spectrum_container = ipw.Box()\n",
    "        self.width_slider = ipw.FloatSlider(\n",
    "            min=0.05, max=1, step=0.05, value=0.5, description=\"Width / eV\"\n",
    "        )\n",
    "        self.kernel_selector = ipw.ToggleButtons(\n",
    "            options=[\"gaussian\", \"lorentzian\"],  # TODO: None option\n",
    "            description=\"Broadening kernel:\",\n",
    "            disabled=False,\n",
    "            button_style=\"info\",  # 'success', 'info', 'warning', 'danger' or ''\n",
    "            tooltips=[\n",
    "                \"Description of slow\",\n",
    "                \"Description of regular\",\n",
    "                \"Description of fast\",\n",
    "            ],\n",
    "        )\n",
    "        self.xunit_selector = ipw.RadioButtons(\n",
    "                # TODO: Make an enum with different energy units\n",
    "                options=[\"eV\", \"nm\", \"cm^-1\"],\n",
    "                disabled=False,\n",
    "                description=\"Energy unit\",\n",
    "        )\n",
    "\n",
    "        controls = ipw.HBox(children=[\n",
    "                    ipw.VBox(children=[\n",
    "                        self.kernel_selector,\n",
    "                        self.width_slider]),\n",
    "                    self.xunit_selector]\n",
    "                    )\n",
    "\n",
    "        super().__init__(\n",
    "            [\n",
    "                title,\n",
    "                controls,\n",
    "                self.spectrum_container,\n",
    "                self.output,\n",
    "            ],\n",
    "            **kwargs,\n",
    "        )\n",
    "\n",
    "    def _init_figure(self):\n",
    "         self.figure = plt.Figure()\n",
    "        \n",
    "    def _plot_spectrum(self, kernel, width, energy_unit):\n",
    "        nsample = 1\n",
    "        spec = Spectrum(self.transitions, nsample)\n",
    "        intensity_unit = \"cm^-2 per molecule\"\n",
    "        if kernel == \"lorentzian\":\n",
    "            x, y = spec.get_lorentzian_spectrum(width, energy_unit, intensity_unit)\n",
    "        elif kernel == \"gaussian\":\n",
    "            x, y = spec.get_gaussian_spectrum(width, energy_unit, intensity_unit)\n",
    "        else:\n",
    "            with self.output:\n",
    "                print(\"Invalid broadening type\")\n",
    "                return\n",
    "\n",
    "        # TODO: Maybe determine optimal min max of x and y axes\n",
    "        # so that they don't change for different widths?\n",
    "        # \n",
    "        # Remove previous lines.\n",
    "        #[l.remove() for l in self.axes.lines]\n",
    "        plt.plot(x, y)\n",
    "        plt.xlabel(f\"Energy / {energy_unit}\")\n",
    "        plt.ylabel(f\"Intensity / {intensity_unit}\")\n",
    "        plt.show()\n",
    "\n",
    "    def _validate_transitions(self):\n",
    "        # TODO: Maybe use named tuple instead of dictionary?\n",
    "        for tr in self.transitions:\n",
    "            if not isinstance(tr, dict) or (\n",
    "                \"energy\" not in tr or \"osc_strength\" not in tr\n",
    "            ):\n",
    "                with self.output:\n",
    "                    print(\"Invalid transition\", tr)\n",
    "                    return False\n",
    "        return True\n",
    "\n",
    "    def _show_spectrum(self):\n",
    "        self.output.clear_output()\n",
    "        self._init_figure()\n",
    "        if self._validate_transitions:\n",
    "            spectrum = ipw.interactive_output(\n",
    "                self._plot_spectrum,\n",
    "                {\"width\": self.width_slider,\n",
    "                 \"kernel\": self.kernel_selector,\n",
    "                 \"energy_unit\": self.xunit_selector},\n",
    "            )\n",
    "            self.spectrum_container.children = [spectrum]\n",
    "        else:\n",
    "            # TODO: Add proper error handling\n",
    "            raise KeyError\n",
    "\n",
    "    @traitlets.observe(\"transitions\")\n",
    "    def _observe_transitions(self, change):\n",
    "        self._show_spectrum()"
   ]
  },
  {
   "cell_type": "code",
   "execution_count": 82,
   "metadata": {
    "scrolled": false
   },
   "outputs": [
    {
     "data": {
      "application/vnd.jupyter.widget-view+json": {
       "model_id": "48ddcd05a4974d928688c4f5b70823c5",
       "version_major": 2,
       "version_minor": 0
      },
      "text/plain": [
       "SpectrumWidget(children=(HTML(value='<div style=\"padding-top: 0px; padding-bottom: 0px\">\\n            <h4>UV/V…"
      ]
     },
     "metadata": {},
     "output_type": "display_data"
    }
   ],
   "source": [
    "s = SpectrumWidget()\n",
    "transition1 = {\n",
    "    'energy': 2, # Excited energy in eV\n",
    "    'osc_strength': '0.016510951'\n",
    "}\n",
    "transition2 = {\n",
    "    'energy': 3.0, # Excited energy in eV\n",
    "    'osc_strength': '0.02'\n",
    "}\n",
    "transitions = [transition1, transition2]\n",
    "s.transitions = transitions\n",
    "s"
   ]
  },
  {
   "cell_type": "code",
   "execution_count": 56,
   "metadata": {},
   "outputs": [],
   "source": [
    "x = np.full(6, 4.0)"
   ]
  },
  {
   "cell_type": "code",
   "execution_count": 58,
   "metadata": {},
   "outputs": [],
   "source": [
    "x[5] = 10\n",
    "x = np.flip(x)"
   ]
  },
  {
   "cell_type": "code",
   "execution_count": 60,
   "metadata": {},
   "outputs": [],
   "source": [
    "x = np.full(6, 4.0)\n",
    "x.resize(3)"
   ]
  },
  {
   "cell_type": "code",
   "execution_count": 69,
   "metadata": {},
   "outputs": [
    {
     "data": {
      "text/plain": [
       "array([ 4., 56.])"
      ]
     },
     "execution_count": 69,
     "metadata": {},
     "output_type": "execute_result"
    }
   ],
   "source": [
    "np.delete(x, [1])"
   ]
  },
  {
   "cell_type": "code",
   "execution_count": 68,
   "metadata": {},
   "outputs": [
    {
     "data": {
      "text/plain": [
       "array([ 4.,  4., 56.])"
      ]
     },
     "execution_count": 68,
     "metadata": {},
     "output_type": "execute_result"
    }
   ],
   "source": [
    "x[2] = 56\n",
    "x"
   ]
  },
  {
   "cell_type": "code",
   "execution_count": null,
   "metadata": {},
   "outputs": [],
   "source": []
  }
 ],
 "metadata": {
  "kernelspec": {
   "display_name": "Python 3 (ipykernel)",
   "language": "python",
   "name": "python3"
  },
  "language_info": {
   "codemirror_mode": {
    "name": "ipython",
    "version": 3
   },
   "file_extension": ".py",
   "mimetype": "text/x-python",
   "name": "python",
   "nbconvert_exporter": "python",
   "pygments_lexer": "ipython3",
   "version": "3.8.10"
  }
 },
 "nbformat": 4,
 "nbformat_minor": 2
}
