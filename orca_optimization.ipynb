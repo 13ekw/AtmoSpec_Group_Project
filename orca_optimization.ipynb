{
 "cells": [
  {
   "cell_type": "code",
   "execution_count": 1,
   "metadata": {},
   "outputs": [
    {
     "data": {
      "application/javascript": [
       "IPython.OutputArea.prototype._should_scroll = function(lines) {\n",
       "    return false;\n",
       "}\n",
       "// Note that this must be in its own cell\n"
      ],
      "text/plain": [
       "<IPython.core.display.Javascript object>"
      ]
     },
     "metadata": {},
     "output_type": "display_data"
    }
   ],
   "source": [
    "%%javascript\n",
    "IPython.OutputArea.prototype._should_scroll = function(lines) {\n",
    "    return false;\n",
    "}\n",
    "// Note that this must be in its own cell"
   ]
  },
  {
   "cell_type": "code",
   "execution_count": 2,
   "metadata": {},
   "outputs": [
    {
     "data": {
      "application/vnd.jupyter.widget-view+json": {
       "model_id": "5a823ac62a1b4faaab26284dbe2f01e8",
       "version_major": 2,
       "version_minor": 0
      },
      "text/plain": []
     },
     "metadata": {},
     "output_type": "display_data"
    }
   ],
   "source": [
    "# External imports\n",
    "import ipywidgets as ipw\n",
    "#from jinja2 import Environment\n",
    "#from importlib_resources import files\n",
    "\n",
    "from aiida.orm import StructureData\n",
    "from aiida.orm import load_node\n",
    "from aiidalab_widgets_base import StructureBrowserWidget, StructureManagerWidget, StructureUploadWidget\n",
    "from aiidalab_widgets_base import SmilesWidget\n",
    "from aiidalab_widgets_base import BasicStructureEditor\n",
    "from aiidalab_widgets_base import WizardAppWidget\n",
    "#from aiidalab_widgets_base.bug_report import install_create_github_issue_exception_handler"
   ]
  },
  {
   "cell_type": "code",
   "execution_count": 3,
   "metadata": {
    "scrolled": false
   },
   "outputs": [
    {
     "data": {
      "application/vnd.jupyter.widget-view+json": {
       "model_id": "97c27b3070dc47f8b2eb0310d68b4c62",
       "version_major": 2,
       "version_minor": 0
      },
      "text/plain": [
       "WizardAppWidget(children=(HBox(children=(Button(description='Previous step', disabled=True, icon='step-backwar…"
      ]
     },
     "metadata": {},
     "output_type": "display_data"
    }
   ],
   "source": [
    "#from aiidalab_ispg.process import WorkChainSelector\n",
    "from aiidalab_ispg.steps import SubmitQeAppWorkChainStep\n",
    "from aiidalab_ispg.structures import StructureSelectionStep\n",
    "from aiidalab_ispg.steps import ViewQeAppWorkChainStatusAndResultsStep\n",
    "from aiidalab_ispg.steps import ViewSpectrumStep\n",
    "\n",
    "# DH: Our own hacked molecule viewer\n",
    "from aiidalab_ispg.widget_viewers.viewers import StructureDataViewer\n",
    "\n",
    "# DH This is for later for importing Jinja templates and styles\n",
    "#from aiidalab_ispg import static\n",
    "\n",
    "structure_manager_widget = StructureManagerWidget(\n",
    "    importers=[\n",
    "        StructureUploadWidget(title=\"Upload file\"),\n",
    "        SmilesWidget(title='SMILES'),\n",
    "        StructureBrowserWidget(title=\"AiiDA database\"),\n",
    "    ],\n",
    "    node_class='StructureData',\n",
    "    viewer=StructureDataViewer(downloadable=False,storable=False),\n",
    "#    editors = [\n",
    "#        BasicStructureEditor(title=\"Basic Editor\"),\n",
    "#    ],\n",
    ")\n",
    "\n",
    "structure_selection_step = StructureSelectionStep(manager=structure_manager_widget)\n",
    "structure_selection_step.auto_advance = True\n",
    "\n",
    "submit_orca_work_chain_step = SubmitQeAppWorkChainStep()\n",
    "submit_orca_work_chain_step.auto_advance = True\n",
    "\n",
    "view_orca_work_chain_status_and_results_step = ViewQeAppWorkChainStatusAndResultsStep()\n",
    "view_orca_work_chain_status_and_results_step.auto_advance = True\n",
    "\n",
    "view_spectrum_step = ViewSpectrumStep()\n",
    "\n",
    "# Link the application steps\n",
    "ipw.dlink((structure_selection_step, 'confirmed_structure'), (submit_orca_work_chain_step, 'input_structure'))\n",
    "ipw.dlink((submit_orca_work_chain_step, 'process'), (view_orca_work_chain_status_and_results_step, 'process'))\n",
    "ipw.dlink((view_orca_work_chain_status_and_results_step, 'process'), (view_spectrum_step, 'process'))\n",
    "\n",
    "# Add the application steps to the application\n",
    "app = WizardAppWidget(\n",
    "    steps=[\n",
    "        ('Select structure', structure_selection_step),\n",
    "        ('Submit work chain', submit_orca_work_chain_step),\n",
    "        ('Status & Results', view_orca_work_chain_status_and_results_step),\n",
    "        ('Spectrum', view_spectrum_step),\n",
    "    ])\n",
    "\n",
    "# Add process selection header\n",
    "#work_chain_selector = WorkChainSelector(layout=ipw.Layout(width='auto'))\n",
    "\n",
    "# Reset all subsequent steps in case that a new structure is selected\n",
    "def _observe_structure_selection(change):\n",
    "    with structure_selection_step.hold_sync():\n",
    "        if structure_selection_step.confirmed_structure is not None and \\\n",
    "                structure_selection_step.confirmed_structure != change['new']:\n",
    "            app.reset()\n",
    "structure_selection_step.observe(_observe_structure_selection, 'structure')\n",
    "\n",
    "display(app)"
   ]
  },
  {
   "cell_type": "code",
   "execution_count": 95,
   "metadata": {
    "scrolled": true
   },
   "outputs": [
    {
     "data": {
      "text/html": [
       "\n",
       "    <div class=\"bk-root\">\n",
       "        <a href=\"https://bokeh.org\" target=\"_blank\" class=\"bk-logo bk-logo-small bk-logo-notebook\"></a>\n",
       "        <span id=\"1002\">Loading BokehJS ...</span>\n",
       "    </div>"
      ]
     },
     "metadata": {},
     "output_type": "display_data"
    },
    {
     "data": {
      "application/javascript": [
       "\n",
       "(function(root) {\n",
       "  function now() {\n",
       "    return new Date();\n",
       "  }\n",
       "\n",
       "  const force = true;\n",
       "\n",
       "  if (typeof root._bokeh_onload_callbacks === \"undefined\" || force === true) {\n",
       "    root._bokeh_onload_callbacks = [];\n",
       "    root._bokeh_is_loading = undefined;\n",
       "  }\n",
       "\n",
       "  const JS_MIME_TYPE = 'application/javascript';\n",
       "  const HTML_MIME_TYPE = 'text/html';\n",
       "  const EXEC_MIME_TYPE = 'application/vnd.bokehjs_exec.v0+json';\n",
       "  const CLASS_NAME = 'output_bokeh rendered_html';\n",
       "\n",
       "  /**\n",
       "   * Render data to the DOM node\n",
       "   */\n",
       "  function render(props, node) {\n",
       "    const script = document.createElement(\"script\");\n",
       "    node.appendChild(script);\n",
       "  }\n",
       "\n",
       "  /**\n",
       "   * Handle when an output is cleared or removed\n",
       "   */\n",
       "  function handleClearOutput(event, handle) {\n",
       "    const cell = handle.cell;\n",
       "\n",
       "    const id = cell.output_area._bokeh_element_id;\n",
       "    const server_id = cell.output_area._bokeh_server_id;\n",
       "    // Clean up Bokeh references\n",
       "    if (id != null && id in Bokeh.index) {\n",
       "      Bokeh.index[id].model.document.clear();\n",
       "      delete Bokeh.index[id];\n",
       "    }\n",
       "\n",
       "    if (server_id !== undefined) {\n",
       "      // Clean up Bokeh references\n",
       "      const cmd_clean = \"from bokeh.io.state import curstate; print(curstate().uuid_to_server['\" + server_id + \"'].get_sessions()[0].document.roots[0]._id)\";\n",
       "      cell.notebook.kernel.execute(cmd_clean, {\n",
       "        iopub: {\n",
       "          output: function(msg) {\n",
       "            const id = msg.content.text.trim();\n",
       "            if (id in Bokeh.index) {\n",
       "              Bokeh.index[id].model.document.clear();\n",
       "              delete Bokeh.index[id];\n",
       "            }\n",
       "          }\n",
       "        }\n",
       "      });\n",
       "      // Destroy server and session\n",
       "      const cmd_destroy = \"import bokeh.io.notebook as ion; ion.destroy_server('\" + server_id + \"')\";\n",
       "      cell.notebook.kernel.execute(cmd_destroy);\n",
       "    }\n",
       "  }\n",
       "\n",
       "  /**\n",
       "   * Handle when a new output is added\n",
       "   */\n",
       "  function handleAddOutput(event, handle) {\n",
       "    const output_area = handle.output_area;\n",
       "    const output = handle.output;\n",
       "\n",
       "    // limit handleAddOutput to display_data with EXEC_MIME_TYPE content only\n",
       "    if ((output.output_type != \"display_data\") || (!Object.prototype.hasOwnProperty.call(output.data, EXEC_MIME_TYPE))) {\n",
       "      return\n",
       "    }\n",
       "\n",
       "    const toinsert = output_area.element.find(\".\" + CLASS_NAME.split(' ')[0]);\n",
       "\n",
       "    if (output.metadata[EXEC_MIME_TYPE][\"id\"] !== undefined) {\n",
       "      toinsert[toinsert.length - 1].firstChild.textContent = output.data[JS_MIME_TYPE];\n",
       "      // store reference to embed id on output_area\n",
       "      output_area._bokeh_element_id = output.metadata[EXEC_MIME_TYPE][\"id\"];\n",
       "    }\n",
       "    if (output.metadata[EXEC_MIME_TYPE][\"server_id\"] !== undefined) {\n",
       "      const bk_div = document.createElement(\"div\");\n",
       "      bk_div.innerHTML = output.data[HTML_MIME_TYPE];\n",
       "      const script_attrs = bk_div.children[0].attributes;\n",
       "      for (let i = 0; i < script_attrs.length; i++) {\n",
       "        toinsert[toinsert.length - 1].firstChild.setAttribute(script_attrs[i].name, script_attrs[i].value);\n",
       "        toinsert[toinsert.length - 1].firstChild.textContent = bk_div.children[0].textContent\n",
       "      }\n",
       "      // store reference to server id on output_area\n",
       "      output_area._bokeh_server_id = output.metadata[EXEC_MIME_TYPE][\"server_id\"];\n",
       "    }\n",
       "  }\n",
       "\n",
       "  function register_renderer(events, OutputArea) {\n",
       "\n",
       "    function append_mime(data, metadata, element) {\n",
       "      // create a DOM node to render to\n",
       "      const toinsert = this.create_output_subarea(\n",
       "        metadata,\n",
       "        CLASS_NAME,\n",
       "        EXEC_MIME_TYPE\n",
       "      );\n",
       "      this.keyboard_manager.register_events(toinsert);\n",
       "      // Render to node\n",
       "      const props = {data: data, metadata: metadata[EXEC_MIME_TYPE]};\n",
       "      render(props, toinsert[toinsert.length - 1]);\n",
       "      element.append(toinsert);\n",
       "      return toinsert\n",
       "    }\n",
       "\n",
       "    /* Handle when an output is cleared or removed */\n",
       "    events.on('clear_output.CodeCell', handleClearOutput);\n",
       "    events.on('delete.Cell', handleClearOutput);\n",
       "\n",
       "    /* Handle when a new output is added */\n",
       "    events.on('output_added.OutputArea', handleAddOutput);\n",
       "\n",
       "    /**\n",
       "     * Register the mime type and append_mime function with output_area\n",
       "     */\n",
       "    OutputArea.prototype.register_mime_type(EXEC_MIME_TYPE, append_mime, {\n",
       "      /* Is output safe? */\n",
       "      safe: true,\n",
       "      /* Index of renderer in `output_area.display_order` */\n",
       "      index: 0\n",
       "    });\n",
       "  }\n",
       "\n",
       "  // register the mime type if in Jupyter Notebook environment and previously unregistered\n",
       "  if (root.Jupyter !== undefined) {\n",
       "    const events = require('base/js/events');\n",
       "    const OutputArea = require('notebook/js/outputarea').OutputArea;\n",
       "\n",
       "    if (OutputArea.prototype.mime_types().indexOf(EXEC_MIME_TYPE) == -1) {\n",
       "      register_renderer(events, OutputArea);\n",
       "    }\n",
       "  }\n",
       "\n",
       "  \n",
       "  if (typeof (root._bokeh_timeout) === \"undefined\" || force === true) {\n",
       "    root._bokeh_timeout = Date.now() + 5000;\n",
       "    root._bokeh_failed_load = false;\n",
       "  }\n",
       "\n",
       "  const NB_LOAD_WARNING = {'data': {'text/html':\n",
       "     \"<div style='background-color: #fdd'>\\n\"+\n",
       "     \"<p>\\n\"+\n",
       "     \"BokehJS does not appear to have successfully loaded. If loading BokehJS from CDN, this \\n\"+\n",
       "     \"may be due to a slow or bad network connection. Possible fixes:\\n\"+\n",
       "     \"</p>\\n\"+\n",
       "     \"<ul>\\n\"+\n",
       "     \"<li>re-rerun `output_notebook()` to attempt to load from CDN again, or</li>\\n\"+\n",
       "     \"<li>use INLINE resources instead, as so:</li>\\n\"+\n",
       "     \"</ul>\\n\"+\n",
       "     \"<code>\\n\"+\n",
       "     \"from bokeh.resources import INLINE\\n\"+\n",
       "     \"output_notebook(resources=INLINE)\\n\"+\n",
       "     \"</code>\\n\"+\n",
       "     \"</div>\"}};\n",
       "\n",
       "  function display_loaded() {\n",
       "    const el = document.getElementById(\"1002\");\n",
       "    if (el != null) {\n",
       "      el.textContent = \"BokehJS is loading...\";\n",
       "    }\n",
       "    if (root.Bokeh !== undefined) {\n",
       "      if (el != null) {\n",
       "        el.textContent = \"BokehJS \" + root.Bokeh.version + \" successfully loaded.\";\n",
       "      }\n",
       "    } else if (Date.now() < root._bokeh_timeout) {\n",
       "      setTimeout(display_loaded, 100)\n",
       "    }\n",
       "  }\n",
       "\n",
       "\n",
       "  function run_callbacks() {\n",
       "    try {\n",
       "      root._bokeh_onload_callbacks.forEach(function(callback) {\n",
       "        if (callback != null)\n",
       "          callback();\n",
       "      });\n",
       "    } finally {\n",
       "      delete root._bokeh_onload_callbacks\n",
       "    }\n",
       "    console.debug(\"Bokeh: all callbacks have finished\");\n",
       "  }\n",
       "\n",
       "  function load_libs(css_urls, js_urls, callback) {\n",
       "    if (css_urls == null) css_urls = [];\n",
       "    if (js_urls == null) js_urls = [];\n",
       "\n",
       "    root._bokeh_onload_callbacks.push(callback);\n",
       "    if (root._bokeh_is_loading > 0) {\n",
       "      console.debug(\"Bokeh: BokehJS is being loaded, scheduling callback at\", now());\n",
       "      return null;\n",
       "    }\n",
       "    if (js_urls == null || js_urls.length === 0) {\n",
       "      run_callbacks();\n",
       "      return null;\n",
       "    }\n",
       "    console.debug(\"Bokeh: BokehJS not loaded, scheduling load and callback at\", now());\n",
       "    root._bokeh_is_loading = css_urls.length + js_urls.length;\n",
       "\n",
       "    function on_load() {\n",
       "      root._bokeh_is_loading--;\n",
       "      if (root._bokeh_is_loading === 0) {\n",
       "        console.debug(\"Bokeh: all BokehJS libraries/stylesheets loaded\");\n",
       "        run_callbacks()\n",
       "      }\n",
       "    }\n",
       "\n",
       "    function on_error(url) {\n",
       "      console.error(\"failed to load \" + url);\n",
       "    }\n",
       "\n",
       "    for (let i = 0; i < css_urls.length; i++) {\n",
       "      const url = css_urls[i];\n",
       "      const element = document.createElement(\"link\");\n",
       "      element.onload = on_load;\n",
       "      element.onerror = on_error.bind(null, url);\n",
       "      element.rel = \"stylesheet\";\n",
       "      element.type = \"text/css\";\n",
       "      element.href = url;\n",
       "      console.debug(\"Bokeh: injecting link tag for BokehJS stylesheet: \", url);\n",
       "      document.body.appendChild(element);\n",
       "    }\n",
       "\n",
       "    for (let i = 0; i < js_urls.length; i++) {\n",
       "      const url = js_urls[i];\n",
       "      const element = document.createElement('script');\n",
       "      element.onload = on_load;\n",
       "      element.onerror = on_error.bind(null, url);\n",
       "      element.async = false;\n",
       "      element.src = url;\n",
       "      console.debug(\"Bokeh: injecting script tag for BokehJS library: \", url);\n",
       "      document.head.appendChild(element);\n",
       "    }\n",
       "  };\n",
       "\n",
       "  function inject_raw_css(css) {\n",
       "    const element = document.createElement(\"style\");\n",
       "    element.appendChild(document.createTextNode(css));\n",
       "    document.body.appendChild(element);\n",
       "  }\n",
       "\n",
       "  \n",
       "  const js_urls = [\"https://cdn.bokeh.org/bokeh/release/bokeh-2.4.0.min.js\", \"https://cdn.bokeh.org/bokeh/release/bokeh-gl-2.4.0.min.js\", \"https://cdn.bokeh.org/bokeh/release/bokeh-widgets-2.4.0.min.js\", \"https://cdn.bokeh.org/bokeh/release/bokeh-tables-2.4.0.min.js\", \"https://cdn.bokeh.org/bokeh/release/bokeh-mathjax-2.4.0.min.js\"];\n",
       "  const css_urls = [];\n",
       "  \n",
       "\n",
       "  const inline_js = [\n",
       "    function(Bokeh) {\n",
       "      Bokeh.set_log_level(\"info\");\n",
       "    },\n",
       "    function(Bokeh) {\n",
       "    \n",
       "    \n",
       "    }\n",
       "  ];\n",
       "\n",
       "  function run_inline_js() {\n",
       "    \n",
       "    if (root.Bokeh !== undefined || force === true) {\n",
       "      \n",
       "    for (let i = 0; i < inline_js.length; i++) {\n",
       "      inline_js[i].call(root, root.Bokeh);\n",
       "    }\n",
       "    if (force === true) {\n",
       "        display_loaded();\n",
       "      }} else if (Date.now() < root._bokeh_timeout) {\n",
       "      setTimeout(run_inline_js, 100);\n",
       "    } else if (!root._bokeh_failed_load) {\n",
       "      console.log(\"Bokeh: BokehJS failed to load within specified timeout.\");\n",
       "      root._bokeh_failed_load = true;\n",
       "    } else if (force !== true) {\n",
       "      const cell = $(document.getElementById(\"1002\")).parents('.cell').data().cell;\n",
       "      cell.output_area.append_execute_result(NB_LOAD_WARNING)\n",
       "    }\n",
       "\n",
       "  }\n",
       "\n",
       "  if (root._bokeh_is_loading === 0) {\n",
       "    console.debug(\"Bokeh: BokehJS loaded, going straight to plotting\");\n",
       "    run_inline_js();\n",
       "  } else {\n",
       "    load_libs(css_urls, js_urls, function() {\n",
       "      console.debug(\"Bokeh: BokehJS plotting callback run at\", now());\n",
       "      run_inline_js();\n",
       "    });\n",
       "  }\n",
       "}(window));"
      ],
      "application/vnd.bokehjs_load.v0+json": "\n(function(root) {\n  function now() {\n    return new Date();\n  }\n\n  const force = true;\n\n  if (typeof root._bokeh_onload_callbacks === \"undefined\" || force === true) {\n    root._bokeh_onload_callbacks = [];\n    root._bokeh_is_loading = undefined;\n  }\n\n  \n\n  \n  if (typeof (root._bokeh_timeout) === \"undefined\" || force === true) {\n    root._bokeh_timeout = Date.now() + 5000;\n    root._bokeh_failed_load = false;\n  }\n\n  const NB_LOAD_WARNING = {'data': {'text/html':\n     \"<div style='background-color: #fdd'>\\n\"+\n     \"<p>\\n\"+\n     \"BokehJS does not appear to have successfully loaded. If loading BokehJS from CDN, this \\n\"+\n     \"may be due to a slow or bad network connection. Possible fixes:\\n\"+\n     \"</p>\\n\"+\n     \"<ul>\\n\"+\n     \"<li>re-rerun `output_notebook()` to attempt to load from CDN again, or</li>\\n\"+\n     \"<li>use INLINE resources instead, as so:</li>\\n\"+\n     \"</ul>\\n\"+\n     \"<code>\\n\"+\n     \"from bokeh.resources import INLINE\\n\"+\n     \"output_notebook(resources=INLINE)\\n\"+\n     \"</code>\\n\"+\n     \"</div>\"}};\n\n  function display_loaded() {\n    const el = document.getElementById(\"1002\");\n    if (el != null) {\n      el.textContent = \"BokehJS is loading...\";\n    }\n    if (root.Bokeh !== undefined) {\n      if (el != null) {\n        el.textContent = \"BokehJS \" + root.Bokeh.version + \" successfully loaded.\";\n      }\n    } else if (Date.now() < root._bokeh_timeout) {\n      setTimeout(display_loaded, 100)\n    }\n  }\n\n\n  function run_callbacks() {\n    try {\n      root._bokeh_onload_callbacks.forEach(function(callback) {\n        if (callback != null)\n          callback();\n      });\n    } finally {\n      delete root._bokeh_onload_callbacks\n    }\n    console.debug(\"Bokeh: all callbacks have finished\");\n  }\n\n  function load_libs(css_urls, js_urls, callback) {\n    if (css_urls == null) css_urls = [];\n    if (js_urls == null) js_urls = [];\n\n    root._bokeh_onload_callbacks.push(callback);\n    if (root._bokeh_is_loading > 0) {\n      console.debug(\"Bokeh: BokehJS is being loaded, scheduling callback at\", now());\n      return null;\n    }\n    if (js_urls == null || js_urls.length === 0) {\n      run_callbacks();\n      return null;\n    }\n    console.debug(\"Bokeh: BokehJS not loaded, scheduling load and callback at\", now());\n    root._bokeh_is_loading = css_urls.length + js_urls.length;\n\n    function on_load() {\n      root._bokeh_is_loading--;\n      if (root._bokeh_is_loading === 0) {\n        console.debug(\"Bokeh: all BokehJS libraries/stylesheets loaded\");\n        run_callbacks()\n      }\n    }\n\n    function on_error(url) {\n      console.error(\"failed to load \" + url);\n    }\n\n    for (let i = 0; i < css_urls.length; i++) {\n      const url = css_urls[i];\n      const element = document.createElement(\"link\");\n      element.onload = on_load;\n      element.onerror = on_error.bind(null, url);\n      element.rel = \"stylesheet\";\n      element.type = \"text/css\";\n      element.href = url;\n      console.debug(\"Bokeh: injecting link tag for BokehJS stylesheet: \", url);\n      document.body.appendChild(element);\n    }\n\n    for (let i = 0; i < js_urls.length; i++) {\n      const url = js_urls[i];\n      const element = document.createElement('script');\n      element.onload = on_load;\n      element.onerror = on_error.bind(null, url);\n      element.async = false;\n      element.src = url;\n      console.debug(\"Bokeh: injecting script tag for BokehJS library: \", url);\n      document.head.appendChild(element);\n    }\n  };\n\n  function inject_raw_css(css) {\n    const element = document.createElement(\"style\");\n    element.appendChild(document.createTextNode(css));\n    document.body.appendChild(element);\n  }\n\n  \n  const js_urls = [\"https://cdn.bokeh.org/bokeh/release/bokeh-2.4.0.min.js\", \"https://cdn.bokeh.org/bokeh/release/bokeh-gl-2.4.0.min.js\", \"https://cdn.bokeh.org/bokeh/release/bokeh-widgets-2.4.0.min.js\", \"https://cdn.bokeh.org/bokeh/release/bokeh-tables-2.4.0.min.js\", \"https://cdn.bokeh.org/bokeh/release/bokeh-mathjax-2.4.0.min.js\"];\n  const css_urls = [];\n  \n\n  const inline_js = [\n    function(Bokeh) {\n      Bokeh.set_log_level(\"info\");\n    },\n    function(Bokeh) {\n    \n    \n    }\n  ];\n\n  function run_inline_js() {\n    \n    if (root.Bokeh !== undefined || force === true) {\n      \n    for (let i = 0; i < inline_js.length; i++) {\n      inline_js[i].call(root, root.Bokeh);\n    }\n    if (force === true) {\n        display_loaded();\n      }} else if (Date.now() < root._bokeh_timeout) {\n      setTimeout(run_inline_js, 100);\n    } else if (!root._bokeh_failed_load) {\n      console.log(\"Bokeh: BokehJS failed to load within specified timeout.\");\n      root._bokeh_failed_load = true;\n    } else if (force !== true) {\n      const cell = $(document.getElementById(\"1002\")).parents('.cell').data().cell;\n      cell.output_area.append_execute_result(NB_LOAD_WARNING)\n    }\n\n  }\n\n  if (root._bokeh_is_loading === 0) {\n    console.debug(\"Bokeh: BokehJS loaded, going straight to plotting\");\n    run_inline_js();\n  } else {\n    load_libs(css_urls, js_urls, function() {\n      console.debug(\"Bokeh: BokehJS plotting callback run at\", now());\n      run_inline_js();\n    });\n  }\n}(window));"
     },
     "metadata": {},
     "output_type": "display_data"
    },
    {
     "data": {
      "text/html": [
       "\n",
       "\n",
       "\n",
       "\n",
       "\n",
       "\n",
       "  <div class=\"bk-root\" id=\"7679ec45-0cb5-4766-b515-901a896ef393\" data-root-id=\"1003\"></div>\n"
      ]
     },
     "metadata": {},
     "output_type": "display_data"
    },
    {
     "data": {
      "application/javascript": [
       "(function(root) {\n",
       "  function embed_document(root) {\n",
       "    \n",
       "  const docs_json = {\"80b312b1-93fa-44b0-acea-ca2d3778014b\":{\"defs\":[],\"roots\":{\"references\":[{\"attributes\":{\"below\":[{\"id\":\"1014\"}],\"center\":[{\"id\":\"1017\"},{\"id\":\"1021\"},{\"id\":\"1052\"}],\"left\":[{\"id\":\"1018\"}],\"renderers\":[{\"id\":\"1040\"},{\"id\":\"1058\"}],\"title\":{\"id\":\"1004\"},\"toolbar\":{\"id\":\"1029\"},\"x_range\":{\"id\":\"1006\"},\"x_scale\":{\"id\":\"1010\"},\"y_range\":{\"id\":\"1008\"},\"y_scale\":{\"id\":\"1012\"}},\"id\":\"1003\",\"subtype\":\"Figure\",\"type\":\"Plot\"},{\"attributes\":{\"data\":{\"x\":{\"__ndarray__\":\"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\",\"dtype\":\"float64\",\"order\":\"little\",\"shape\":[250]},\"y\":{\"__ndarray__\":\"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\",\"dtype\":\"float64\",\"order\":\"little\",\"shape\":[250]}},\"selected\":{\"id\":\"1070\"},\"selection_policy\":{\"id\":\"1069\"}},\"id\":\"1054\",\"type\":\"ColumnDataSource\"},{\"attributes\":{\"axis_label\":\"E / eV\",\"coordinates\":null,\"formatter\":{\"id\":\"1047\"},\"group\":null,\"major_label_policy\":{\"id\":\"1048\"},\"ticker\":{\"id\":\"1015\"}},\"id\":\"1014\",\"type\":\"LinearAxis\"},{\"attributes\":{\"line_alpha\":0.2,\"line_color\":\"#1f77b4\",\"line_width\":2,\"x\":{\"field\":\"x\"},\"y\":{\"field\":\"y\"}},\"id\":\"1039\",\"type\":\"Line\"},{\"attributes\":{\"line_color\":\"#1f77b4\",\"line_width\":2,\"x\":{\"field\":\"x\"},\"y\":{\"field\":\"y\"}},\"id\":\"1055\",\"type\":\"Line\"},{\"attributes\":{\"axis\":{\"id\":\"1014\"},\"coordinates\":null,\"group\":null,\"ticker\":null},\"id\":\"1017\",\"type\":\"Grid\"},{\"attributes\":{\"source\":{\"id\":\"1054\"}},\"id\":\"1059\",\"type\":\"CDSView\"},{\"attributes\":{},\"id\":\"1045\",\"type\":\"AllLabels\"},{\"attributes\":{\"data\":{\"x\":{\"__ndarray__\":\"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\",\"dtype\":\"float64\",\"order\":\"little\",\"shape\":[250]},\"y\":{\"__ndarray__\":\"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\",\"dtype\":\"float64\",\"order\":\"little\",\"shape\":[250]}},\"selected\":{\"id\":\"1050\"},\"selection_policy\":{\"id\":\"1049\"}},\"id\":\"1036\",\"type\":\"ColumnDataSource\"},{\"attributes\":{\"line_alpha\":0.1,\"line_color\":\"#1f77b4\",\"line_width\":2,\"x\":{\"field\":\"x\"},\"y\":{\"field\":\"y\"}},\"id\":\"1056\",\"type\":\"Line\"},{\"attributes\":{\"coordinates\":null,\"group\":null,\"text\":\"Spectrum test\"},\"id\":\"1004\",\"type\":\"Title\"},{\"attributes\":{},\"id\":\"1010\",\"type\":\"LinearScale\"},{\"attributes\":{},\"id\":\"1047\",\"type\":\"BasicTickFormatter\"},{\"attributes\":{},\"id\":\"1012\",\"type\":\"LinearScale\"},{\"attributes\":{\"coordinates\":null,\"data_source\":{\"id\":\"1054\"},\"glyph\":{\"id\":\"1055\"},\"group\":null,\"hover_glyph\":null,\"muted_glyph\":{\"id\":\"1057\"},\"nonselection_glyph\":{\"id\":\"1056\"},\"view\":{\"id\":\"1059\"}},\"id\":\"1058\",\"type\":\"GlyphRenderer\"},{\"attributes\":{},\"id\":\"1015\",\"type\":\"BasicTicker\"},{\"attributes\":{\"axis_label\":\"I / cm^-2 * molecule ^ -1\",\"coordinates\":null,\"formatter\":{\"id\":\"1044\"},\"group\":null,\"major_label_policy\":{\"id\":\"1045\"},\"ticker\":{\"id\":\"1019\"}},\"id\":\"1018\",\"type\":\"LinearAxis\"},{\"attributes\":{\"axis\":{\"id\":\"1018\"},\"coordinates\":null,\"dimension\":1,\"group\":null,\"ticker\":null},\"id\":\"1021\",\"type\":\"Grid\"},{\"attributes\":{},\"id\":\"1048\",\"type\":\"AllLabels\"},{\"attributes\":{},\"id\":\"1019\",\"type\":\"BasicTicker\"},{\"attributes\":{\"coordinates\":null,\"group\":null,\"items\":[{\"id\":\"1053\"}]},\"id\":\"1052\",\"type\":\"Legend\"},{\"attributes\":{},\"id\":\"1027\",\"type\":\"HelpTool\"},{\"attributes\":{\"coordinates\":null,\"data_source\":{\"id\":\"1036\"},\"glyph\":{\"id\":\"1037\"},\"group\":null,\"hover_glyph\":null,\"muted_glyph\":{\"id\":\"1039\"},\"nonselection_glyph\":{\"id\":\"1038\"},\"view\":{\"id\":\"1041\"}},\"id\":\"1040\",\"type\":\"GlyphRenderer\"},{\"attributes\":{},\"id\":\"1022\",\"type\":\"PanTool\"},{\"attributes\":{\"line_color\":\"#1f77b4\",\"line_width\":2,\"x\":{\"field\":\"x\"},\"y\":{\"field\":\"y\"}},\"id\":\"1037\",\"type\":\"Line\"},{\"attributes\":{\"overlay\":{\"id\":\"1028\"}},\"id\":\"1024\",\"type\":\"BoxZoomTool\"},{\"attributes\":{},\"id\":\"1069\",\"type\":\"UnionRenderers\"},{\"attributes\":{\"line_alpha\":0.1,\"line_color\":\"#1f77b4\",\"line_width\":2,\"x\":{\"field\":\"x\"},\"y\":{\"field\":\"y\"}},\"id\":\"1038\",\"type\":\"Line\"},{\"attributes\":{},\"id\":\"1025\",\"type\":\"SaveTool\"},{\"attributes\":{\"source\":{\"id\":\"1036\"}},\"id\":\"1041\",\"type\":\"CDSView\"},{\"attributes\":{},\"id\":\"1026\",\"type\":\"ResetTool\"},{\"attributes\":{},\"id\":\"1070\",\"type\":\"Selection\"},{\"attributes\":{\"label\":{\"value\":\"legend title\"},\"renderers\":[{\"id\":\"1040\"}]},\"id\":\"1053\",\"type\":\"LegendItem\"},{\"attributes\":{},\"id\":\"1049\",\"type\":\"UnionRenderers\"},{\"attributes\":{\"bottom_units\":\"screen\",\"coordinates\":null,\"fill_alpha\":0.5,\"fill_color\":\"lightgrey\",\"group\":null,\"left_units\":\"screen\",\"level\":\"overlay\",\"line_alpha\":1.0,\"line_color\":\"black\",\"line_dash\":[4,4],\"line_width\":2,\"right_units\":\"screen\",\"syncable\":false,\"top_units\":\"screen\"},\"id\":\"1028\",\"type\":\"BoxAnnotation\"},{\"attributes\":{},\"id\":\"1006\",\"type\":\"DataRange1d\"},{\"attributes\":{\"tools\":[{\"id\":\"1022\"},{\"id\":\"1023\"},{\"id\":\"1024\"},{\"id\":\"1025\"},{\"id\":\"1026\"},{\"id\":\"1027\"}]},\"id\":\"1029\",\"type\":\"Toolbar\"},{\"attributes\":{},\"id\":\"1050\",\"type\":\"Selection\"},{\"attributes\":{},\"id\":\"1023\",\"type\":\"WheelZoomTool\"},{\"attributes\":{},\"id\":\"1044\",\"type\":\"BasicTickFormatter\"},{\"attributes\":{},\"id\":\"1008\",\"type\":\"DataRange1d\"},{\"attributes\":{\"line_alpha\":0.2,\"line_color\":\"#1f77b4\",\"line_width\":2,\"x\":{\"field\":\"x\"},\"y\":{\"field\":\"y\"}},\"id\":\"1057\",\"type\":\"Line\"}],\"root_ids\":[\"1003\"]},\"title\":\"Bokeh Application\",\"version\":\"2.4.0\"}};\n",
       "  const render_items = [{\"docid\":\"80b312b1-93fa-44b0-acea-ca2d3778014b\",\"root_ids\":[\"1003\"],\"roots\":{\"1003\":\"7679ec45-0cb5-4766-b515-901a896ef393\"}}];\n",
       "  root.Bokeh.embed.embed_items_notebook(docs_json, render_items);\n",
       "\n",
       "  }\n",
       "  if (root.Bokeh !== undefined) {\n",
       "    embed_document(root);\n",
       "  } else {\n",
       "    let attempts = 0;\n",
       "    const timer = setInterval(function(root) {\n",
       "      if (root.Bokeh !== undefined) {\n",
       "        clearInterval(timer);\n",
       "        embed_document(root);\n",
       "      } else {\n",
       "        attempts++;\n",
       "        if (attempts > 100) {\n",
       "          clearInterval(timer);\n",
       "          console.log(\"Bokeh: ERROR: Unable to run BokehJS code because BokehJS library is missing\");\n",
       "        }\n",
       "      }\n",
       "    }, 10, root)\n",
       "  }\n",
       "})(window);"
      ],
      "application/vnd.bokehjs_exec.v0+json": ""
     },
     "metadata": {
      "application/vnd.bokehjs_exec.v0+json": {
       "id": "1003"
      }
     },
     "output_type": "display_data"
    }
   ],
   "source": [
    "from bokeh.plotting import figure\n",
    "from bokeh.io import show, output_notebook\n",
    "output_notebook()\n",
    "p = figure(title=\"Spectrum test\",  x_axis_label='E / eV',   y_axis_label='I / cm^-2 * molecule ^ -1')\n",
    "p.line(x, y, legend_label='legend title', line_width=2)\n",
    "p.line(x, y, line_width=2)\n",
    "show(p)"
   ]
  },
  {
   "cell_type": "code",
   "execution_count": 26,
   "metadata": {},
   "outputs": [],
   "source": [
    "#for xi, yi in zip(x, y):\n",
    "#    print(xi, yi)"
   ]
  },
  {
   "cell_type": "code",
   "execution_count": 57,
   "metadata": {},
   "outputs": [
    {
     "data": {
      "application/javascript": [
       "IPython.OutputArea.prototype._should_scroll = function(lines) {\n",
       "    return false;\n",
       "}\n"
      ],
      "text/plain": [
       "<IPython.core.display.Javascript object>"
      ]
     },
     "metadata": {},
     "output_type": "display_data"
    }
   ],
   "source": [
    "%%javascript\n",
    "IPython.OutputArea.prototype._should_scroll = function(lines) {\n",
    "    return false;\n",
    "}"
   ]
  },
  {
   "cell_type": "code",
   "execution_count": 64,
   "metadata": {
    "scrolled": true
   },
   "outputs": [],
   "source": [
    "import bqplot.pyplot as plt\n",
    "import ipywidgets as widgets\n",
    "\n",
    "def plot_spectrum(width, kernel):\n",
    "    transition1 = {\n",
    "        'energy': 1, # Excited energy in eV\n",
    "        'osc_strength': '0.016510951'\n",
    "    }\n",
    "    transition2 = {\n",
    "        'energy': 2.0, # Excited energy in eV\n",
    "        'osc_strength': '0.05'\n",
    "    }\n",
    "    transitions = [transition1, transition2]\n",
    "    nsample = 1\n",
    "    spec = Spectrum(transitions, nsample)\n",
    "    if kernel == 'lorentzian':\n",
    "        x, y = spec.get_lorentzian_spectrum(width, 'ev', 'cross_section')\n",
    "    elif kernel == 'gaussian':\n",
    "        x, y = spec.get_gaussian_spectrum(width, 'ev', 'cross_section')\n",
    "    else:\n",
    "        print(\"ERROR\")\n",
    "\n",
    "    fig = plt.figure(title=\"title title\")  \n",
    "    plt.plot(x, y)\n",
    "    plt.xlabel(\"Energy\")\n",
    "    plt.ylabel(\"Intensity\")\n",
    "    plt.show()"
   ]
  },
  {
   "cell_type": "code",
   "execution_count": 65,
   "metadata": {},
   "outputs": [
    {
     "data": {
      "application/vnd.jupyter.widget-view+json": {
       "model_id": "35ba3d475caf48d0a4e54a57a7da98e9",
       "version_major": 2,
       "version_minor": 0
      },
      "text/plain": [
       "interactive(children=(FloatSlider(value=0.5, description='width', max=1.0, min=0.05, step=0.05), Dropdown(desc…"
      ]
     },
     "metadata": {},
     "output_type": "display_data"
    }
   ],
   "source": [
    "_ = widgets.interact(plot_spectrum, width=(0.05, 1.0, 0.05), kernel=['gaussian', 'lorentzian'])"
   ]
  },
  {
   "cell_type": "code",
   "execution_count": 11,
   "metadata": {},
   "outputs": [],
   "source": [
    "%aiida\n",
    "n = load_node(pk=255)\n",
    "output_params = n.outputs.output_parameters.get_dict()"
   ]
  },
  {
   "cell_type": "code",
   "execution_count": 12,
   "metadata": {},
   "outputs": [
    {
     "data": {
      "text/plain": [
       "dict_keys(['nmo', 'mult', 'homos', 'natom', 'charge', 'etoscs', 'etsecs', 'etsyms', 'nbasis', 'atomnos', 'moments', 'elements', 'etrotats', 'metadata', 'scfvalues', 'transprop', 'atomcoords', 'atommasses', 'etenergies', 'moenergies', 'scftargets', 'atomcharges', 'scfenergies', 'coreelectrons'])"
      ]
     },
     "execution_count": 12,
     "metadata": {},
     "output_type": "execute_result"
    }
   ],
   "source": [
    "output_params"
   ]
  },
  {
   "cell_type": "code",
   "execution_count": 16,
   "metadata": {},
   "outputs": [],
   "source": [
    "en = output_params['etenergies']\n",
    "osc = output_params['etoscs']"
   ]
  },
  {
   "cell_type": "code",
   "execution_count": 27,
   "metadata": {},
   "outputs": [],
   "source": [
    "CM2EV = 1 / 8065.7\n",
    "transitions = [{'energy': tr[0]*CM2EV, 'osc_strength': tr[1] } for tr in zip(en, osc)]"
   ]
  },
  {
   "cell_type": "code",
   "execution_count": 28,
   "metadata": {},
   "outputs": [
    {
     "data": {
      "text/plain": [
       "[{'energy': 4.416082919027487, 'osc_strength': 0.0},\n",
       " {'energy': 4.617131805051018, 'osc_strength': 0.0},\n",
       " {'energy': 4.618024474007216, 'osc_strength': 0.0}]"
      ]
     },
     "execution_count": 28,
     "metadata": {},
     "output_type": "execute_result"
    }
   ],
   "source": [
    "transitions"
   ]
  },
  {
   "cell_type": "code",
   "execution_count": 197,
   "metadata": {},
   "outputs": [],
   "source": [
    "import traitlets\n",
    "import matplotlib.pyplot as plt\n",
    "\n",
    "class SpectrumWidget(ipw.VBox):\n",
    "\n",
    "    transitions = traitlets.List()\n",
    "    \n",
    "    def __init__(self, **kwargs):\n",
    "        title = ipw.HTML(\n",
    "            \"\"\"<div style=\"padding-top: 0px; padding-bottom: 0px\">\n",
    "            <h4>UV/Vis Spectrum</h4></div>\"\"\"\n",
    "        )\n",
    "        self.output = ipw.Output()\n",
    "        self.spectrum_container = ipw.Box()\n",
    "        self.width_slider = ipw.FloatSlider(min=0.05,max=1,step=0.05, value=0.5, description=\"Width / eV\")\n",
    "        self.kernel_selector = ipw.ToggleButtons(\n",
    "            options=['gaussian', 'lorentzian'], # TODO: None option\n",
    "            description='Broadening kernel:',\n",
    "                disabled=False,\n",
    "                button_style='info', # 'success', 'info', 'warning', 'danger' or ''\n",
    "                tooltips=['Description of slow', 'Description of regular', 'Description of fast'],\n",
    "        )\n",
    "        \n",
    "        super().__init__([title, self.kernel_selector, self.width_slider, self.spectrum_container, self.output], **kwargs)\n",
    "        \n",
    "    def _plot_spectrum(self, kernel, width):\n",
    "        # TODO: Pass in number of samples somehow\n",
    "        \n",
    "        if not self._validate_transitions():\n",
    "            return\n",
    "        \n",
    "        nsample = 1\n",
    "        spec = Spectrum(transitions, nsample)\n",
    "        energy_unit = 'eV'\n",
    "        intensity_unit = 'cm^-1'\n",
    "        if kernel == 'lorentzian':\n",
    "            x, y = spec.get_lorentzian_spectrum(width, energy_unit, intensity_unit)\n",
    "        elif kernel == 'gaussian':\n",
    "            x, y = spec.get_gaussian_spectrum(width, energy_unit, intensity_unit)\n",
    "        else:\n",
    "            with self.output:\n",
    "                print(\"Invalid broadening type\")\n",
    "                return\n",
    "\n",
    "        # Determine min max of x and y axes so that they\n",
    "        # don't change when changing width\n",
    "        fig = plt.figure()  \n",
    "        plt.plot(x, y)\n",
    "        plt.xlabel(f\"Energy / {energy_unit}\")\n",
    "        plt.ylabel(f\"Intensity / {intensity_unit}\")\n",
    "        plt.show()\n",
    "    \n",
    "    def _validate_transitions(self):\n",
    "        # TODO: Validate that transitions list is correct\n",
    "        for tr in self.transitions:\n",
    "            if not isinstance(tr, dict) or ( \n",
    "                'energy' not in tr or\n",
    "                'osc_strength' not in tr):\n",
    "                with self.output:\n",
    "                    print('Invalid transition', tr)\n",
    "                    return False\n",
    "                    \n",
    "        return True\n",
    "    \n",
    "    def _show_spectrum(self):\n",
    "        self.output.clear_output()\n",
    "        if self._validate_transitions:\n",
    "            spectrum = ipw.interactive_output(\n",
    "                self._plot_spectrum,\n",
    "                {'width': self.width_slider, \n",
    "                 'kernel': self.kernel_selector}\n",
    "            )\n",
    "            self.spectrum_container.children = [spectrum]\n",
    "    \n",
    "    @traitlets.observe(\"transitions\")\n",
    "    def _observe_transitions(self, change):\n",
    "        self._show_spectrum()"
   ]
  },
  {
   "cell_type": "code",
   "execution_count": 198,
   "metadata": {},
   "outputs": [
    {
     "data": {
      "application/vnd.jupyter.widget-view+json": {
       "model_id": "7a63ed4b95c64d7daba0d6a21fb778b5",
       "version_major": 2,
       "version_minor": 0
      },
      "text/plain": [
       "SpectrumWidget(children=(HTML(value='<div style=\"padding-top: 0px; padding-bottom: 0px\">\\n            <h4>UV/V…"
      ]
     },
     "metadata": {},
     "output_type": "display_data"
    }
   ],
   "source": [
    "w = SpectrumWidget()\n",
    "#s = w._plot_spectrum('gaussian', 0.05)\n",
    "w"
   ]
  },
  {
   "cell_type": "code",
   "execution_count": 199,
   "metadata": {
    "scrolled": true
   },
   "outputs": [],
   "source": [
    "w.transitions = transitions\n",
    "#b = ipw.Box()\n",
    "#b.children"
   ]
  },
  {
   "cell_type": "code",
   "execution_count": 5,
   "metadata": {},
   "outputs": [
    {
     "data": {
      "text/plain": [
       "2"
      ]
     },
     "execution_count": 5,
     "metadata": {},
     "output_type": "execute_result"
    }
   ],
   "source": [
    "max(2,1)"
   ]
  },
  {
   "cell_type": "code",
   "execution_count": 38,
   "metadata": {},
   "outputs": [],
   "source": [
    "from traitlets import TraitType\n",
    "# TODO: Define our own TraitType for electronic transitions\n",
    "# with custom validation logic\n",
    "class ElectronicTransition(TraitType):\n",
    "    \"\"\"List of electronic transitions in dict type in atomic units\"\"\"\n",
    "    \n",
    "    info_text = 'an (energy, osc_strength) tuple'\n",
    "    \n",
    "    def validate(self, obj, value):\n",
    "        if isinstance(value, dict):\n",
    "            if 'energy' in value and 'osc_strength' in value and len(dict.keys()) == 2:\n",
    "                return value\n",
    "        self.error(obj, value)\n",
    "        \n",
    "e = ElectronicTransition()"
   ]
  }
 ],
 "metadata": {
  "kernelspec": {
   "display_name": "Python 3 (ipykernel)",
   "language": "python",
   "name": "python3"
  },
  "language_info": {
   "codemirror_mode": {
    "name": "ipython",
    "version": 3
   },
   "file_extension": ".py",
   "mimetype": "text/x-python",
   "name": "python",
   "nbconvert_exporter": "python",
   "pygments_lexer": "ipython3",
   "version": "3.8.10"
  }
 },
 "nbformat": 4,
 "nbformat_minor": 2
}
