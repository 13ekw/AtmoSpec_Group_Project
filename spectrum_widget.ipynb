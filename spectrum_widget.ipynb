{
 "cells": [
  {
   "cell_type": "code",
   "execution_count": null,
   "id": "d8f591d5",
   "metadata": {},
   "outputs": [],
   "source": [
    "from aiida import load_profile\n",
    "from aiida.orm import load_node\n",
    "import ipywidgets as ipw\n",
    "\n",
    "load_profile()"
   ]
  },
  {
   "cell_type": "code",
   "execution_count": null,
   "id": "7b5e2ac0",
   "metadata": {},
   "outputs": [],
   "source": [
    "from aiidalab_ispg.steps import ViewSpectrumStep\n",
    "from aiidalab_ispg import WorkChainSelector\n",
    "\n",
    "widget = ViewSpectrumStep()\n",
    "\n",
    "WORKCHAIN_LABEL = \"AtmospecWorkChain\"\n",
    "work_chain_selector = WorkChainSelector(workchain_label=WORKCHAIN_LABEL, layout=ipw.Layout(width='auto'))\n",
    "\n",
    "def _observe_process_selection(change):\n",
    "    if change['old'] == change['new']:\n",
    "        return\n",
    "    pk = change['new']\n",
    "    if pk is None:\n",
    "        widget.reset()\n",
    "        return\n",
    "    process = load_node(pk)\n",
    "    if not process.is_finished_ok:\n",
    "        widget.reset()\n",
    "        return\n",
    "    widget.process = process\n",
    "\n",
    "work_chain_selector.observe(_observe_process_selection, 'value')\n",
    "\n",
    "display(ipw.VBox(children=[work_chain_selector, widget]))"
   ]
  },
  {
   "cell_type": "code",
   "execution_count": null,
   "id": "546770c3",
   "metadata": {},
   "outputs": [],
   "source": [
    "#fig = widget.spectrum.figure.get_figure()\n",
    "#for g in fig.renderers:\n",
    "#    print(g)"
   ]
  },
  {
   "cell_type": "code",
   "execution_count": null,
   "id": "5f2bb577",
   "metadata": {},
   "outputs": [],
   "source": [
    "x = [0.0, 2.0]\n",
    "y = [0.0, 2.0]\n",
    "line_dash=\"dashed\",\n",
    "line_color=\"orange\",\n",
    "#widget.spectrum.plot_line(x, y, label=\"test\", line_color=\"orange\", line_dash=\"dashed\")"
   ]
  },
  {
   "cell_type": "code",
   "execution_count": null,
   "id": "a3292ea3",
   "metadata": {},
   "outputs": [],
   "source": [
    "#widget.spectrum.remove_line(\"test\")"
   ]
  }
 ],
 "metadata": {
  "kernelspec": {
   "display_name": "Python 3 (ipykernel)",
   "language": "python",
   "name": "python3"
  },
  "language_info": {
   "codemirror_mode": {
    "name": "ipython",
    "version": 3
   },
   "file_extension": ".py",
   "mimetype": "text/x-python",
   "name": "python",
   "nbconvert_exporter": "python",
   "pygments_lexer": "ipython3",
   "version": "3.7.9"
  }
 },
 "nbformat": 4,
 "nbformat_minor": 5
}
